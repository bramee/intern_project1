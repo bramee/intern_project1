{
 "cells": [
  {
   "cell_type": "markdown",
   "metadata": {},
   "source": [
    "Write a python program to scrape data for “Data Analyst” Job position in “Bangalore” location. You have to scrape the job-title, job-location, company_name,experience_required. You have to scrape first 10 jobs data"
   ]
  },
  {
   "cell_type": "code",
   "execution_count": 1,
   "metadata": {},
   "outputs": [
    {
     "name": "stdout",
     "output_type": "stream",
     "text": [
      "Collecting selenium\n",
      "  Downloading selenium-3.141.0-py2.py3-none-any.whl (904 kB)\n",
      "Requirement already satisfied: urllib3 in c:\\users\\bramee\\anaconda3\\lib\\site-packages (from selenium) (1.25.11)\n",
      "Installing collected packages: selenium\n",
      "Successfully installed selenium-3.141.0\n"
     ]
    }
   ],
   "source": [
    "!pip install selenium"
   ]
  },
  {
   "cell_type": "code",
   "execution_count": 519,
   "metadata": {},
   "outputs": [],
   "source": [
    "import selenium\n",
    "import pandas as pd\n",
    "from selenium import webdriver"
   ]
  },
  {
   "cell_type": "code",
   "execution_count": 520,
   "metadata": {},
   "outputs": [],
   "source": [
    "driver = webdriver.Chrome(\"chromedriver.exe\")"
   ]
  },
  {
   "cell_type": "code",
   "execution_count": 521,
   "metadata": {},
   "outputs": [],
   "source": [
    "url = ' https://www.naukri.com/'\n",
    "driver.get(url)"
   ]
  },
  {
   "cell_type": "code",
   "execution_count": 13,
   "metadata": {},
   "outputs": [
    {
     "data": {
      "text/plain": [
       "<selenium.webdriver.remote.webelement.WebElement (session=\"82cd7db6e14cdf24003217bddb48ca23\", element=\"993b40ff-456e-476a-91cf-114fc4f93358\")>"
      ]
     },
     "execution_count": 13,
     "metadata": {},
     "output_type": "execute_result"
    }
   ],
   "source": [
    "search_job = driver.find_element_by_id('qsb-keyword-sugg')\n",
    "search_job"
   ]
  },
  {
   "cell_type": "code",
   "execution_count": 14,
   "metadata": {},
   "outputs": [],
   "source": [
    "search_job.send_keys(\"Data Analyst\")"
   ]
  },
  {
   "cell_type": "code",
   "execution_count": 15,
   "metadata": {},
   "outputs": [],
   "source": [
    "search_loc = driver.find_element_by_id('qsb-location-sugg')\n",
    "search_loc.send_keys(\"Bangalore\")"
   ]
  },
  {
   "cell_type": "code",
   "execution_count": 16,
   "metadata": {},
   "outputs": [],
   "source": [
    "search_btn = driver.find_element_by_xpath(\"/html/body/div[1]/div[3]/div[2]/section/div/form/div[3]/button\")\n",
    "search_btn.click()"
   ]
  },
  {
   "cell_type": "code",
   "execution_count": 23,
   "metadata": {
    "collapsed": true
   },
   "outputs": [
    {
     "data": {
      "text/plain": [
       "[<selenium.webdriver.remote.webelement.WebElement (session=\"82cd7db6e14cdf24003217bddb48ca23\", element=\"04fb66aa-4708-44b2-9761-e202c08f6cb6\")>,\n",
       " <selenium.webdriver.remote.webelement.WebElement (session=\"82cd7db6e14cdf24003217bddb48ca23\", element=\"04c963ba-868e-48fa-b6c2-4561d4a0b8a7\")>,\n",
       " <selenium.webdriver.remote.webelement.WebElement (session=\"82cd7db6e14cdf24003217bddb48ca23\", element=\"e9fb0ee3-9092-425f-8682-474021eabf45\")>,\n",
       " <selenium.webdriver.remote.webelement.WebElement (session=\"82cd7db6e14cdf24003217bddb48ca23\", element=\"ab70365d-249d-425e-8bfe-dc4b028e3ec6\")>,\n",
       " <selenium.webdriver.remote.webelement.WebElement (session=\"82cd7db6e14cdf24003217bddb48ca23\", element=\"3187c175-652e-4019-9b44-1a42db44dd03\")>,\n",
       " <selenium.webdriver.remote.webelement.WebElement (session=\"82cd7db6e14cdf24003217bddb48ca23\", element=\"f98276c4-e7c3-40c2-8ddd-95e5d46e957b\")>,\n",
       " <selenium.webdriver.remote.webelement.WebElement (session=\"82cd7db6e14cdf24003217bddb48ca23\", element=\"01d85ab1-d9f7-4e66-8a44-8a528ffd455c\")>,\n",
       " <selenium.webdriver.remote.webelement.WebElement (session=\"82cd7db6e14cdf24003217bddb48ca23\", element=\"576e9594-9ae0-4c57-8095-01c013ba8b3f\")>,\n",
       " <selenium.webdriver.remote.webelement.WebElement (session=\"82cd7db6e14cdf24003217bddb48ca23\", element=\"a45cec91-acac-41a3-a0f1-4516efb9801d\")>,\n",
       " <selenium.webdriver.remote.webelement.WebElement (session=\"82cd7db6e14cdf24003217bddb48ca23\", element=\"9e53aac3-9e20-4e35-961c-2aa839df9f64\")>,\n",
       " <selenium.webdriver.remote.webelement.WebElement (session=\"82cd7db6e14cdf24003217bddb48ca23\", element=\"a279c7ce-4695-4215-9a01-16d6ccf32398\")>,\n",
       " <selenium.webdriver.remote.webelement.WebElement (session=\"82cd7db6e14cdf24003217bddb48ca23\", element=\"30c65916-e8dc-4a7c-a59f-fccfb6efdd1a\")>,\n",
       " <selenium.webdriver.remote.webelement.WebElement (session=\"82cd7db6e14cdf24003217bddb48ca23\", element=\"b2d07266-4195-4959-b602-3fb5166df41d\")>,\n",
       " <selenium.webdriver.remote.webelement.WebElement (session=\"82cd7db6e14cdf24003217bddb48ca23\", element=\"7ec71af1-62c5-42d5-8af8-257baf124a35\")>,\n",
       " <selenium.webdriver.remote.webelement.WebElement (session=\"82cd7db6e14cdf24003217bddb48ca23\", element=\"d4c0279b-66d2-47e0-a77e-97041f74c53e\")>,\n",
       " <selenium.webdriver.remote.webelement.WebElement (session=\"82cd7db6e14cdf24003217bddb48ca23\", element=\"9fc15bc4-2671-4a8e-905f-6e0f9fecc358\")>,\n",
       " <selenium.webdriver.remote.webelement.WebElement (session=\"82cd7db6e14cdf24003217bddb48ca23\", element=\"b67d7470-ad40-440f-b719-3adc6b61e399\")>,\n",
       " <selenium.webdriver.remote.webelement.WebElement (session=\"82cd7db6e14cdf24003217bddb48ca23\", element=\"ddcbd737-ecf0-49b7-8327-74704d01c5de\")>,\n",
       " <selenium.webdriver.remote.webelement.WebElement (session=\"82cd7db6e14cdf24003217bddb48ca23\", element=\"60208f89-236d-4d57-aaff-9be17a513628\")>,\n",
       " <selenium.webdriver.remote.webelement.WebElement (session=\"82cd7db6e14cdf24003217bddb48ca23\", element=\"41b59714-2a75-4536-9b09-8f099eeda563\")>]"
      ]
     },
     "execution_count": 23,
     "metadata": {},
     "output_type": "execute_result"
    }
   ],
   "source": [
    "title_tag = driver.find_elements_by_xpath(\"//a[@class= 'title fw500 ellipsis']\")\n",
    "title_tag"
   ]
  },
  {
   "cell_type": "code",
   "execution_count": 24,
   "metadata": {},
   "outputs": [
    {
     "data": {
      "text/plain": [
       "['Business Analyst / Data Analyst - SQL Queries, Power BI & Python exp.',\n",
       " 'Senior Data Analyst',\n",
       " 'Immediate job openings For Partner Consultant - Sizing(Data Analyst) ',\n",
       " 'Data Analyst',\n",
       " 'Data Analyst',\n",
       " 'Senior Data Analyst',\n",
       " 'Senior Data Analyst',\n",
       " 'Hiring- SR Data Analyst /Bangalore Start Up Company',\n",
       " 'Senior Data Analyst',\n",
       " 'Data Analyst, Component Engineering',\n",
       " 'Data Analyst(Immediate) - GSR Buz Services - Bangalore',\n",
       " 'Excel VBA Jobs Bangalore | VBA data analyst Jobs',\n",
       " 'Data Analyst',\n",
       " 'Business Analyst / Data Analyst - SQL Queries, Power BI & Python exp.',\n",
       " 'Data Analyst',\n",
       " 'Hiring For Data Analyst @ Flipkart on Contract',\n",
       " 'Business Data Analyst - MIS & Reporting',\n",
       " 'Data Analyst',\n",
       " 'Lab Data Analyst - SAS Progamming',\n",
       " 'Lead Data Analyst']"
      ]
     },
     "execution_count": 24,
     "metadata": {},
     "output_type": "execute_result"
    }
   ],
   "source": [
    "job_title =[]\n",
    "\n",
    "for i in title_tag:\n",
    "    job_title.append(i.text)\n",
    "job_title"
   ]
  },
  {
   "cell_type": "code",
   "execution_count": 25,
   "metadata": {
    "collapsed": true
   },
   "outputs": [
    {
     "data": {
      "text/plain": [
       "[<selenium.webdriver.remote.webelement.WebElement (session=\"82cd7db6e14cdf24003217bddb48ca23\", element=\"2e1dcf2d-8371-4715-a831-2696e4405b9e\")>,\n",
       " <selenium.webdriver.remote.webelement.WebElement (session=\"82cd7db6e14cdf24003217bddb48ca23\", element=\"257f098e-686e-4999-b117-c2670041e6c5\")>,\n",
       " <selenium.webdriver.remote.webelement.WebElement (session=\"82cd7db6e14cdf24003217bddb48ca23\", element=\"23bbb264-a5a5-4b04-8017-ce9a874c6167\")>,\n",
       " <selenium.webdriver.remote.webelement.WebElement (session=\"82cd7db6e14cdf24003217bddb48ca23\", element=\"b7e7f4f3-5844-491c-b24e-2faaec222492\")>,\n",
       " <selenium.webdriver.remote.webelement.WebElement (session=\"82cd7db6e14cdf24003217bddb48ca23\", element=\"c2d96cef-b3bc-4a03-86c0-8f9d4f8b5343\")>,\n",
       " <selenium.webdriver.remote.webelement.WebElement (session=\"82cd7db6e14cdf24003217bddb48ca23\", element=\"3c22324e-9546-4c60-809c-b9a5a7410cb8\")>,\n",
       " <selenium.webdriver.remote.webelement.WebElement (session=\"82cd7db6e14cdf24003217bddb48ca23\", element=\"caaf1dad-a4f0-4ac0-bb9a-62156f9a64d9\")>,\n",
       " <selenium.webdriver.remote.webelement.WebElement (session=\"82cd7db6e14cdf24003217bddb48ca23\", element=\"ae099933-9cf9-4a83-8e93-aed5f775484e\")>,\n",
       " <selenium.webdriver.remote.webelement.WebElement (session=\"82cd7db6e14cdf24003217bddb48ca23\", element=\"06664829-62ea-47c0-8cd0-039896ae1c2a\")>,\n",
       " <selenium.webdriver.remote.webelement.WebElement (session=\"82cd7db6e14cdf24003217bddb48ca23\", element=\"c5def018-7abb-4acc-a687-82ac64f84218\")>,\n",
       " <selenium.webdriver.remote.webelement.WebElement (session=\"82cd7db6e14cdf24003217bddb48ca23\", element=\"42b9ae7b-fe1c-4480-9ac4-a441eab01e30\")>,\n",
       " <selenium.webdriver.remote.webelement.WebElement (session=\"82cd7db6e14cdf24003217bddb48ca23\", element=\"a4933128-245c-4117-827c-07bedf19a230\")>,\n",
       " <selenium.webdriver.remote.webelement.WebElement (session=\"82cd7db6e14cdf24003217bddb48ca23\", element=\"182d9159-aadf-41be-bd85-b10079914197\")>,\n",
       " <selenium.webdriver.remote.webelement.WebElement (session=\"82cd7db6e14cdf24003217bddb48ca23\", element=\"9bb6aee3-fdb6-4861-a106-61064438aef9\")>,\n",
       " <selenium.webdriver.remote.webelement.WebElement (session=\"82cd7db6e14cdf24003217bddb48ca23\", element=\"daa09104-ab54-4ab2-aec0-0c988b07e02f\")>,\n",
       " <selenium.webdriver.remote.webelement.WebElement (session=\"82cd7db6e14cdf24003217bddb48ca23\", element=\"801c7803-961a-491a-bc11-6abab78fabd4\")>,\n",
       " <selenium.webdriver.remote.webelement.WebElement (session=\"82cd7db6e14cdf24003217bddb48ca23\", element=\"62eb8fcd-48f2-48ab-92a7-4b91615f3977\")>,\n",
       " <selenium.webdriver.remote.webelement.WebElement (session=\"82cd7db6e14cdf24003217bddb48ca23\", element=\"7c639357-81f9-4ce7-902d-277d685046be\")>,\n",
       " <selenium.webdriver.remote.webelement.WebElement (session=\"82cd7db6e14cdf24003217bddb48ca23\", element=\"9dc8050b-cb25-4dfe-bc7b-ba9144f55b0f\")>,\n",
       " <selenium.webdriver.remote.webelement.WebElement (session=\"82cd7db6e14cdf24003217bddb48ca23\", element=\"0311f1b5-c2b1-47dd-a40a-b248abdccd79\")>]"
      ]
     },
     "execution_count": 25,
     "metadata": {},
     "output_type": "execute_result"
    }
   ],
   "source": [
    "company_tag = driver.find_elements_by_xpath(\"//a[@class= 'subTitle ellipsis fleft']\")\n",
    "company_tag"
   ]
  },
  {
   "cell_type": "code",
   "execution_count": 26,
   "metadata": {},
   "outputs": [
    {
     "data": {
      "text/plain": [
       "['AN INFRACON PRIVATE LIMITED',\n",
       " 'Flipkart Internet Private Limited',\n",
       " 'RANDSTAD INDIA PVT LTD',\n",
       " 'Philips India Limited',\n",
       " 'Applied Materials',\n",
       " 'Microland Limited',\n",
       " 'Verizon Data Services India Pvt.Ltd',\n",
       " 'Jobs Territory',\n",
       " 'Liventus, Inc.',\n",
       " 'Rockwell Automation',\n",
       " 'GSR Business Services Private Limited.',\n",
       " 'Mind Circus Innovation',\n",
       " 'WEIWO Communication Pvt. Ltd.',\n",
       " 'Rivera Manpower Services',\n",
       " 'Flipkart Internet Private Limited',\n",
       " 'Flipkart Internet Private Limited',\n",
       " 'INTERTRUST GROUP',\n",
       " 'COLLABERA',\n",
       " 'IQVIA RDS India Pvt Ltd',\n",
       " 'Nalashaa Solutions India Pvt Ltd']"
      ]
     },
     "execution_count": 26,
     "metadata": {},
     "output_type": "execute_result"
    }
   ],
   "source": [
    "company_name= []\n",
    "\n",
    "for i in company_tag:\n",
    "    company_name.append(i.text)\n",
    "company_name"
   ]
  },
  {
   "cell_type": "code",
   "execution_count": 27,
   "metadata": {
    "collapsed": true
   },
   "outputs": [
    {
     "data": {
      "text/plain": [
       "[<selenium.webdriver.remote.webelement.WebElement (session=\"82cd7db6e14cdf24003217bddb48ca23\", element=\"60ee14d5-bd8d-414d-8654-c513e9616d9d\")>,\n",
       " <selenium.webdriver.remote.webelement.WebElement (session=\"82cd7db6e14cdf24003217bddb48ca23\", element=\"5cd27a68-403d-472d-99f5-d7ed14029013\")>,\n",
       " <selenium.webdriver.remote.webelement.WebElement (session=\"82cd7db6e14cdf24003217bddb48ca23\", element=\"9948c71e-0766-4084-a577-0deb37deec7c\")>,\n",
       " <selenium.webdriver.remote.webelement.WebElement (session=\"82cd7db6e14cdf24003217bddb48ca23\", element=\"4a44e599-73c3-43a7-8d2a-087ad9417aec\")>,\n",
       " <selenium.webdriver.remote.webelement.WebElement (session=\"82cd7db6e14cdf24003217bddb48ca23\", element=\"60dac01b-cb44-4b56-a3fc-6572c900d264\")>,\n",
       " <selenium.webdriver.remote.webelement.WebElement (session=\"82cd7db6e14cdf24003217bddb48ca23\", element=\"8cf0ca18-e73b-4cc4-a03d-8c28b61675f6\")>,\n",
       " <selenium.webdriver.remote.webelement.WebElement (session=\"82cd7db6e14cdf24003217bddb48ca23\", element=\"29f50b85-2671-483d-abde-8e46568d35af\")>,\n",
       " <selenium.webdriver.remote.webelement.WebElement (session=\"82cd7db6e14cdf24003217bddb48ca23\", element=\"ce4bd080-b85d-4208-9381-f062a489d877\")>,\n",
       " <selenium.webdriver.remote.webelement.WebElement (session=\"82cd7db6e14cdf24003217bddb48ca23\", element=\"e2566887-6463-49cc-9eca-7dce994442f9\")>,\n",
       " <selenium.webdriver.remote.webelement.WebElement (session=\"82cd7db6e14cdf24003217bddb48ca23\", element=\"6ae9400c-2651-4be4-b0f9-958c2546ba5e\")>,\n",
       " <selenium.webdriver.remote.webelement.WebElement (session=\"82cd7db6e14cdf24003217bddb48ca23\", element=\"6a764853-329f-49f4-8125-5698c5184141\")>,\n",
       " <selenium.webdriver.remote.webelement.WebElement (session=\"82cd7db6e14cdf24003217bddb48ca23\", element=\"5f6e3ad7-5d1c-49ba-b716-64308bae482c\")>,\n",
       " <selenium.webdriver.remote.webelement.WebElement (session=\"82cd7db6e14cdf24003217bddb48ca23\", element=\"2a49e2fb-03d6-43e9-9152-cf2dbca79418\")>,\n",
       " <selenium.webdriver.remote.webelement.WebElement (session=\"82cd7db6e14cdf24003217bddb48ca23\", element=\"44590d0b-71ba-49f4-abcf-cd5e509642ee\")>,\n",
       " <selenium.webdriver.remote.webelement.WebElement (session=\"82cd7db6e14cdf24003217bddb48ca23\", element=\"061e21c7-99bd-4794-9242-4a53ab015fbe\")>,\n",
       " <selenium.webdriver.remote.webelement.WebElement (session=\"82cd7db6e14cdf24003217bddb48ca23\", element=\"0eac0433-1265-4830-8719-30f843762a95\")>,\n",
       " <selenium.webdriver.remote.webelement.WebElement (session=\"82cd7db6e14cdf24003217bddb48ca23\", element=\"1671cfb4-a380-4a44-8104-6003916a1875\")>,\n",
       " <selenium.webdriver.remote.webelement.WebElement (session=\"82cd7db6e14cdf24003217bddb48ca23\", element=\"04ab7a39-fd74-49e2-b379-2aae1a7bec53\")>,\n",
       " <selenium.webdriver.remote.webelement.WebElement (session=\"82cd7db6e14cdf24003217bddb48ca23\", element=\"1a54b9b5-c913-493d-8504-24ba0e275be9\")>,\n",
       " <selenium.webdriver.remote.webelement.WebElement (session=\"82cd7db6e14cdf24003217bddb48ca23\", element=\"b361d865-d715-43fb-92ec-c8c7e920976b\")>]"
      ]
     },
     "execution_count": 27,
     "metadata": {},
     "output_type": "execute_result"
    }
   ],
   "source": [
    "loc_tag = driver.find_elements_by_xpath(\"//li[@class= 'fleft grey-text br2 placeHolderLi location']/span\")\n",
    "loc_tag"
   ]
  },
  {
   "cell_type": "code",
   "execution_count": 28,
   "metadata": {},
   "outputs": [
    {
     "data": {
      "text/plain": [
       "['Chennai, Coimbatore, Bangalore/Bengaluru',\n",
       " 'Bangalore/Bengaluru',\n",
       " 'Bangalore/Bengaluru(Marathahalli)',\n",
       " 'Bangalore/Bengaluru',\n",
       " 'Bangalore/Bengaluru',\n",
       " 'Bangalore/Bengaluru',\n",
       " 'Bangalore/Bengaluru',\n",
       " 'Bangalore/Bengaluru',\n",
       " 'Bangalore/Bengaluru(2nd Phase JP Nagar)',\n",
       " 'Bangalore/Bengaluru',\n",
       " 'Bangalore/Bengaluru',\n",
       " 'Mysore/Mysuru, Coimbatore, Bangalore/Bengaluru',\n",
       " 'Bangalore/Bengaluru(Ulsoor)',\n",
       " 'Bangalore/Bengaluru',\n",
       " 'Bangalore/Bengaluru',\n",
       " 'Bangalore/Bengaluru',\n",
       " 'Mumbai, Bangalore/Bengaluru',\n",
       " 'Bangalore/Bengaluru',\n",
       " 'Bangalore/Bengaluru, Mumbai (All Areas)',\n",
       " 'Bangalore/Bengaluru']"
      ]
     },
     "execution_count": 28,
     "metadata": {},
     "output_type": "execute_result"
    }
   ],
   "source": [
    "loc_name = []\n",
    "for i in loc_tag:\n",
    "    loc_name.append(i.text)\n",
    "loc_name"
   ]
  },
  {
   "cell_type": "code",
   "execution_count": 29,
   "metadata": {
    "collapsed": true
   },
   "outputs": [
    {
     "data": {
      "text/plain": [
       "[<selenium.webdriver.remote.webelement.WebElement (session=\"82cd7db6e14cdf24003217bddb48ca23\", element=\"3908acfe-537d-4830-acaa-5a6ed7cf98d3\")>,\n",
       " <selenium.webdriver.remote.webelement.WebElement (session=\"82cd7db6e14cdf24003217bddb48ca23\", element=\"2950d3c7-4602-4b23-9724-7c24e97dd287\")>,\n",
       " <selenium.webdriver.remote.webelement.WebElement (session=\"82cd7db6e14cdf24003217bddb48ca23\", element=\"4d96d866-45b2-4be2-9ddc-05dcd4518830\")>,\n",
       " <selenium.webdriver.remote.webelement.WebElement (session=\"82cd7db6e14cdf24003217bddb48ca23\", element=\"d57e75ba-c40f-4eee-875f-47a3d2fdc15b\")>,\n",
       " <selenium.webdriver.remote.webelement.WebElement (session=\"82cd7db6e14cdf24003217bddb48ca23\", element=\"b7b5c268-953c-47a8-9753-a3434d604888\")>,\n",
       " <selenium.webdriver.remote.webelement.WebElement (session=\"82cd7db6e14cdf24003217bddb48ca23\", element=\"39cde5dc-2749-4ac1-870b-575367dc190c\")>,\n",
       " <selenium.webdriver.remote.webelement.WebElement (session=\"82cd7db6e14cdf24003217bddb48ca23\", element=\"4bf819b7-fa5a-4a84-ac7f-b5d8854ba47c\")>,\n",
       " <selenium.webdriver.remote.webelement.WebElement (session=\"82cd7db6e14cdf24003217bddb48ca23\", element=\"c590323d-187f-4866-b044-ed0c71b657c4\")>,\n",
       " <selenium.webdriver.remote.webelement.WebElement (session=\"82cd7db6e14cdf24003217bddb48ca23\", element=\"bf35ca04-39d0-4ce7-8fe8-4bc5c25adf72\")>,\n",
       " <selenium.webdriver.remote.webelement.WebElement (session=\"82cd7db6e14cdf24003217bddb48ca23\", element=\"8417da83-4066-4c38-a422-d9579367e491\")>,\n",
       " <selenium.webdriver.remote.webelement.WebElement (session=\"82cd7db6e14cdf24003217bddb48ca23\", element=\"cc6fb9c8-f966-4f92-9092-6e7e58ebefff\")>,\n",
       " <selenium.webdriver.remote.webelement.WebElement (session=\"82cd7db6e14cdf24003217bddb48ca23\", element=\"6ed81b2e-5066-437a-b613-540f63af8cd4\")>,\n",
       " <selenium.webdriver.remote.webelement.WebElement (session=\"82cd7db6e14cdf24003217bddb48ca23\", element=\"efc7b353-1022-4676-a671-25142fad072f\")>,\n",
       " <selenium.webdriver.remote.webelement.WebElement (session=\"82cd7db6e14cdf24003217bddb48ca23\", element=\"12e72d3e-f810-4e95-a382-e1f1597b76a2\")>,\n",
       " <selenium.webdriver.remote.webelement.WebElement (session=\"82cd7db6e14cdf24003217bddb48ca23\", element=\"024a50e5-c0a6-4857-9b5d-0bbbd8ffb53b\")>,\n",
       " <selenium.webdriver.remote.webelement.WebElement (session=\"82cd7db6e14cdf24003217bddb48ca23\", element=\"5b035f35-8d19-4a97-a3ba-b37db70d19e7\")>,\n",
       " <selenium.webdriver.remote.webelement.WebElement (session=\"82cd7db6e14cdf24003217bddb48ca23\", element=\"499739a0-8b16-483a-8d0c-aa761a6dc1f9\")>,\n",
       " <selenium.webdriver.remote.webelement.WebElement (session=\"82cd7db6e14cdf24003217bddb48ca23\", element=\"4ec6be61-e87c-4349-9026-17b1066060af\")>,\n",
       " <selenium.webdriver.remote.webelement.WebElement (session=\"82cd7db6e14cdf24003217bddb48ca23\", element=\"156b522e-cc9d-4fae-9869-13db12a516ba\")>,\n",
       " <selenium.webdriver.remote.webelement.WebElement (session=\"82cd7db6e14cdf24003217bddb48ca23\", element=\"fda938b0-ea4b-4f02-bc93-c9f4f1a9c653\")>]"
      ]
     },
     "execution_count": 29,
     "metadata": {},
     "output_type": "execute_result"
    }
   ],
   "source": [
    "exp = driver.find_elements_by_xpath(\"//li[@class= 'fleft grey-text br2 placeHolderLi experience']/span\")\n",
    "exp"
   ]
  },
  {
   "cell_type": "code",
   "execution_count": 30,
   "metadata": {},
   "outputs": [
    {
     "data": {
      "text/plain": [
       "['1-5 Yrs',\n",
       " '2-5 Yrs',\n",
       " '1-5 Yrs',\n",
       " '3-6 Yrs',\n",
       " '7-10 Yrs',\n",
       " '3-5 Yrs',\n",
       " '3-6 Yrs',\n",
       " '4-9 Yrs',\n",
       " '5-8 Yrs',\n",
       " '2-3 Yrs',\n",
       " '3-7 Yrs',\n",
       " '1-2 Yrs',\n",
       " '5-8 Yrs',\n",
       " '1-5 Yrs',\n",
       " '1-3 Yrs',\n",
       " '2-6 Yrs',\n",
       " '3-8 Yrs',\n",
       " '2-6 Yrs',\n",
       " '1-6 Yrs',\n",
       " '5-8 Yrs']"
      ]
     },
     "execution_count": 30,
     "metadata": {},
     "output_type": "execute_result"
    }
   ],
   "source": [
    "exp_li = []\n",
    "for i in exp:\n",
    "    exp_li.append(i.text)\n",
    "exp_li"
   ]
  },
  {
   "cell_type": "code",
   "execution_count": 32,
   "metadata": {},
   "outputs": [
    {
     "data": {
      "text/html": [
       "<div>\n",
       "<style scoped>\n",
       "    .dataframe tbody tr th:only-of-type {\n",
       "        vertical-align: middle;\n",
       "    }\n",
       "\n",
       "    .dataframe tbody tr th {\n",
       "        vertical-align: top;\n",
       "    }\n",
       "\n",
       "    .dataframe thead th {\n",
       "        text-align: right;\n",
       "    }\n",
       "</style>\n",
       "<table border=\"1\" class=\"dataframe\">\n",
       "  <thead>\n",
       "    <tr style=\"text-align: right;\">\n",
       "      <th></th>\n",
       "      <th>title_tag</th>\n",
       "      <th>company_tag</th>\n",
       "      <th>loc_tag</th>\n",
       "      <th>exp</th>\n",
       "    </tr>\n",
       "  </thead>\n",
       "  <tbody>\n",
       "    <tr>\n",
       "      <th>0</th>\n",
       "      <td>Business Analyst / Data Analyst - SQL Queries,...</td>\n",
       "      <td>AN INFRACON PRIVATE LIMITED</td>\n",
       "      <td>Chennai, Coimbatore, Bangalore/Bengaluru</td>\n",
       "      <td>1-5 Yrs</td>\n",
       "    </tr>\n",
       "    <tr>\n",
       "      <th>1</th>\n",
       "      <td>Senior Data Analyst</td>\n",
       "      <td>Flipkart Internet Private Limited</td>\n",
       "      <td>Bangalore/Bengaluru</td>\n",
       "      <td>2-5 Yrs</td>\n",
       "    </tr>\n",
       "    <tr>\n",
       "      <th>2</th>\n",
       "      <td>Immediate job openings For Partner Consultant ...</td>\n",
       "      <td>RANDSTAD INDIA PVT LTD</td>\n",
       "      <td>Bangalore/Bengaluru(Marathahalli)</td>\n",
       "      <td>1-5 Yrs</td>\n",
       "    </tr>\n",
       "    <tr>\n",
       "      <th>3</th>\n",
       "      <td>Data Analyst</td>\n",
       "      <td>Philips India Limited</td>\n",
       "      <td>Bangalore/Bengaluru</td>\n",
       "      <td>3-6 Yrs</td>\n",
       "    </tr>\n",
       "    <tr>\n",
       "      <th>4</th>\n",
       "      <td>Data Analyst</td>\n",
       "      <td>Applied Materials</td>\n",
       "      <td>Bangalore/Bengaluru</td>\n",
       "      <td>7-10 Yrs</td>\n",
       "    </tr>\n",
       "    <tr>\n",
       "      <th>5</th>\n",
       "      <td>Senior Data Analyst</td>\n",
       "      <td>Microland Limited</td>\n",
       "      <td>Bangalore/Bengaluru</td>\n",
       "      <td>3-5 Yrs</td>\n",
       "    </tr>\n",
       "    <tr>\n",
       "      <th>6</th>\n",
       "      <td>Senior Data Analyst</td>\n",
       "      <td>Verizon Data Services India Pvt.Ltd</td>\n",
       "      <td>Bangalore/Bengaluru</td>\n",
       "      <td>3-6 Yrs</td>\n",
       "    </tr>\n",
       "    <tr>\n",
       "      <th>7</th>\n",
       "      <td>Hiring- SR Data Analyst /Bangalore Start Up Co...</td>\n",
       "      <td>Jobs Territory</td>\n",
       "      <td>Bangalore/Bengaluru</td>\n",
       "      <td>4-9 Yrs</td>\n",
       "    </tr>\n",
       "    <tr>\n",
       "      <th>8</th>\n",
       "      <td>Senior Data Analyst</td>\n",
       "      <td>Liventus, Inc.</td>\n",
       "      <td>Bangalore/Bengaluru(2nd Phase JP Nagar)</td>\n",
       "      <td>5-8 Yrs</td>\n",
       "    </tr>\n",
       "    <tr>\n",
       "      <th>9</th>\n",
       "      <td>Data Analyst, Component Engineering</td>\n",
       "      <td>Rockwell Automation</td>\n",
       "      <td>Bangalore/Bengaluru</td>\n",
       "      <td>2-3 Yrs</td>\n",
       "    </tr>\n",
       "  </tbody>\n",
       "</table>\n",
       "</div>"
      ],
      "text/plain": [
       "                                           title_tag  \\\n",
       "0  Business Analyst / Data Analyst - SQL Queries,...   \n",
       "1                                Senior Data Analyst   \n",
       "2  Immediate job openings For Partner Consultant ...   \n",
       "3                                       Data Analyst   \n",
       "4                                       Data Analyst   \n",
       "5                                Senior Data Analyst   \n",
       "6                                Senior Data Analyst   \n",
       "7  Hiring- SR Data Analyst /Bangalore Start Up Co...   \n",
       "8                                Senior Data Analyst   \n",
       "9                Data Analyst, Component Engineering   \n",
       "\n",
       "                           company_tag  \\\n",
       "0          AN INFRACON PRIVATE LIMITED   \n",
       "1    Flipkart Internet Private Limited   \n",
       "2               RANDSTAD INDIA PVT LTD   \n",
       "3                Philips India Limited   \n",
       "4                    Applied Materials   \n",
       "5                    Microland Limited   \n",
       "6  Verizon Data Services India Pvt.Ltd   \n",
       "7                       Jobs Territory   \n",
       "8                       Liventus, Inc.   \n",
       "9                  Rockwell Automation   \n",
       "\n",
       "                                    loc_tag       exp  \n",
       "0  Chennai, Coimbatore, Bangalore/Bengaluru   1-5 Yrs  \n",
       "1                       Bangalore/Bengaluru   2-5 Yrs  \n",
       "2         Bangalore/Bengaluru(Marathahalli)   1-5 Yrs  \n",
       "3                       Bangalore/Bengaluru   3-6 Yrs  \n",
       "4                       Bangalore/Bengaluru  7-10 Yrs  \n",
       "5                       Bangalore/Bengaluru   3-5 Yrs  \n",
       "6                       Bangalore/Bengaluru   3-6 Yrs  \n",
       "7                       Bangalore/Bengaluru   4-9 Yrs  \n",
       "8   Bangalore/Bengaluru(2nd Phase JP Nagar)   5-8 Yrs  \n",
       "9                       Bangalore/Bengaluru   2-3 Yrs  "
      ]
     },
     "execution_count": 32,
     "metadata": {},
     "output_type": "execute_result"
    }
   ],
   "source": [
    "naukri = pd.DataFrame({})\n",
    "naukri['title_tag'] = job_title\n",
    "naukri['company_tag'] = company_name\n",
    "naukri['loc_tag'] = loc_name\n",
    "naukri['exp'] = exp_li\n",
    "\n",
    "naukri.iloc[0:10,0:4]"
   ]
  },
  {
   "cell_type": "code",
   "execution_count": 33,
   "metadata": {},
   "outputs": [],
   "source": [
    "naukri.to_csv(\"naukri.csv\")"
   ]
  },
  {
   "cell_type": "markdown",
   "metadata": {},
   "source": [
    "Write a python program to scrape data for “Data Scientist” Job position in “Bangalore” location. You have to scrape the job-title, job-location,company_name, full job-description. You have to scrape first 10 jobs data."
   ]
  },
  {
   "cell_type": "code",
   "execution_count": 530,
   "metadata": {},
   "outputs": [],
   "source": [
    "url = ' https://www.naukri.com/'\n",
    "driver.get(url)"
   ]
  },
  {
   "cell_type": "code",
   "execution_count": 531,
   "metadata": {},
   "outputs": [
    {
     "data": {
      "text/plain": [
       "<selenium.webdriver.remote.webelement.WebElement (session=\"c7327889933ab3908d16afb648c9c994\", element=\"8f794d84-bc9c-4b63-ad08-3f9529e45b3e\")>"
      ]
     },
     "execution_count": 531,
     "metadata": {},
     "output_type": "execute_result"
    }
   ],
   "source": [
    "search_job = driver.find_element_by_id('qsb-keyword-sugg')\n",
    "search_job"
   ]
  },
  {
   "cell_type": "code",
   "execution_count": 532,
   "metadata": {},
   "outputs": [],
   "source": [
    "search_job.send_keys(\"Data Scientist\")"
   ]
  },
  {
   "cell_type": "code",
   "execution_count": 533,
   "metadata": {},
   "outputs": [],
   "source": [
    "search_loc = driver.find_element_by_id('qsb-location-sugg')\n",
    "search_loc.send_keys(\"Bangalore\")"
   ]
  },
  {
   "cell_type": "code",
   "execution_count": 534,
   "metadata": {},
   "outputs": [],
   "source": [
    "search_btn = driver.find_element_by_xpath(\"/html/body/div[1]/div[3]/div[2]/section/div/form/div[3]/button\")\n",
    "search_btn.click()"
   ]
  },
  {
   "cell_type": "code",
   "execution_count": 535,
   "metadata": {
    "scrolled": true
   },
   "outputs": [
    {
     "data": {
      "text/plain": [
       "[<selenium.webdriver.remote.webelement.WebElement (session=\"c7327889933ab3908d16afb648c9c994\", element=\"79829c26-0c8f-4847-ad5a-1488cccaf2b8\")>,\n",
       " <selenium.webdriver.remote.webelement.WebElement (session=\"c7327889933ab3908d16afb648c9c994\", element=\"023750db-9883-4eb4-a6b1-7f10da0fc18b\")>,\n",
       " <selenium.webdriver.remote.webelement.WebElement (session=\"c7327889933ab3908d16afb648c9c994\", element=\"65cb5805-54b7-4807-8b6f-81a4a0eca9c1\")>,\n",
       " <selenium.webdriver.remote.webelement.WebElement (session=\"c7327889933ab3908d16afb648c9c994\", element=\"1e8636f3-0e20-4eb6-ba91-28f14f09715b\")>,\n",
       " <selenium.webdriver.remote.webelement.WebElement (session=\"c7327889933ab3908d16afb648c9c994\", element=\"888e1e9f-a459-48e8-af8f-dd8dcb173423\")>,\n",
       " <selenium.webdriver.remote.webelement.WebElement (session=\"c7327889933ab3908d16afb648c9c994\", element=\"df01652d-bb38-4611-a764-6c4e9312d3c1\")>,\n",
       " <selenium.webdriver.remote.webelement.WebElement (session=\"c7327889933ab3908d16afb648c9c994\", element=\"8dd04fdc-7354-408b-9228-9584145a64aa\")>,\n",
       " <selenium.webdriver.remote.webelement.WebElement (session=\"c7327889933ab3908d16afb648c9c994\", element=\"9a9d9b89-c75b-46e0-81f7-122a8ac354ee\")>,\n",
       " <selenium.webdriver.remote.webelement.WebElement (session=\"c7327889933ab3908d16afb648c9c994\", element=\"aefb023f-90ce-4e4e-ad34-9b4bcc640a17\")>,\n",
       " <selenium.webdriver.remote.webelement.WebElement (session=\"c7327889933ab3908d16afb648c9c994\", element=\"050594ef-d278-465c-9084-6a75a1ad61be\")>,\n",
       " <selenium.webdriver.remote.webelement.WebElement (session=\"c7327889933ab3908d16afb648c9c994\", element=\"18f61ada-ec8a-4828-8496-695e24135955\")>,\n",
       " <selenium.webdriver.remote.webelement.WebElement (session=\"c7327889933ab3908d16afb648c9c994\", element=\"b13d3132-df2b-473e-8dbc-c92dac82527a\")>,\n",
       " <selenium.webdriver.remote.webelement.WebElement (session=\"c7327889933ab3908d16afb648c9c994\", element=\"4422f2ff-59d5-4cf9-a350-ce744445289d\")>,\n",
       " <selenium.webdriver.remote.webelement.WebElement (session=\"c7327889933ab3908d16afb648c9c994\", element=\"20159cdf-2eed-4f90-92a1-3df846b2a0bf\")>,\n",
       " <selenium.webdriver.remote.webelement.WebElement (session=\"c7327889933ab3908d16afb648c9c994\", element=\"b040a5c6-157b-424a-8f23-cba9ecfb124c\")>,\n",
       " <selenium.webdriver.remote.webelement.WebElement (session=\"c7327889933ab3908d16afb648c9c994\", element=\"0bd951f0-3efe-43cc-90c2-d1af1569f710\")>,\n",
       " <selenium.webdriver.remote.webelement.WebElement (session=\"c7327889933ab3908d16afb648c9c994\", element=\"2d86e429-fdf3-43b6-80b9-01691d53e068\")>,\n",
       " <selenium.webdriver.remote.webelement.WebElement (session=\"c7327889933ab3908d16afb648c9c994\", element=\"59cc23e1-0325-488e-b903-66ba450f43fb\")>,\n",
       " <selenium.webdriver.remote.webelement.WebElement (session=\"c7327889933ab3908d16afb648c9c994\", element=\"c7ee08fa-21c9-4b2d-9832-bd3e7abd3abb\")>,\n",
       " <selenium.webdriver.remote.webelement.WebElement (session=\"c7327889933ab3908d16afb648c9c994\", element=\"f70509ca-d9df-455b-b1a7-80d7bc78a4ac\")>]"
      ]
     },
     "execution_count": 535,
     "metadata": {},
     "output_type": "execute_result"
    }
   ],
   "source": [
    "title = driver.find_elements_by_xpath(\"//a[@class= 'title fw500 ellipsis']\")\n",
    "title"
   ]
  },
  {
   "cell_type": "code",
   "execution_count": 536,
   "metadata": {},
   "outputs": [
    {
     "data": {
      "text/plain": [
       "['Data Scientist / Data Analyst -Business Analyst',\n",
       " 'Data Scientist',\n",
       " 'Senior Data Scientist',\n",
       " 'Senior Data Scientist',\n",
       " 'Lead Data Scientist',\n",
       " 'Senior Data Scientist',\n",
       " 'Senior Data Scientist',\n",
       " 'Senior Data Scientist',\n",
       " 'Lead Data Scientist - Machine Learning/ Data Mining',\n",
       " 'Data Scientist IV']"
      ]
     },
     "execution_count": 536,
     "metadata": {},
     "output_type": "execute_result"
    }
   ],
   "source": [
    "job_titles =[]\n",
    "\n",
    "for i in title:\n",
    "    job_titles.append(i.text)\n",
    "job_titles[0:10]"
   ]
  },
  {
   "cell_type": "code",
   "execution_count": 537,
   "metadata": {
    "scrolled": true
   },
   "outputs": [
    {
     "data": {
      "text/plain": [
       "[<selenium.webdriver.remote.webelement.WebElement (session=\"c7327889933ab3908d16afb648c9c994\", element=\"e92f8099-b403-4b77-9218-d737505eccac\")>,\n",
       " <selenium.webdriver.remote.webelement.WebElement (session=\"c7327889933ab3908d16afb648c9c994\", element=\"18a596e0-98c8-4397-8e30-ac53959158c8\")>,\n",
       " <selenium.webdriver.remote.webelement.WebElement (session=\"c7327889933ab3908d16afb648c9c994\", element=\"91f7782a-b761-4463-a2cb-06c5b97330f5\")>,\n",
       " <selenium.webdriver.remote.webelement.WebElement (session=\"c7327889933ab3908d16afb648c9c994\", element=\"459f3d49-b7cf-419d-864f-451a06cd638e\")>,\n",
       " <selenium.webdriver.remote.webelement.WebElement (session=\"c7327889933ab3908d16afb648c9c994\", element=\"ebfcb7b5-8a37-4d5b-8647-316968e45090\")>,\n",
       " <selenium.webdriver.remote.webelement.WebElement (session=\"c7327889933ab3908d16afb648c9c994\", element=\"c5b7778d-85f6-4663-86cb-a746b507ff86\")>,\n",
       " <selenium.webdriver.remote.webelement.WebElement (session=\"c7327889933ab3908d16afb648c9c994\", element=\"dc1f7bf8-ba2f-4d16-a946-acf1416ba5d9\")>,\n",
       " <selenium.webdriver.remote.webelement.WebElement (session=\"c7327889933ab3908d16afb648c9c994\", element=\"a47876c7-6dd6-4efc-8f4d-6bf04fd1ad42\")>,\n",
       " <selenium.webdriver.remote.webelement.WebElement (session=\"c7327889933ab3908d16afb648c9c994\", element=\"4a3ee353-09d4-4021-9296-08861c819d40\")>,\n",
       " <selenium.webdriver.remote.webelement.WebElement (session=\"c7327889933ab3908d16afb648c9c994\", element=\"26636e37-78ec-40ac-be70-238b4282d5c6\")>,\n",
       " <selenium.webdriver.remote.webelement.WebElement (session=\"c7327889933ab3908d16afb648c9c994\", element=\"a0b1dc16-c03a-44c0-9f23-7a83356a6ee4\")>,\n",
       " <selenium.webdriver.remote.webelement.WebElement (session=\"c7327889933ab3908d16afb648c9c994\", element=\"62226c4f-faeb-4c96-9b77-56a8b562bed6\")>,\n",
       " <selenium.webdriver.remote.webelement.WebElement (session=\"c7327889933ab3908d16afb648c9c994\", element=\"6d0eba62-b639-4d6a-a318-74aea03f9bcb\")>,\n",
       " <selenium.webdriver.remote.webelement.WebElement (session=\"c7327889933ab3908d16afb648c9c994\", element=\"cede719e-dac5-4edf-b491-ae28c1cbb812\")>,\n",
       " <selenium.webdriver.remote.webelement.WebElement (session=\"c7327889933ab3908d16afb648c9c994\", element=\"8b053435-94f1-441b-8e0b-20581d7b6525\")>,\n",
       " <selenium.webdriver.remote.webelement.WebElement (session=\"c7327889933ab3908d16afb648c9c994\", element=\"cbde53d2-2b02-40b4-b357-85db4b5bee5b\")>,\n",
       " <selenium.webdriver.remote.webelement.WebElement (session=\"c7327889933ab3908d16afb648c9c994\", element=\"c217351b-8a54-44bc-8eed-e1aab967a6e1\")>,\n",
       " <selenium.webdriver.remote.webelement.WebElement (session=\"c7327889933ab3908d16afb648c9c994\", element=\"7de4d489-91c6-40fb-83eb-521ffd71f139\")>,\n",
       " <selenium.webdriver.remote.webelement.WebElement (session=\"c7327889933ab3908d16afb648c9c994\", element=\"d6526e3d-fec1-4aff-a5e2-9e13984b6ce0\")>,\n",
       " <selenium.webdriver.remote.webelement.WebElement (session=\"c7327889933ab3908d16afb648c9c994\", element=\"c3eaa3cc-5f7c-414f-aff3-f92b04884fdb\")>]"
      ]
     },
     "execution_count": 537,
     "metadata": {},
     "output_type": "execute_result"
    }
   ],
   "source": [
    "company_tags = driver.find_elements_by_xpath(\"//a[@class= 'subTitle ellipsis fleft']\")\n",
    "company_tags"
   ]
  },
  {
   "cell_type": "code",
   "execution_count": 538,
   "metadata": {},
   "outputs": [
    {
     "data": {
      "text/plain": [
       "['Inflexion Analytix Private Limited',\n",
       " 'Oracle India Pvt. Ltd.',\n",
       " 'Baker Hughes - The Network',\n",
       " 'FabHotel Aay Kay Model Town',\n",
       " 'Becton Dickinson India Pvt Ltd',\n",
       " '24/7 Customer',\n",
       " 'Fractal Analytics',\n",
       " 'Nielsen',\n",
       " 'Wrackle Technologies Pvt Ltd',\n",
       " 'Conduent']"
      ]
     },
     "execution_count": 538,
     "metadata": {},
     "output_type": "execute_result"
    }
   ],
   "source": [
    "company_names= []\n",
    "\n",
    "for i in company_tags:\n",
    "    company_names.append(i.text)\n",
    "company_names[0:10]"
   ]
  },
  {
   "cell_type": "code",
   "execution_count": 539,
   "metadata": {
    "scrolled": true
   },
   "outputs": [
    {
     "data": {
      "text/plain": [
       "[<selenium.webdriver.remote.webelement.WebElement (session=\"c7327889933ab3908d16afb648c9c994\", element=\"ff89b99a-0087-452d-a3d0-5648ecf3ea87\")>,\n",
       " <selenium.webdriver.remote.webelement.WebElement (session=\"c7327889933ab3908d16afb648c9c994\", element=\"020a5132-b5bc-4d91-950a-c65243bbfe9d\")>,\n",
       " <selenium.webdriver.remote.webelement.WebElement (session=\"c7327889933ab3908d16afb648c9c994\", element=\"d36d8ee5-f614-48c0-873a-c21e74c416c4\")>,\n",
       " <selenium.webdriver.remote.webelement.WebElement (session=\"c7327889933ab3908d16afb648c9c994\", element=\"4ed1f8f9-cfd5-41f4-9482-f3ac34009d92\")>,\n",
       " <selenium.webdriver.remote.webelement.WebElement (session=\"c7327889933ab3908d16afb648c9c994\", element=\"bc1d170c-b799-4b7d-9444-0d989a14fc31\")>,\n",
       " <selenium.webdriver.remote.webelement.WebElement (session=\"c7327889933ab3908d16afb648c9c994\", element=\"57fd4284-8100-4f7b-ace4-a5003fab42d2\")>,\n",
       " <selenium.webdriver.remote.webelement.WebElement (session=\"c7327889933ab3908d16afb648c9c994\", element=\"25fe6fca-d290-4ea9-8cc2-d1a10e67ecbe\")>,\n",
       " <selenium.webdriver.remote.webelement.WebElement (session=\"c7327889933ab3908d16afb648c9c994\", element=\"d7bfa01f-8ffc-4a37-823a-ffb389db1225\")>,\n",
       " <selenium.webdriver.remote.webelement.WebElement (session=\"c7327889933ab3908d16afb648c9c994\", element=\"7d1f25bc-636f-48ec-9e86-50e91157f56e\")>,\n",
       " <selenium.webdriver.remote.webelement.WebElement (session=\"c7327889933ab3908d16afb648c9c994\", element=\"d0b9c9de-874f-4331-a517-5e565e949976\")>,\n",
       " <selenium.webdriver.remote.webelement.WebElement (session=\"c7327889933ab3908d16afb648c9c994\", element=\"919f396c-39ce-44fa-acec-3bd267f0dc73\")>,\n",
       " <selenium.webdriver.remote.webelement.WebElement (session=\"c7327889933ab3908d16afb648c9c994\", element=\"fd2ed321-c990-4d82-8c12-f8c185174c5f\")>,\n",
       " <selenium.webdriver.remote.webelement.WebElement (session=\"c7327889933ab3908d16afb648c9c994\", element=\"d0ae6263-0cef-4921-85e5-f77cd974bb0c\")>,\n",
       " <selenium.webdriver.remote.webelement.WebElement (session=\"c7327889933ab3908d16afb648c9c994\", element=\"cf7bbe49-9bde-4b67-af15-15b130c1520d\")>,\n",
       " <selenium.webdriver.remote.webelement.WebElement (session=\"c7327889933ab3908d16afb648c9c994\", element=\"994918b5-8edd-4d84-9910-d14305a2cd21\")>,\n",
       " <selenium.webdriver.remote.webelement.WebElement (session=\"c7327889933ab3908d16afb648c9c994\", element=\"bede9236-9cf1-439d-8bb6-361c9925e701\")>,\n",
       " <selenium.webdriver.remote.webelement.WebElement (session=\"c7327889933ab3908d16afb648c9c994\", element=\"6de92bcb-8bfc-4b1f-831c-5daad8c34f24\")>,\n",
       " <selenium.webdriver.remote.webelement.WebElement (session=\"c7327889933ab3908d16afb648c9c994\", element=\"23f5fbc9-54fe-4f75-b4f4-0c2567712506\")>,\n",
       " <selenium.webdriver.remote.webelement.WebElement (session=\"c7327889933ab3908d16afb648c9c994\", element=\"ca91e59a-3580-43f1-8bde-7e39b6bc1c17\")>,\n",
       " <selenium.webdriver.remote.webelement.WebElement (session=\"c7327889933ab3908d16afb648c9c994\", element=\"b3847983-9d4f-42b3-90b3-29286a471b6a\")>]"
      ]
     },
     "execution_count": 539,
     "metadata": {},
     "output_type": "execute_result"
    }
   ],
   "source": [
    "loc_tags = driver.find_elements_by_xpath(\"//li[@class= 'fleft grey-text br2 placeHolderLi location']/span\")\n",
    "loc_tags"
   ]
  },
  {
   "cell_type": "code",
   "execution_count": 540,
   "metadata": {},
   "outputs": [
    {
     "data": {
      "text/plain": [
       "['Hyderabad/Secunderabad, Chennai, Bangalore/Bengaluru',\n",
       " 'Noida, Bangalore/Bengaluru',\n",
       " 'Bangalore/Bengaluru',\n",
       " 'Bangalore/Bengaluru',\n",
       " 'Bangalore/Bengaluru',\n",
       " 'Bangalore/Bengaluru',\n",
       " 'Mumbai, Gurgaon/Gurugram, Bangalore/Bengaluru',\n",
       " 'Chennai, Bangalore/Bengaluru, Vadodara',\n",
       " 'Bangalore/Bengaluru',\n",
       " 'Bangalore/Bengaluru']"
      ]
     },
     "execution_count": 540,
     "metadata": {},
     "output_type": "execute_result"
    }
   ],
   "source": [
    "loc_names = []\n",
    "for i in loc_tags:\n",
    "    loc_names.append(i.text)\n",
    "loc_names[0:10]"
   ]
  },
  {
   "cell_type": "code",
   "execution_count": 541,
   "metadata": {},
   "outputs": [
    {
     "data": {
      "text/plain": [
       "[<selenium.webdriver.remote.webelement.WebElement (session=\"c7327889933ab3908d16afb648c9c994\", element=\"79829c26-0c8f-4847-ad5a-1488cccaf2b8\")>,\n",
       " <selenium.webdriver.remote.webelement.WebElement (session=\"c7327889933ab3908d16afb648c9c994\", element=\"023750db-9883-4eb4-a6b1-7f10da0fc18b\")>,\n",
       " <selenium.webdriver.remote.webelement.WebElement (session=\"c7327889933ab3908d16afb648c9c994\", element=\"65cb5805-54b7-4807-8b6f-81a4a0eca9c1\")>,\n",
       " <selenium.webdriver.remote.webelement.WebElement (session=\"c7327889933ab3908d16afb648c9c994\", element=\"1e8636f3-0e20-4eb6-ba91-28f14f09715b\")>,\n",
       " <selenium.webdriver.remote.webelement.WebElement (session=\"c7327889933ab3908d16afb648c9c994\", element=\"888e1e9f-a459-48e8-af8f-dd8dcb173423\")>,\n",
       " <selenium.webdriver.remote.webelement.WebElement (session=\"c7327889933ab3908d16afb648c9c994\", element=\"df01652d-bb38-4611-a764-6c4e9312d3c1\")>,\n",
       " <selenium.webdriver.remote.webelement.WebElement (session=\"c7327889933ab3908d16afb648c9c994\", element=\"8dd04fdc-7354-408b-9228-9584145a64aa\")>,\n",
       " <selenium.webdriver.remote.webelement.WebElement (session=\"c7327889933ab3908d16afb648c9c994\", element=\"9a9d9b89-c75b-46e0-81f7-122a8ac354ee\")>,\n",
       " <selenium.webdriver.remote.webelement.WebElement (session=\"c7327889933ab3908d16afb648c9c994\", element=\"aefb023f-90ce-4e4e-ad34-9b4bcc640a17\")>,\n",
       " <selenium.webdriver.remote.webelement.WebElement (session=\"c7327889933ab3908d16afb648c9c994\", element=\"050594ef-d278-465c-9084-6a75a1ad61be\")>,\n",
       " <selenium.webdriver.remote.webelement.WebElement (session=\"c7327889933ab3908d16afb648c9c994\", element=\"18f61ada-ec8a-4828-8496-695e24135955\")>,\n",
       " <selenium.webdriver.remote.webelement.WebElement (session=\"c7327889933ab3908d16afb648c9c994\", element=\"b13d3132-df2b-473e-8dbc-c92dac82527a\")>,\n",
       " <selenium.webdriver.remote.webelement.WebElement (session=\"c7327889933ab3908d16afb648c9c994\", element=\"4422f2ff-59d5-4cf9-a350-ce744445289d\")>,\n",
       " <selenium.webdriver.remote.webelement.WebElement (session=\"c7327889933ab3908d16afb648c9c994\", element=\"20159cdf-2eed-4f90-92a1-3df846b2a0bf\")>,\n",
       " <selenium.webdriver.remote.webelement.WebElement (session=\"c7327889933ab3908d16afb648c9c994\", element=\"b040a5c6-157b-424a-8f23-cba9ecfb124c\")>,\n",
       " <selenium.webdriver.remote.webelement.WebElement (session=\"c7327889933ab3908d16afb648c9c994\", element=\"0bd951f0-3efe-43cc-90c2-d1af1569f710\")>,\n",
       " <selenium.webdriver.remote.webelement.WebElement (session=\"c7327889933ab3908d16afb648c9c994\", element=\"2d86e429-fdf3-43b6-80b9-01691d53e068\")>,\n",
       " <selenium.webdriver.remote.webelement.WebElement (session=\"c7327889933ab3908d16afb648c9c994\", element=\"59cc23e1-0325-488e-b903-66ba450f43fb\")>,\n",
       " <selenium.webdriver.remote.webelement.WebElement (session=\"c7327889933ab3908d16afb648c9c994\", element=\"c7ee08fa-21c9-4b2d-9832-bd3e7abd3abb\")>,\n",
       " <selenium.webdriver.remote.webelement.WebElement (session=\"c7327889933ab3908d16afb648c9c994\", element=\"f70509ca-d9df-455b-b1a7-80d7bc78a4ac\")>]"
      ]
     },
     "execution_count": 541,
     "metadata": {},
     "output_type": "execute_result"
    }
   ],
   "source": [
    "desc = driver.find_elements_by_xpath(\"//a[@class= 'title fw500 ellipsis']\")\n",
    "desc"
   ]
  },
  {
   "cell_type": "code",
   "execution_count": 542,
   "metadata": {
    "scrolled": true
   },
   "outputs": [
    {
     "data": {
      "text/plain": [
       "['https://www.naukri.com/job-listings-data-scientist-data-analyst-business-analyst-inflexion-analytix-private-limited-hyderabad-secunderabad-chennai-bangalore-bengaluru-0-to-3-years-020721003625?src=jobsearchDesk&sid=16253890615147164&xp=1&px=1',\n",
       " 'https://www.naukri.com/job-listings-data-scientist-oracle-india-pvt-ltd-noida-bangalore-bengaluru-5-to-9-years-010621004567?src=jobsearchDesk&sid=16253890615147164&xp=2&px=1',\n",
       " 'https://www.naukri.com/job-listings-senior-data-scientist-baker-hughes-the-network-bangalore-bengaluru-4-to-8-years-020721501523?src=jobsearchDesk&sid=16253890615147164&xp=3&px=1',\n",
       " 'https://www.naukri.com/job-listings-senior-data-scientist-fabhotel-aay-kay-model-town-bangalore-bengaluru-6-to-7-years-020721501495?src=jobsearchDesk&sid=16253890615147164&xp=4&px=1',\n",
       " 'https://www.naukri.com/job-listings-lead-data-scientist-becton-dickinson-india-pvt-ltd-bangalore-bengaluru-8-to-13-years-020721500242?src=jobsearchDesk&sid=16253890615147164&xp=5&px=1',\n",
       " 'https://www.naukri.com/job-listings-senior-data-scientist-24-7-customer-private-ltd-bangalore-bengaluru-5-to-10-years-280621501037?src=jobsearchDesk&sid=16253890615147164&xp=6&px=1',\n",
       " 'https://www.naukri.com/job-listings-senior-data-scientist-fractal-analytics-ltd-mumbai-gurgaon-gurugram-bangalore-bengaluru-4-to-8-years-290621500776?src=jobsearchDesk&sid=16253890615147164&xp=7&px=1',\n",
       " 'https://www.naukri.com/job-listings-senior-data-scientist-nielsen-india-private-limited-chennai-bangalore-bengaluru-vadodara-baroda-3-to-5-years-290621001647?src=jobsearchDesk&sid=16253890615147164&xp=8&px=1',\n",
       " 'https://www.naukri.com/job-listings-lead-data-scientist-machine-learning-data-mining-wrackle-technologies-pvt-ltd-bangalore-bengaluru-6-to-11-years-080221900886?src=jobsearchDesk&sid=16253890615147164&xp=9&px=1',\n",
       " 'https://www.naukri.com/job-listings-data-scientist-iv-conduent-bangalore-bengaluru-10-to-15-years-030721500406?src=jobsearchDesk&sid=16253890615147164&xp=10&px=1',\n",
       " 'https://www.naukri.com/job-listings-data-scientist-wipro-limited-hyderabad-secunderabad-bangalore-bengaluru-pune-5-to-10-years-280621014912?src=jobsearchDesk&sid=16253890615147164&xp=11&px=1',\n",
       " 'https://www.naukri.com/job-listings-senior-data-scientist-pluto7-bangalore-bengaluru-2-to-4-years-280621500617?src=jobsearchDesk&sid=16253890615147164&xp=12&px=1',\n",
       " 'https://www.naukri.com/job-listings-senior-data-scientist-roppen-transportation-services-private-limited-bangalore-bengaluru-5-to-8-years-010721000825?src=jobsearchDesk&sid=16253890615147164&xp=13&px=1',\n",
       " 'https://www.naukri.com/job-listings-sr-data-scientist-nielseniq-bangalore-bengaluru-3-to-5-years-300621501250?src=jobsearchDesk&sid=16253890615147164&xp=14&px=1',\n",
       " 'https://www.naukri.com/job-listings-senior-data-scientist-gojek-tech-bangalore-bengaluru-3-to-6-years-300621500215?src=jobsearchDesk&sid=16253890615147164&xp=15&px=1',\n",
       " 'https://www.naukri.com/job-listings-senior-data-scientist-go-jek-india-bangalore-bengaluru-5-to-10-years-300621500214?src=jobsearchDesk&sid=16253890615147164&xp=16&px=1',\n",
       " 'https://www.naukri.com/job-listings-senior-data-scientist-publicis-groupe-bangalore-bengaluru-2-to-5-years-290621500896?src=jobsearchDesk&sid=16253890615147164&xp=17&px=1',\n",
       " 'https://www.naukri.com/job-listings-senior-data-scientist-baker-hughes-incorporated-bangalore-bengaluru-3-to-7-years-010721501049?src=jobsearchDesk&sid=16253890615147164&xp=18&px=1',\n",
       " 'https://www.naukri.com/job-listings-sr-data-scientist-payments-airbnb-global-capability-center-private-limited-bangalore-bengaluru-4-to-6-years-300621903935?src=jobsearchDesk&sid=16253890615147164&xp=19&px=1',\n",
       " 'https://www.naukri.com/job-listings-senior-data-scientist-lendingkart-finance-limited-bangalore-bengaluru-1-to-5-years-300621500051?src=jobsearchDesk&sid=16253890615147164&xp=20&px=1']"
      ]
     },
     "execution_count": 542,
     "metadata": {},
     "output_type": "execute_result"
    }
   ],
   "source": [
    "job_desc =[]\n",
    "for i in desc:\n",
    "    job_desc.append(i.get_attribute('href'))\n",
    "job_desc"
   ]
  },
  {
   "cell_type": "code",
   "execution_count": 139,
   "metadata": {},
   "outputs": [
    {
     "data": {
      "text/plain": [
       "['Brief about the Role\\nThe Platforms team of the Data Science Group at [24]7.ai builds scalable AI to aid in conversational AI, agent assist solutions, and ad personalization for the Cloud. We are looking for a highly motivated and qualified data scientist to build some of our AI initiatives. This role is ideal for candidates with strong, hands-on skills in machine learning and natural language processing.\\nEducational Qualifications:\\nBachelors, Master’s or PhD degree from reputed universities or institutes in one of the following disciplines:\\nArtificial Intelligence / Machine Learning\\nData Science\\nCognitive Computing\\nComputational Linguistics\\nComputer Science\\nRequirements\\n4+ years of experience with general purpose programming languages e.g., Python, C/C++, Java\\n4+ years of hands-on experience in machine learning\\nExperience in various deep learning models, e.g., transformers, LSTMs, RNNs\\nExperience in solving problems related to Natural Language Processing (NLP), Natural Language Understanding (NLU), and Natural Language Generation (NLG)\\nExperience with machine learning platforms such as TensorFlow, TensorFlow Extended, PyTorch\\nExperience building and deploying machine learning models on the Cloud (Google Cloud, Azure, AWS)\\nExperience with production architecture of machine learning systems\\nGood to have exposure to conversational AI, AI-based question-answering systems, AI-based compliance and monitoring systems, and ad personalization\\nGood to have exposure to MLOps pipelines and Kubeflow\\nExcellent communication skills\\nAbility to collaborate cross-functionally\\nGood presentation skills\\nAttention to detail\\nResponsibilities\\nCollaborate with the Engineering and Product teams to implement machine learning models into the products and offerings of [24]7.ai\\nCollaborate with your team members. Be responsible for implementing the machine learning models, testing them, refining them, and taking them to production\\nCollaborate within the Data Science Group to review and refine your work to ensure the highest quality\\nTake end-to-end ownership of AI initiatives\\nProactively discuss ideas for feature enhancements with the data science leadership and product leadership',\n",
       " 'Brief about the Role\\nThe Platforms team of the Data Science Group at [24]7.ai builds scalable AI to aid in conversational AI, agent assist solutions, and ad personalization for the Cloud. We are looking for a highly motivated and qualified data scientist to lead some of our AI initiatives. This role is ideal for candidates with strong, hands-on skills in machine learning and natural language processing.\\nEducational Qualifications:\\nBachelors, Master’s or PhD degree from reputed universities or institutes in one of the following disciplines:\\nArtificial Intelligence / Machine Learning\\nData Science\\nCognitive Computing\\nComputational Linguistics\\nComputer Science\\nRequirements\\n10+ years of experience with general purpose programming languages e.g., Python, C/C++, Java\\n10+ years of hands-on experience in machine learning\\n4+ years of experience leading multiple machine learning projects simultaneously\\nExtensive experience in various deep learning models, e.g., transformers, LSTMs, RNNs\\nExperience in solving problems related to Natural Language Processing (NLP), Natural Language Understanding (NLU), and Natural Language Generation (NLG)\\nExperience with machine learning platforms such as TensorFlow, TensorFlow Extended, PyTorch\\nExperience building and deploying machine learning models on the Cloud (Google Cloud, Azure, AWS)\\nExperience with production architecture of machine learning systems\\nExperience leading and mentoring a team of data scientists\\nGood to have exposure to conversational AI, AI-based question-answering systems, and AI-based compliance and monitoring systems\\nGood to have exposure to MLOps pipelines and Kubeflow\\nExcellent communication skills\\nAbility to collaborate cross-functionally\\nGood presentation skills\\nAttention to detail\\nResponsibilities\\nCollaborate with the Engineering and Product teams to define and build AI models into the products and offerings of [24]7.ai\\nLead the development of machine learning models and their production architecture\\nCollaborate within the Data Science Group to review and refine your work\\nLead and own the AI initiatives end to end for at least 2-3 products\\nLead and mentor a team of data scientists, and be responsible for their work allocation and tracking\\nWork with the data science leadership and product leadership to define the AI roadmap for the company',\n",
       " 'Role: Data Scientist\\n\\nRoles and Responsibilities\\nSuitable candidates will be part of Wipro Digital-Intelligent Enterprise practice. The role entails leveraging Data Science and Machine Learning to solve typical problems within an organization and create IP that could be deployed in a productized mode. This will entail significant hands-on work on multiple Big Data Technologies, Data Analysis, Identifying data patterns, ML models, Insights generation. The role entails deployment in a customer context and managing customer expectations.\\n\\nTechnical Skills Required:\\nHands on with Python or R\\nAnalytics using industry leading BI tools and technologies\\nImplementation knowledge of supervised\\\\un-supervised machine learning algorithms\\nGood statistical analysis skills for data pre-processing and data wrangling\\nExperienced in using big data frameworks like Hadoop\\nKnowledge of business intelligence tools or reporting tools\\n\\nData Preparation for Modeling\\nMissing Data Imputation,Outlier Treatment\\nScaling, Normalization, Standardization\\nEncoding for Categorical Variables\\nOversampling\\\\Undersampling for reducing class imbalance\\n\\nExperience in building solutions using Model Library\\nFeature Selection\\nTree-based Ensemble Models\\nGradient\\\\Adaptive Boosted Trees\\nHyper-parameter tuning\\nBuilding Prediction mechanisms using methods like Logistic regression, voting classifier stacking etc',\n",
       " 'Responsibilities:\\nBuild and Optimize Machine Learning models.\\nWork with large/complex datasets to solve difficult and non-routine analysis problems, applying advanced analytical methods as needed.\\nBuild and prototype data pipelines for analysis at scale.\\nWork cross-functionally with Business Analysts and Data Engineers to help develop cutting edge and innovative artificial intelligence and machine learning models.\\nMake recommendations for selections on machine learning models.\\nDrive accuracy levels to the next stage of the given ML models.\\nExperience in developing visualization and User\\nGood exposure in exploratory data analysis\\nStrong experience in Statistics and ML algorithms.\\nMinimum qualifications:\\n(2-4) years of relevant work experience in ML and advanced data analytics(e.g., as a Machine Learning Specialist / Data scientist ).\\nStrong Experience using machine learning and artificial intelligence frameworks such as Tensorflow, sci-kit learn, Keras using python.\\nGood in Python/R/SAS programming.\\nUnderstanding of Cloud platforms like GCP, AWS, or other.\\nPreferred qualifications:\\nWork experience in building data pipelines to ingest, cleanse and transform data.\\nApplied experience with machine learning on large datasets and experience translating analysis results into business recommendations.\\nDemonstrated skills in selecting the right statistical tools given a data analysis problem.\\nDemonstrated effective written and verbal communication skills.\\nDemonstrated willingness to both teach others and learn new techniques',\n",
       " 'ABOUT THIS JOB\\nNielsenIQ Advanced Analytics team develops and promotes a portfolio of global products. Leveraging NielsenIQs unparalleled data and global platforms, the Advanced Analytics team creates solutions to enable our clients to make better business decisions every day.  We partner with Product Owners and Core Technology Teams to build scalable, always on,  analytic products using relevant modeling/ML techniques.\\nWe’re looking for a passionate and talented Senior Data Scientist to join our growing team. In this role, you’ll have the chance to roll up your sleeves and apply data science methods and analytics to sustain NielsenIQ Analytics growth. Successful candidates are intellectually curious builders and active learners who are biased toward action, new problem solving.\\nRoles & Responsibilities :\\nUnderstand business issues, stakeholder requirement and expectations\\nPerform relevant modeling analysis and POC exploring multiple techniques\\nEnsure Analytics model quality\\nDocument and present findings and recommendations on methodology in a structured way to various stakeholder or partnering teams (Engineering, Tech, Product leader).\\nWork closely with the Engineering and Tech team to convert those POC into fully scalable products.\\nActive and effective collaboration with other project team members (other Data Scientist, Data Steward, Technology Engineer)\\nCollaboratively manage projects from timeline creation to project completion, managing expectations with leaders and colleagues\\nEncourage team building, best practices sharing especially with more junior team members.\\nStay abreast of developments in the area to ensure bringing the most appropriate solutions to our business\\nAbout You\\nYou’ve built a decent track record in research and data analytics. And you have the communication chops to translate it all into conversations. While you’ve worked with global cross-functional teams, you can also put your head down and focus on independent projects. Seeing the big picture takes attention to detail. Keeping up with the fast-changing world of technology takes someone who recognizes that. You know what’s happening in big data and you’re ready to influence what’s next.\\nQualifications\\nMasters degree in Data Sciences, mathematics or a closely related field\\n3 to 5 years of experience as a Data Scientist in the business\\nStrong knowledge of statistical modelling, machine learning.\\nExperience in machine learning, supervised and unsupervised: Forecasting, Classification, Data/Text Mining, NLP, Decision Trees, Adaptive Decision Algorithms, Random Forest, Search Algorithms, Neural Networks, Deep Learning Algorithms\\nExperience with Optimisation techniques: linear programming, integer programming, genetic algorithm, constrained optimisation\\nExperience in working on distributed or cloud computing platforms such as Google Cloud or Microsoft Azure\\nProficiency in Data Science coding languages like Python, PySpark, SQL, R in a cloud environment like DataBricks\\nExperience using collaborative development tools (git).\\nExperience working with Agile methodologies (SCRUM)\\nStrong problem solving and excellent communication skills, independent working style\\nExperience in an FMCG company is a strong plus',\n",
       " 'About You\\nYou are a highly motivated person with a solid understanding of mainstream ML/AI algorithms. You have hands-on experience using popular frameworks to train, test, and deploy ML models in production environments. You have experience with statistical methods and tools for analyzing large and imperfect data sets to identify patterns, extract meaningful signals from noise, and build ML models. You are comfortable with building your own tools and infrastructure, when necessary. You are an excellent communicator and are able to convey complex ideas to different audiences. You have intense curiosity mixed with healthy skepticism you are interested in any problem where data can be applied, and you understand the importance of vetting analysis to make sure data isn t misrepresented. Above all, you are excited about working with data, and you know how to realize your ideas with code.\\nResponsibilities\\nUncover business and product opportunities by efficient and actionable analysis, and present findings in a clear manner.\\nProcess large amounts data, perform data cleansing, and verify the integrity of data.\\nDevelop ML/AI models to address use-cases in the areas of security, IT automation, user experience, and optimization.\\nBuild prototypes of systems to demonstrate feasibility of proposed ML models.\\nCollaborate with engineers and assist them with the design and implementation of ML pipelines (data ingestion, feature extraction, training, testing and validation, inference, and continual learning) in production systems.\\nAnalyze the effectiveness of new features after they are introduced in the product.\\nFollow relevant work being done in academic and other research organizations; be as close as possible to the state-of-the-art in the fields of ML and AI.\\nRequired Qualifications\\n10+ years of work experience, of which 5+ years of experience in data science or machine learning working with large data sets; experience in software engineering desirable.\\nFirst-hand experience working with machine learning models and techniques such as decision tree, gradient boosted tree, random forest, ensemble methods, clustering, principal component analysis, and recommendation systems. Knowledge of neural networks, deep learning, reinforcement learning, and natural language processing (NLP) will be useful.\\nProficient in Python. Working knowledge of other programming languages such as Java, Scala, or C++ is desirable.\\nKnowledge of different SQL and NoSQL database systems.\\nSolid understanding of concepts from statistics such as distributions, hypothesis testing, Bayesian methods, maximum likelihood estimation.\\nExperience using Python statistical processing libraries such as NumPy, Pandas, SciPy, Scikit-Learn, etc.\\nCompetency with data visualization (Matplotlib, Seaborn, etc.) and analysis tools (Tableau, Presto, etc.)\\nFamiliarity with large-scale data processing frameworks such as Apache Spark, and cloud computing environments such as Amazon Web Services (AWS).\\nExposure to machine learning frameworks such as Keras, TensorFlow, MXNet, Caffe2, PyTorch, H2O.ai, Amazon SageMaker is a plus.\\nMS or above in Computer Science, Electrical Engineering, Mathematics, Statistics, Physics or equivalent, or commensurate work experience.',\n",
       " 'Job Responsibilities\\nUse predictive modeling to increase and optimize customer experiences, revenue generation, campaign optimization and other business outcomes\\nWork with product management to develop data use cases and embed predictive models in workflows on resource constrained platforms and cloud enabled.\\nSelecting features, building and optimizing classifiers using machine learning and deep learning techniques\\nCollaborates with Data Engineers to enhance data collection and ingestion/curation techniques to include information that is relevant for building analytic systems\\nProcessing, cleansing, and verifying the integrity of data used for analysis\\nDevelop processes and tools to monitor and analyze model performance and data accuracy. Life cycle management of predictive models.\\nAdherence to compliance procedures in accordance with regulatory standards, requirements, and policies. Managing and designing the reporting environment, including data sources security, and metadata.\\nJob Qualifications:\\nMaster s degree or PhD in Computer Science, Information management, Statistics or related field, with 10+ years of experience in the Consumer or Healthcare industry manipulating data sets and building predictive models with focus on product development\\nExperience in statistical modelling, machine learning, data mining, unstructured data analytics and natural language processing. Sound understanding of - Bayesian Modelling, Classification Models, Cluster Analysis, Neural Network, Nonparametric Methods, Multivariate Statistics, etc.\\nStrong hands on knowledge of ML techniques like regression algorithms, K-NN, Na ve Bayes, SVM and ensemble techniques like Random forest, AdaBoost etc\\nHaving strong knowledge in unsupervised learning algorithms using Neural networks and Deep-Learning\\nStrong knowledge in Data Wrangling and Exploration techniques to identify the patterns, trends and outliners.\\nDeep knowledge and practical experience with data science toolkits, such as NumPy, Pandas, scikit-learn or equivalent\\nExperience with data visualization tools, such as QlikView, Matplotlib, seaborn or equivalent tools.\\nProficiency in using query languages, such as SQL, PL/SQL\\nHands on experience in the one or more databases like Hadoop, AWS Redshift, Snowflake etc.\\nGood applied statistics skills, such as distributions, statistical testing, regression, etc.\\nGood ETL scripting and programming skills, such as Python, R or Scala to integrate developed solution into the proposition.\\nA team player capable of working and integrating across cross-functional team for implementing project requirements. Experience in technical requirements gathering and documentation.\\nAbility to work effectively and independently in a fast-paced global collaborative agile team environment with tight deadlines\\nA flexible, pragmatic and collaborative team player with innate ability to engage with stakeholders at all levels in the organization.\\nA self-starter with high levels of drive, energy, resilience and a desire for professional excellence with a passion for data and data science',\n",
       " 'Your responsibilities\\nEnsure strategic direction for data science capabilities for Philips is created and kept up to date on a regular basis\\nContinuously evaluate the latest techniques in Artificial intelligence, machine learning, robotics, statistical analysis\\nImplement advanced algorithms for business problems based on statistical analysis, coding, deep learning, advanced data mining techniques etc.\\nDevelop new algorithms if necessary, to bring predictive, advanced statistics / learning based solutions\\nDevelop algorithms to further automate processes and feed insights back into PIL for better business outcome\\nCo-create with business / market / functions or IT platforms on requirements\\nEnsure quality of data and solution developed\\nLead and drive data mining, creating algorithms, collection of data, collection of procedures during the design, build phases of a project\\nLead and drive in deploy and testing of the solutions and insights\\nSpot and evaluate emerging/cutting edge, open source, data science/machine learning libraries\\nYou are part of:\\nYou will be part of Group IT , Information and Data Management team that drives business impact through Data Science and Advanced analytics. A team that instigates collaboration across diverse teams globally to manage Data as an asset at Philips.\\nCore competencies needed to be successful:\\nA Master s Degree or PhD in Computer Science, Econometrics, Artificial Intelligence, Applied Mathematics, Statistics or equivalent;\\n10-15 years of overall experience in data science, data analytics roles\\n10+ years of experience in multiple of machine learning, data mining, deep learning, artificial intelligence, pattern recognition areas\\nExperience in driving implementation of solutions, data and algorithms on data warehouse and lakes like Azure , AWS, SQL etc\\nDemonstrable advanced programming experience in Python or another programming language such as Azure ML/R/Python etc ;\\nStrong analytical and social skills and the capability to translate data intelligence into valuable insights for the senior stakeholders in the company\\nAbility to formulate multiple complex business problems into hypothesis and proof of concepts for testing\\nManage Projects and lead a sub-portfolio of data science project teams to deliver results\\nCoach, Guide and direct teams of internal and vendor resources\\nCollaborate across IT platform teams to deploy solutions and drive continuous improvements\\nManage senior stakeholder in the company in a matrix organization i.e. Market / BG / Function leaders',\n",
       " 'Responsibilities\\nIdentify valuable data sources and automate collection processes\\nUndertake preprocessing of structured and unstructured data\\nAnalyze large amounts of information to discover trends and patterns\\nBuild predictive models and machine-learning algorithms\\nCombine models through ensemble modeling\\nPresent information using data visualization techniques\\nPropose solutions and strategies to business challenges\\nCollaborate with engineering and product development teams\\n\\nRequirements\\nProven experience as a Data Scientist or Data Analyst\\nExperience in data mining, Deep Learning\\nUnderstanding of machine-learning and operations research\\nExperience with NLP\\nExperience with Python\\nExperience using business intelligence tools (e.g. Tableau) and data frameworks (e.g. Hadoop)\\nAnalytical mind and business acumen\\nVery Strong math skills (e.g. statistics, algebra etc.,)\\nProblem-solving aptitude\\nExcellent communication and presentation skills',\n",
       " 'Responsibilities:\\nBuild NLP based models\\nBuild and Optimize Machine Learning models.\\nWork with large/complex datasets to solve difficult and non-routine analysis problems, applying advanced analytical methods as needed.\\nBuild and prototype data pipelines for analysis at scale.\\nWork cross-functionally with Business Analysts and Data Engineers to help develop cutting edge and innovative artificial intelligence and machine learning models.\\nMake recommendations for selections on machine learning models.\\nDrive accuracy levels to the next stage of the given ML models.\\nExperience in developing visualization and User\\nGood exposure in exploratory data analysis\\nStrong experience in Statistics and ML algorithms.\\nMinimum qualifications:\\n(3-6) years of relevant work experience in ML and advanced data analytics(e.g., as a Machine Learning Specialist / Data scientist ).\\nStrong Experience using machine learning and artificial intelligence frameworks such as Tensorflow, sci-kit learn, Keras using python.\\nGood in Python/R/SAS programming.\\nUnderstanding of Cloud platforms like GCP, AWS, or other.\\nPreferred qualifications:\\nWork experience in building data pipelines to ingest, cleanse and transform data.\\nApplied experience with machine learning on large datasets and experience translating analysis results into business recommendations.\\nDemonstrated skills in selecting the right statistical tools given a data analysis problem.\\nDemonstrated effective written and verbal communication skills.\\nDemonstrated willingness to both teach others and learn new techniques']"
      ]
     },
     "execution_count": 139,
     "metadata": {},
     "output_type": "execute_result"
    }
   ],
   "source": [
    "descrip = []\n",
    "for i in job_desc:\n",
    "    driver.get(i)\n",
    "    descri = driver.find_elements_by_xpath(\"//div[@class= 'dang-inner-html']\")\n",
    "    for j in descri:\n",
    "         descrip.append(j.text)\n",
    "    \n",
    "descrip[0:10]"
   ]
  },
  {
   "cell_type": "code",
   "execution_count": 140,
   "metadata": {},
   "outputs": [
    {
     "name": "stdout",
     "output_type": "stream",
     "text": [
      "10 10 10 10\n"
     ]
    }
   ],
   "source": [
    " print(len(job_titles[0:10]),len(company_names[0:10]),len(loc_name[0:10]),len(descrip[0:10]))"
   ]
  },
  {
   "cell_type": "code",
   "execution_count": 142,
   "metadata": {},
   "outputs": [
    {
     "data": {
      "text/html": [
       "<div>\n",
       "<style scoped>\n",
       "    .dataframe tbody tr th:only-of-type {\n",
       "        vertical-align: middle;\n",
       "    }\n",
       "\n",
       "    .dataframe tbody tr th {\n",
       "        vertical-align: top;\n",
       "    }\n",
       "\n",
       "    .dataframe thead th {\n",
       "        text-align: right;\n",
       "    }\n",
       "</style>\n",
       "<table border=\"1\" class=\"dataframe\">\n",
       "  <thead>\n",
       "    <tr style=\"text-align: right;\">\n",
       "      <th></th>\n",
       "      <th>title</th>\n",
       "      <th>company_tags</th>\n",
       "      <th>loc_tags</th>\n",
       "      <th>job_desc</th>\n",
       "    </tr>\n",
       "  </thead>\n",
       "  <tbody>\n",
       "    <tr>\n",
       "      <th>0</th>\n",
       "      <td>Senior Data Scientist</td>\n",
       "      <td>24/7 Customer</td>\n",
       "      <td>Bangalore/Bengaluru</td>\n",
       "      <td>Brief about the Role\\nThe Platforms team of th...</td>\n",
       "    </tr>\n",
       "    <tr>\n",
       "      <th>1</th>\n",
       "      <td>Principal Data Scientist</td>\n",
       "      <td>24/7 Customer</td>\n",
       "      <td>Bangalore/Bengaluru</td>\n",
       "      <td>Brief about the Role\\nThe Platforms team of th...</td>\n",
       "    </tr>\n",
       "    <tr>\n",
       "      <th>2</th>\n",
       "      <td>Data Scientist</td>\n",
       "      <td>Wipro Limited</td>\n",
       "      <td>Hyderabad/Secunderabad, Bangalore/Bengaluru, Pune</td>\n",
       "      <td>Role: Data Scientist\\n\\nRoles and Responsibili...</td>\n",
       "    </tr>\n",
       "    <tr>\n",
       "      <th>3</th>\n",
       "      <td>Senior Data Scientist</td>\n",
       "      <td>Pluto7</td>\n",
       "      <td>Bangalore/Bengaluru</td>\n",
       "      <td>Responsibilities:\\nBuild and Optimize Machine ...</td>\n",
       "    </tr>\n",
       "    <tr>\n",
       "      <th>4</th>\n",
       "      <td>Senior Data Scientist</td>\n",
       "      <td>Nielsen</td>\n",
       "      <td>Chennai, Bangalore/Bengaluru, Vadodara</td>\n",
       "      <td>ABOUT THIS JOB\\nNielsenIQ Advanced Analytics t...</td>\n",
       "    </tr>\n",
       "    <tr>\n",
       "      <th>5</th>\n",
       "      <td>Senior/Staff Data scientist</td>\n",
       "      <td>Vmware</td>\n",
       "      <td>Bangalore/Bengaluru</td>\n",
       "      <td>About You\\nYou are a highly motivated person w...</td>\n",
       "    </tr>\n",
       "    <tr>\n",
       "      <th>6</th>\n",
       "      <td>Senior Data Scientist I</td>\n",
       "      <td>Philips India Limited</td>\n",
       "      <td>Bangalore/Bengaluru</td>\n",
       "      <td>Job Responsibilities\\nUse predictive modeling ...</td>\n",
       "    </tr>\n",
       "    <tr>\n",
       "      <th>7</th>\n",
       "      <td>IDM - Lead Data Scientist</td>\n",
       "      <td>Philips India Limited</td>\n",
       "      <td>Bangalore/Bengaluru</td>\n",
       "      <td>Your responsibilities\\nEnsure strategic direct...</td>\n",
       "    </tr>\n",
       "    <tr>\n",
       "      <th>8</th>\n",
       "      <td>Senior/Lead Data Scientist</td>\n",
       "      <td>AUREUSTECH SYSTEMS PRIVATE LIMITED</td>\n",
       "      <td>Hyderabad/Secunderabad, Chennai, Bangalore/Ben...</td>\n",
       "      <td>Responsibilities\\nIdentify valuable data sourc...</td>\n",
       "    </tr>\n",
       "    <tr>\n",
       "      <th>9</th>\n",
       "      <td>Data Scientist</td>\n",
       "      <td>Pluto7</td>\n",
       "      <td>Bangalore/Bengaluru</td>\n",
       "      <td>Responsibilities:\\nBuild NLP based models\\nBui...</td>\n",
       "    </tr>\n",
       "  </tbody>\n",
       "</table>\n",
       "</div>"
      ],
      "text/plain": [
       "                         title                        company_tags  \\\n",
       "0        Senior Data Scientist                       24/7 Customer   \n",
       "1     Principal Data Scientist                       24/7 Customer   \n",
       "2               Data Scientist                       Wipro Limited   \n",
       "3        Senior Data Scientist                              Pluto7   \n",
       "4        Senior Data Scientist                             Nielsen   \n",
       "5  Senior/Staff Data scientist                              Vmware   \n",
       "6      Senior Data Scientist I               Philips India Limited   \n",
       "7    IDM - Lead Data Scientist               Philips India Limited   \n",
       "8   Senior/Lead Data Scientist  AUREUSTECH SYSTEMS PRIVATE LIMITED   \n",
       "9               Data Scientist                              Pluto7   \n",
       "\n",
       "                                            loc_tags  \\\n",
       "0                                Bangalore/Bengaluru   \n",
       "1                                Bangalore/Bengaluru   \n",
       "2  Hyderabad/Secunderabad, Bangalore/Bengaluru, Pune   \n",
       "3                                Bangalore/Bengaluru   \n",
       "4             Chennai, Bangalore/Bengaluru, Vadodara   \n",
       "5                                Bangalore/Bengaluru   \n",
       "6                                Bangalore/Bengaluru   \n",
       "7                                Bangalore/Bengaluru   \n",
       "8  Hyderabad/Secunderabad, Chennai, Bangalore/Ben...   \n",
       "9                                Bangalore/Bengaluru   \n",
       "\n",
       "                                            job_desc  \n",
       "0  Brief about the Role\\nThe Platforms team of th...  \n",
       "1  Brief about the Role\\nThe Platforms team of th...  \n",
       "2  Role: Data Scientist\\n\\nRoles and Responsibili...  \n",
       "3  Responsibilities:\\nBuild and Optimize Machine ...  \n",
       "4  ABOUT THIS JOB\\nNielsenIQ Advanced Analytics t...  \n",
       "5  About You\\nYou are a highly motivated person w...  \n",
       "6  Job Responsibilities\\nUse predictive modeling ...  \n",
       "7  Your responsibilities\\nEnsure strategic direct...  \n",
       "8  Responsibilities\\nIdentify valuable data sourc...  \n",
       "9  Responsibilities:\\nBuild NLP based models\\nBui...  "
      ]
     },
     "execution_count": 142,
     "metadata": {},
     "output_type": "execute_result"
    }
   ],
   "source": [
    "job = pd.DataFrame({})\n",
    "job['title'] = job_titles[0:10]\n",
    "job['company_tags'] = company_names[0:10]\n",
    "job['loc_tags'] = loc_names[0:10]\n",
    "job['job_desc'] = descrip[0:10]\n",
    "\n",
    "job"
   ]
  },
  {
   "cell_type": "markdown",
   "metadata": {},
   "source": [
    " In this question you have to scrape data using the filters available on the webpage as shown below:"
   ]
  },
  {
   "cell_type": "code",
   "execution_count": 156,
   "metadata": {},
   "outputs": [],
   "source": [
    "url = ' https://www.naukri.com/'\n",
    "driver.get(url)"
   ]
  },
  {
   "cell_type": "code",
   "execution_count": 157,
   "metadata": {},
   "outputs": [
    {
     "data": {
      "text/plain": [
       "<selenium.webdriver.remote.webelement.WebElement (session=\"bd73496c3d668f354566eba232c19b12\", element=\"7efd3a29-3e4a-4052-87ab-3b00e94009ec\")>"
      ]
     },
     "execution_count": 157,
     "metadata": {},
     "output_type": "execute_result"
    }
   ],
   "source": [
    "search_job = driver.find_element_by_id('qsb-keyword-sugg')\n",
    "search_job"
   ]
  },
  {
   "cell_type": "code",
   "execution_count": 158,
   "metadata": {},
   "outputs": [],
   "source": [
    "search_job.send_keys(\"Data Scientist\")"
   ]
  },
  {
   "cell_type": "code",
   "execution_count": 159,
   "metadata": {},
   "outputs": [],
   "source": [
    "search_btn = driver.find_element_by_xpath(\"/html/body/div[1]/div[3]/div[2]/section/div/form/div[3]/button\")\n",
    "search_btn.click()"
   ]
  },
  {
   "cell_type": "code",
   "execution_count": 160,
   "metadata": {},
   "outputs": [],
   "source": [
    "loc = driver.find_element_by_xpath(\"/html/body/div[1]/div[3]/div[2]/section[1]/div[2]/div[2]/div[2]/div[2]\").click()"
   ]
  },
  {
   "cell_type": "code",
   "execution_count": 161,
   "metadata": {},
   "outputs": [],
   "source": [
    "sal = driver.find_element_by_xpath(\"/html/body/div[1]/div[3]/div[2]/section[1]/div[2]/div[3]/div[2]/div[2]\").click()"
   ]
  },
  {
   "cell_type": "code",
   "execution_count": 166,
   "metadata": {
    "collapsed": true
   },
   "outputs": [
    {
     "data": {
      "text/plain": [
       "[<selenium.webdriver.remote.webelement.WebElement (session=\"bd73496c3d668f354566eba232c19b12\", element=\"88538057-c037-4d7c-a5f6-8ff4f8f2d77e\")>,\n",
       " <selenium.webdriver.remote.webelement.WebElement (session=\"bd73496c3d668f354566eba232c19b12\", element=\"5d3b805a-9c2e-43db-9170-68ab55c51446\")>,\n",
       " <selenium.webdriver.remote.webelement.WebElement (session=\"bd73496c3d668f354566eba232c19b12\", element=\"1cc485d0-c4d9-4257-a3ce-46f97a9d8cd5\")>,\n",
       " <selenium.webdriver.remote.webelement.WebElement (session=\"bd73496c3d668f354566eba232c19b12\", element=\"442a276d-2aac-4cd9-9137-8a674ae593ef\")>,\n",
       " <selenium.webdriver.remote.webelement.WebElement (session=\"bd73496c3d668f354566eba232c19b12\", element=\"044bc222-714f-4d15-9a84-961ebe57a411\")>,\n",
       " <selenium.webdriver.remote.webelement.WebElement (session=\"bd73496c3d668f354566eba232c19b12\", element=\"356e5319-5c40-4626-96a1-480a9c1222d7\")>,\n",
       " <selenium.webdriver.remote.webelement.WebElement (session=\"bd73496c3d668f354566eba232c19b12\", element=\"1652a574-9f02-4a25-9d98-f36987a59638\")>,\n",
       " <selenium.webdriver.remote.webelement.WebElement (session=\"bd73496c3d668f354566eba232c19b12\", element=\"3261500b-f9cb-4b6a-ba5f-70bd5e55929f\")>,\n",
       " <selenium.webdriver.remote.webelement.WebElement (session=\"bd73496c3d668f354566eba232c19b12\", element=\"98373856-0a86-4a96-ac75-30607a9e79bd\")>,\n",
       " <selenium.webdriver.remote.webelement.WebElement (session=\"bd73496c3d668f354566eba232c19b12\", element=\"7beebdd1-1bcf-4c5d-b1a6-60460befa528\")>,\n",
       " <selenium.webdriver.remote.webelement.WebElement (session=\"bd73496c3d668f354566eba232c19b12\", element=\"819dceaf-aa4e-4c0d-a5a5-6513f5955df3\")>,\n",
       " <selenium.webdriver.remote.webelement.WebElement (session=\"bd73496c3d668f354566eba232c19b12\", element=\"e12372bb-3d01-4996-a05b-4037453467ed\")>,\n",
       " <selenium.webdriver.remote.webelement.WebElement (session=\"bd73496c3d668f354566eba232c19b12\", element=\"bb591083-616e-489b-9e41-2c99a927ce66\")>,\n",
       " <selenium.webdriver.remote.webelement.WebElement (session=\"bd73496c3d668f354566eba232c19b12\", element=\"2ffcd035-6259-437a-99d0-25d2f2ca0758\")>,\n",
       " <selenium.webdriver.remote.webelement.WebElement (session=\"bd73496c3d668f354566eba232c19b12\", element=\"c04cf87e-0f29-4761-b758-72c098aa6faa\")>,\n",
       " <selenium.webdriver.remote.webelement.WebElement (session=\"bd73496c3d668f354566eba232c19b12\", element=\"00703bc1-b608-4fb1-bc10-68fc2b153e64\")>,\n",
       " <selenium.webdriver.remote.webelement.WebElement (session=\"bd73496c3d668f354566eba232c19b12\", element=\"432cf916-c0f6-4676-81e7-bbeea4c1abcf\")>,\n",
       " <selenium.webdriver.remote.webelement.WebElement (session=\"bd73496c3d668f354566eba232c19b12\", element=\"e0d583ec-0ddc-438b-b2b9-7434795fcaa1\")>,\n",
       " <selenium.webdriver.remote.webelement.WebElement (session=\"bd73496c3d668f354566eba232c19b12\", element=\"c3cce8bd-bf70-4eb1-96e4-c771eb8278b8\")>,\n",
       " <selenium.webdriver.remote.webelement.WebElement (session=\"bd73496c3d668f354566eba232c19b12\", element=\"d9b2998f-7de0-454a-9e03-5faa530a47f1\")>]"
      ]
     },
     "execution_count": 166,
     "metadata": {},
     "output_type": "execute_result"
    }
   ],
   "source": [
    "tit = driver.find_elements_by_xpath(\"//a[@class= 'title fw500 ellipsis']\")\n",
    "tit"
   ]
  },
  {
   "cell_type": "code",
   "execution_count": 172,
   "metadata": {},
   "outputs": [
    {
     "data": {
      "text/plain": [
       "['Data Scientist / Data Analyst -Business Analyst',\n",
       " 'Only Fresher / Data Scientist / Data Analyst / Analytics - MNC OSC',\n",
       " 'Data Scientist -Delhi',\n",
       " 'Data Scientist - Text NLP | Noida',\n",
       " 'Data Scientist',\n",
       " 'Data Scientist - Machine Learning/NLP',\n",
       " 'Data Scientist - Machine Learning/NLP',\n",
       " 'Data analytics / Data scientist intern (work from Home)',\n",
       " 'Chaayos is Looking For Data Scientist',\n",
       " 'Data Scientist']"
      ]
     },
     "execution_count": 172,
     "metadata": {},
     "output_type": "execute_result"
    }
   ],
   "source": [
    "jobtit =[]\n",
    "for i in tit:\n",
    "    jobtit.append(i.text)\n",
    "    \n",
    "jobtit[:10]"
   ]
  },
  {
   "cell_type": "code",
   "execution_count": 173,
   "metadata": {
    "collapsed": true
   },
   "outputs": [
    {
     "data": {
      "text/plain": [
       "[<selenium.webdriver.remote.webelement.WebElement (session=\"bd73496c3d668f354566eba232c19b12\", element=\"96fb8338-a81a-42bb-bfc5-37765e1e4725\")>,\n",
       " <selenium.webdriver.remote.webelement.WebElement (session=\"bd73496c3d668f354566eba232c19b12\", element=\"5063bc3e-880a-4510-822a-d345126c1968\")>,\n",
       " <selenium.webdriver.remote.webelement.WebElement (session=\"bd73496c3d668f354566eba232c19b12\", element=\"4f7be87a-a0ca-4e14-8af1-507a09a19806\")>,\n",
       " <selenium.webdriver.remote.webelement.WebElement (session=\"bd73496c3d668f354566eba232c19b12\", element=\"50164bff-2b85-478a-85cd-0d199332e73d\")>,\n",
       " <selenium.webdriver.remote.webelement.WebElement (session=\"bd73496c3d668f354566eba232c19b12\", element=\"7f6b5ffa-68c7-48d3-b803-2978b8ad73d3\")>,\n",
       " <selenium.webdriver.remote.webelement.WebElement (session=\"bd73496c3d668f354566eba232c19b12\", element=\"c8800c39-dfd6-43e8-b09a-9ff2269e7dac\")>,\n",
       " <selenium.webdriver.remote.webelement.WebElement (session=\"bd73496c3d668f354566eba232c19b12\", element=\"9830d1f2-c505-4859-806f-2e3c280ec2cd\")>,\n",
       " <selenium.webdriver.remote.webelement.WebElement (session=\"bd73496c3d668f354566eba232c19b12\", element=\"6bca2a73-e675-4f7c-b551-c5112fb0fd21\")>,\n",
       " <selenium.webdriver.remote.webelement.WebElement (session=\"bd73496c3d668f354566eba232c19b12\", element=\"6ea396cb-ddf7-47b1-a2ea-228a1c22c1fc\")>,\n",
       " <selenium.webdriver.remote.webelement.WebElement (session=\"bd73496c3d668f354566eba232c19b12\", element=\"4691618a-f35a-45e1-809b-91dd06eb53bb\")>,\n",
       " <selenium.webdriver.remote.webelement.WebElement (session=\"bd73496c3d668f354566eba232c19b12\", element=\"72bef49c-4eac-4116-9723-f80f5ee5f7ec\")>,\n",
       " <selenium.webdriver.remote.webelement.WebElement (session=\"bd73496c3d668f354566eba232c19b12\", element=\"65486769-90af-486c-a58c-19f405271d66\")>,\n",
       " <selenium.webdriver.remote.webelement.WebElement (session=\"bd73496c3d668f354566eba232c19b12\", element=\"04adde89-66e4-4ed6-a4c2-77f0a1b40730\")>,\n",
       " <selenium.webdriver.remote.webelement.WebElement (session=\"bd73496c3d668f354566eba232c19b12\", element=\"493afe6f-da7e-423f-8374-219ac4696340\")>,\n",
       " <selenium.webdriver.remote.webelement.WebElement (session=\"bd73496c3d668f354566eba232c19b12\", element=\"3937f412-e845-4360-8089-82159b1fc531\")>,\n",
       " <selenium.webdriver.remote.webelement.WebElement (session=\"bd73496c3d668f354566eba232c19b12\", element=\"4c7b11bd-2a19-4b80-aad5-765bd13b498f\")>,\n",
       " <selenium.webdriver.remote.webelement.WebElement (session=\"bd73496c3d668f354566eba232c19b12\", element=\"8a93f95b-1017-4b09-80e1-8f72dbd1d1d3\")>,\n",
       " <selenium.webdriver.remote.webelement.WebElement (session=\"bd73496c3d668f354566eba232c19b12\", element=\"0aa41348-c0c5-4490-a928-7cf4365030b1\")>,\n",
       " <selenium.webdriver.remote.webelement.WebElement (session=\"bd73496c3d668f354566eba232c19b12\", element=\"84b3a472-a494-4f9d-9be8-e6d7d8025a36\")>,\n",
       " <selenium.webdriver.remote.webelement.WebElement (session=\"bd73496c3d668f354566eba232c19b12\", element=\"7b24a7c8-1a84-45db-91f1-e9256e84bf90\")>]"
      ]
     },
     "execution_count": 173,
     "metadata": {},
     "output_type": "execute_result"
    }
   ],
   "source": [
    "comp = driver.find_elements_by_xpath(\"//a[@class= 'subTitle ellipsis fleft']\")\n",
    "comp"
   ]
  },
  {
   "cell_type": "code",
   "execution_count": 174,
   "metadata": {},
   "outputs": [
    {
     "data": {
      "text/plain": [
       "['Inflexion Analytix Private Limited',\n",
       " 'GABA Consultancy services',\n",
       " 'CHANGE LEADERS CONSULTING',\n",
       " 'Acidaes Solutions Pvt. Ltd.',\n",
       " 'NEC CORPORATION INDIA PRIVATE LIMITED',\n",
       " 'TalPro',\n",
       " 'TalPro',\n",
       " 'TalkValley LLC',\n",
       " 'Chaayos (Sunshine Teahouse Pvt. Ltd.)',\n",
       " 'Fractal Analytics']"
      ]
     },
     "execution_count": 174,
     "metadata": {},
     "output_type": "execute_result"
    }
   ],
   "source": [
    "comptit =[]\n",
    "for i in comp:\n",
    "    comptit.append(i.text)\n",
    "    \n",
    "comptit[:10]"
   ]
  },
  {
   "cell_type": "code",
   "execution_count": 176,
   "metadata": {
    "collapsed": true
   },
   "outputs": [
    {
     "data": {
      "text/plain": [
       "[<selenium.webdriver.remote.webelement.WebElement (session=\"bd73496c3d668f354566eba232c19b12\", element=\"b299915d-37f0-443a-b2d6-781e24f0d291\")>,\n",
       " <selenium.webdriver.remote.webelement.WebElement (session=\"bd73496c3d668f354566eba232c19b12\", element=\"c4dc9a7d-084a-4a5d-9708-7fae1ed0dfcb\")>,\n",
       " <selenium.webdriver.remote.webelement.WebElement (session=\"bd73496c3d668f354566eba232c19b12\", element=\"14d14370-f794-49ca-91af-90d80529725d\")>,\n",
       " <selenium.webdriver.remote.webelement.WebElement (session=\"bd73496c3d668f354566eba232c19b12\", element=\"c6bd61a2-fd96-4b9b-86ff-4402acd4bffd\")>,\n",
       " <selenium.webdriver.remote.webelement.WebElement (session=\"bd73496c3d668f354566eba232c19b12\", element=\"15649112-d268-473a-a3f0-e6235c2f0122\")>,\n",
       " <selenium.webdriver.remote.webelement.WebElement (session=\"bd73496c3d668f354566eba232c19b12\", element=\"77535a54-4c98-4bab-a45b-4693d3c3f333\")>,\n",
       " <selenium.webdriver.remote.webelement.WebElement (session=\"bd73496c3d668f354566eba232c19b12\", element=\"9340611d-3d5d-4862-ac1e-0356ebde4ed4\")>,\n",
       " <selenium.webdriver.remote.webelement.WebElement (session=\"bd73496c3d668f354566eba232c19b12\", element=\"64114f47-f996-4d47-bca0-0dbcda6eed0a\")>,\n",
       " <selenium.webdriver.remote.webelement.WebElement (session=\"bd73496c3d668f354566eba232c19b12\", element=\"2b6f4327-c0b2-4a7e-be42-8be5753b95a9\")>,\n",
       " <selenium.webdriver.remote.webelement.WebElement (session=\"bd73496c3d668f354566eba232c19b12\", element=\"db727923-60ea-449e-80a6-7c073dc8349f\")>,\n",
       " <selenium.webdriver.remote.webelement.WebElement (session=\"bd73496c3d668f354566eba232c19b12\", element=\"114d9cbf-2d5f-4cc2-93cc-df41082838ba\")>,\n",
       " <selenium.webdriver.remote.webelement.WebElement (session=\"bd73496c3d668f354566eba232c19b12\", element=\"79eb0eab-f677-483e-acfb-686623badc5b\")>,\n",
       " <selenium.webdriver.remote.webelement.WebElement (session=\"bd73496c3d668f354566eba232c19b12\", element=\"3e055e4b-6c9b-4d44-996a-0cab902e7137\")>,\n",
       " <selenium.webdriver.remote.webelement.WebElement (session=\"bd73496c3d668f354566eba232c19b12\", element=\"28236561-1032-4889-8296-a5a98a111462\")>,\n",
       " <selenium.webdriver.remote.webelement.WebElement (session=\"bd73496c3d668f354566eba232c19b12\", element=\"cb6cf43f-3848-49e7-b8dd-cd6dff2ac9ab\")>,\n",
       " <selenium.webdriver.remote.webelement.WebElement (session=\"bd73496c3d668f354566eba232c19b12\", element=\"98494cdd-f974-4245-8ae4-0a44e5205cd3\")>,\n",
       " <selenium.webdriver.remote.webelement.WebElement (session=\"bd73496c3d668f354566eba232c19b12\", element=\"52274608-5459-4ed6-861d-1e2404a770ff\")>,\n",
       " <selenium.webdriver.remote.webelement.WebElement (session=\"bd73496c3d668f354566eba232c19b12\", element=\"330abf2a-9c58-4c61-8ee2-4e4b25d28f0a\")>,\n",
       " <selenium.webdriver.remote.webelement.WebElement (session=\"bd73496c3d668f354566eba232c19b12\", element=\"f7368ef3-c62c-475d-8ff4-3df46d1f8b5f\")>,\n",
       " <selenium.webdriver.remote.webelement.WebElement (session=\"bd73496c3d668f354566eba232c19b12\", element=\"7bbc4168-6917-4559-83c3-ec357cccf317\")>]"
      ]
     },
     "execution_count": 176,
     "metadata": {},
     "output_type": "execute_result"
    }
   ],
   "source": [
    "loca = driver.find_elements_by_xpath(\"//li[@class= 'fleft grey-text br2 placeHolderLi location']/span\")\n",
    "loca"
   ]
  },
  {
   "cell_type": "code",
   "execution_count": 177,
   "metadata": {},
   "outputs": [
    {
     "data": {
      "text/plain": [
       "['Mumbai, Hyderabad/Secunderabad, Pune, Gurgaon/Gurugram, Chennai, Bangalore/Bengaluru',\n",
       " 'Noida, Gurgaon/Gurugram, Delhi / NCR',\n",
       " 'New Delhi',\n",
       " 'Noida',\n",
       " 'Noida',\n",
       " 'Gurgaon/Gurugram',\n",
       " 'Gurgaon/Gurugram',\n",
       " 'Kolkata, Bangalore/Bengaluru, Delhi / NCR',\n",
       " 'New Delhi',\n",
       " 'Mumbai, Gurgaon/Gurugram, Bangalore/Bengaluru']"
      ]
     },
     "execution_count": 177,
     "metadata": {},
     "output_type": "execute_result"
    }
   ],
   "source": [
    "loctit =[]\n",
    "for i in loca:\n",
    "    loctit.append(i.text)\n",
    "    \n",
    "loctit[:10]"
   ]
  },
  {
   "cell_type": "code",
   "execution_count": 178,
   "metadata": {
    "collapsed": true
   },
   "outputs": [
    {
     "data": {
      "text/plain": [
       "[<selenium.webdriver.remote.webelement.WebElement (session=\"bd73496c3d668f354566eba232c19b12\", element=\"74b5ac61-b92f-42ed-8fea-3e6a2e076e14\")>,\n",
       " <selenium.webdriver.remote.webelement.WebElement (session=\"bd73496c3d668f354566eba232c19b12\", element=\"0d6c7685-b512-489c-a302-b10b41de716b\")>,\n",
       " <selenium.webdriver.remote.webelement.WebElement (session=\"bd73496c3d668f354566eba232c19b12\", element=\"04b97db0-48a5-4294-a36c-bbc90fa07216\")>,\n",
       " <selenium.webdriver.remote.webelement.WebElement (session=\"bd73496c3d668f354566eba232c19b12\", element=\"2b630802-4621-45f0-83bb-a45a2d3cc7aa\")>,\n",
       " <selenium.webdriver.remote.webelement.WebElement (session=\"bd73496c3d668f354566eba232c19b12\", element=\"e6708e6a-3aa6-4623-b624-1ca9d7bbc60f\")>,\n",
       " <selenium.webdriver.remote.webelement.WebElement (session=\"bd73496c3d668f354566eba232c19b12\", element=\"e786c272-fbf4-4757-938d-e2eccaea5da3\")>,\n",
       " <selenium.webdriver.remote.webelement.WebElement (session=\"bd73496c3d668f354566eba232c19b12\", element=\"baa44eca-e0b0-4ca2-906b-19e4a5e7e1e0\")>,\n",
       " <selenium.webdriver.remote.webelement.WebElement (session=\"bd73496c3d668f354566eba232c19b12\", element=\"12dd49a8-e305-4fcb-bfcf-355e689ec136\")>,\n",
       " <selenium.webdriver.remote.webelement.WebElement (session=\"bd73496c3d668f354566eba232c19b12\", element=\"9c51c214-0d80-4910-875c-bc0fffe18292\")>,\n",
       " <selenium.webdriver.remote.webelement.WebElement (session=\"bd73496c3d668f354566eba232c19b12\", element=\"326f2abd-d748-4d79-9ff3-13fdcc1357e6\")>,\n",
       " <selenium.webdriver.remote.webelement.WebElement (session=\"bd73496c3d668f354566eba232c19b12\", element=\"b0197d6c-7f8a-4032-a013-656846fad996\")>,\n",
       " <selenium.webdriver.remote.webelement.WebElement (session=\"bd73496c3d668f354566eba232c19b12\", element=\"63753bef-86a7-4603-bcd9-ac27b710ecc0\")>,\n",
       " <selenium.webdriver.remote.webelement.WebElement (session=\"bd73496c3d668f354566eba232c19b12\", element=\"8031d60d-ea49-4389-9c0e-efc279e2b864\")>,\n",
       " <selenium.webdriver.remote.webelement.WebElement (session=\"bd73496c3d668f354566eba232c19b12\", element=\"c883581c-fd13-4f00-aa7b-814d1494a94b\")>,\n",
       " <selenium.webdriver.remote.webelement.WebElement (session=\"bd73496c3d668f354566eba232c19b12\", element=\"7465f438-1311-43dd-8c51-deae2fcff98e\")>,\n",
       " <selenium.webdriver.remote.webelement.WebElement (session=\"bd73496c3d668f354566eba232c19b12\", element=\"a397cafc-0c15-4780-8dc2-6cfb4a565cfe\")>,\n",
       " <selenium.webdriver.remote.webelement.WebElement (session=\"bd73496c3d668f354566eba232c19b12\", element=\"19360397-8e89-4502-bff9-302da5bbed74\")>,\n",
       " <selenium.webdriver.remote.webelement.WebElement (session=\"bd73496c3d668f354566eba232c19b12\", element=\"0644a90c-0684-4edd-95ae-b0503103efec\")>,\n",
       " <selenium.webdriver.remote.webelement.WebElement (session=\"bd73496c3d668f354566eba232c19b12\", element=\"c7d67bd7-2c01-401a-8e85-995ffd941d7c\")>,\n",
       " <selenium.webdriver.remote.webelement.WebElement (session=\"bd73496c3d668f354566eba232c19b12\", element=\"a7d8679b-a8ed-4166-b994-cbbca5475921\")>]"
      ]
     },
     "execution_count": 178,
     "metadata": {},
     "output_type": "execute_result"
    }
   ],
   "source": [
    "expr = driver.find_elements_by_xpath(\"//li[@class= 'fleft grey-text br2 placeHolderLi experience']/span\")\n",
    "expr"
   ]
  },
  {
   "cell_type": "code",
   "execution_count": 179,
   "metadata": {},
   "outputs": [
    {
     "data": {
      "text/plain": [
       "['0-3 Yrs',\n",
       " '0-0 Yrs',\n",
       " '5-8 Yrs',\n",
       " '3-5 Yrs',\n",
       " '3-8 Yrs',\n",
       " '2-6 Yrs',\n",
       " '2-4 Yrs',\n",
       " '0-5 Yrs',\n",
       " '0-5 Yrs',\n",
       " '3-7 Yrs']"
      ]
     },
     "execution_count": 179,
     "metadata": {},
     "output_type": "execute_result"
    }
   ],
   "source": [
    "exptit = []\n",
    "for i in expr:\n",
    "    exptit.append(i.text)\n",
    "    \n",
    "exptit[:10]"
   ]
  },
  {
   "cell_type": "code",
   "execution_count": 180,
   "metadata": {},
   "outputs": [
    {
     "data": {
      "text/html": [
       "<div>\n",
       "<style scoped>\n",
       "    .dataframe tbody tr th:only-of-type {\n",
       "        vertical-align: middle;\n",
       "    }\n",
       "\n",
       "    .dataframe tbody tr th {\n",
       "        vertical-align: top;\n",
       "    }\n",
       "\n",
       "    .dataframe thead th {\n",
       "        text-align: right;\n",
       "    }\n",
       "</style>\n",
       "<table border=\"1\" class=\"dataframe\">\n",
       "  <thead>\n",
       "    <tr style=\"text-align: right;\">\n",
       "      <th></th>\n",
       "      <th>tit</th>\n",
       "      <th>comp</th>\n",
       "      <th>loca</th>\n",
       "      <th>expr</th>\n",
       "    </tr>\n",
       "  </thead>\n",
       "  <tbody>\n",
       "    <tr>\n",
       "      <th>0</th>\n",
       "      <td>Data Scientist / Data Analyst -Business Analyst</td>\n",
       "      <td>Inflexion Analytix Private Limited</td>\n",
       "      <td>Mumbai, Hyderabad/Secunderabad, Pune, Gurgaon/...</td>\n",
       "      <td>0-3 Yrs</td>\n",
       "    </tr>\n",
       "    <tr>\n",
       "      <th>1</th>\n",
       "      <td>Only Fresher / Data Scientist / Data Analyst /...</td>\n",
       "      <td>GABA Consultancy services</td>\n",
       "      <td>Noida, Gurgaon/Gurugram, Delhi / NCR</td>\n",
       "      <td>0-0 Yrs</td>\n",
       "    </tr>\n",
       "    <tr>\n",
       "      <th>2</th>\n",
       "      <td>Data Scientist -Delhi</td>\n",
       "      <td>CHANGE LEADERS CONSULTING</td>\n",
       "      <td>New Delhi</td>\n",
       "      <td>5-8 Yrs</td>\n",
       "    </tr>\n",
       "    <tr>\n",
       "      <th>3</th>\n",
       "      <td>Data Scientist - Text NLP | Noida</td>\n",
       "      <td>Acidaes Solutions Pvt. Ltd.</td>\n",
       "      <td>Noida</td>\n",
       "      <td>3-5 Yrs</td>\n",
       "    </tr>\n",
       "    <tr>\n",
       "      <th>4</th>\n",
       "      <td>Data Scientist</td>\n",
       "      <td>NEC CORPORATION INDIA PRIVATE LIMITED</td>\n",
       "      <td>Noida</td>\n",
       "      <td>3-8 Yrs</td>\n",
       "    </tr>\n",
       "    <tr>\n",
       "      <th>5</th>\n",
       "      <td>Data Scientist - Machine Learning/NLP</td>\n",
       "      <td>TalPro</td>\n",
       "      <td>Gurgaon/Gurugram</td>\n",
       "      <td>2-6 Yrs</td>\n",
       "    </tr>\n",
       "    <tr>\n",
       "      <th>6</th>\n",
       "      <td>Data Scientist - Machine Learning/NLP</td>\n",
       "      <td>TalPro</td>\n",
       "      <td>Gurgaon/Gurugram</td>\n",
       "      <td>2-4 Yrs</td>\n",
       "    </tr>\n",
       "    <tr>\n",
       "      <th>7</th>\n",
       "      <td>Data analytics / Data scientist intern (work f...</td>\n",
       "      <td>TalkValley LLC</td>\n",
       "      <td>Kolkata, Bangalore/Bengaluru, Delhi / NCR</td>\n",
       "      <td>0-5 Yrs</td>\n",
       "    </tr>\n",
       "    <tr>\n",
       "      <th>8</th>\n",
       "      <td>Chaayos is Looking For Data Scientist</td>\n",
       "      <td>Chaayos (Sunshine Teahouse Pvt. Ltd.)</td>\n",
       "      <td>New Delhi</td>\n",
       "      <td>0-5 Yrs</td>\n",
       "    </tr>\n",
       "    <tr>\n",
       "      <th>9</th>\n",
       "      <td>Data Scientist</td>\n",
       "      <td>Fractal Analytics</td>\n",
       "      <td>Mumbai, Gurgaon/Gurugram, Bangalore/Bengaluru</td>\n",
       "      <td>3-7 Yrs</td>\n",
       "    </tr>\n",
       "  </tbody>\n",
       "</table>\n",
       "</div>"
      ],
      "text/plain": [
       "                                                 tit  \\\n",
       "0    Data Scientist / Data Analyst -Business Analyst   \n",
       "1  Only Fresher / Data Scientist / Data Analyst /...   \n",
       "2                              Data Scientist -Delhi   \n",
       "3                  Data Scientist - Text NLP | Noida   \n",
       "4                                     Data Scientist   \n",
       "5              Data Scientist - Machine Learning/NLP   \n",
       "6              Data Scientist - Machine Learning/NLP   \n",
       "7  Data analytics / Data scientist intern (work f...   \n",
       "8              Chaayos is Looking For Data Scientist   \n",
       "9                                     Data Scientist   \n",
       "\n",
       "                                    comp  \\\n",
       "0     Inflexion Analytix Private Limited   \n",
       "1              GABA Consultancy services   \n",
       "2              CHANGE LEADERS CONSULTING   \n",
       "3            Acidaes Solutions Pvt. Ltd.   \n",
       "4  NEC CORPORATION INDIA PRIVATE LIMITED   \n",
       "5                                 TalPro   \n",
       "6                                 TalPro   \n",
       "7                         TalkValley LLC   \n",
       "8  Chaayos (Sunshine Teahouse Pvt. Ltd.)   \n",
       "9                      Fractal Analytics   \n",
       "\n",
       "                                                loca     expr  \n",
       "0  Mumbai, Hyderabad/Secunderabad, Pune, Gurgaon/...  0-3 Yrs  \n",
       "1               Noida, Gurgaon/Gurugram, Delhi / NCR  0-0 Yrs  \n",
       "2                                          New Delhi  5-8 Yrs  \n",
       "3                                              Noida  3-5 Yrs  \n",
       "4                                              Noida  3-8 Yrs  \n",
       "5                                   Gurgaon/Gurugram  2-6 Yrs  \n",
       "6                                   Gurgaon/Gurugram  2-4 Yrs  \n",
       "7          Kolkata, Bangalore/Bengaluru, Delhi / NCR  0-5 Yrs  \n",
       "8                                          New Delhi  0-5 Yrs  \n",
       "9      Mumbai, Gurgaon/Gurugram, Bangalore/Bengaluru  3-7 Yrs  "
      ]
     },
     "execution_count": 180,
     "metadata": {},
     "output_type": "execute_result"
    }
   ],
   "source": [
    "jobb=pd.DataFrame({})\n",
    "jobb['tit'] = jobtit[:10]\n",
    "jobb['comp'] = comptit[:10]\n",
    "jobb['loca'] = loctit[:10]\n",
    "jobb['expr'] = exptit[:10]\n",
    "\n",
    "jobb"
   ]
  },
  {
   "cell_type": "markdown",
   "metadata": {},
   "source": [
    "Write a python program to scrape data for first 10 job results for Data scientist Designation in Noida location. You have to scrape company_name, No. of days ago when job was posted, Rating of the company."
   ]
  },
  {
   "cell_type": "code",
   "execution_count": 217,
   "metadata": {},
   "outputs": [],
   "source": [
    "url = ' https://www.glassdoor.co.in/index.htm'\n",
    "driver.get(url)"
   ]
  },
  {
   "cell_type": "code",
   "execution_count": 220,
   "metadata": {},
   "outputs": [
    {
     "data": {
      "text/plain": [
       "<selenium.webdriver.remote.webelement.WebElement (session=\"bd73496c3d668f354566eba232c19b12\", element=\"5bcb4549-7ecc-47d4-acf0-bcdb2ecf2b71\")>"
      ]
     },
     "execution_count": 220,
     "metadata": {},
     "output_type": "execute_result"
    }
   ],
   "source": [
    "search_job = driver.find_element_by_id('sc.keyword')\n",
    "search_job"
   ]
  },
  {
   "cell_type": "code",
   "execution_count": 221,
   "metadata": {},
   "outputs": [],
   "source": [
    "search_job.send_keys(\"Data Scientist\")"
   ]
  },
  {
   "cell_type": "code",
   "execution_count": 222,
   "metadata": {},
   "outputs": [
    {
     "data": {
      "text/plain": [
       "<selenium.webdriver.remote.webelement.WebElement (session=\"bd73496c3d668f354566eba232c19b12\", element=\"343f0124-c688-421a-9f3e-2bab8923978f\")>"
      ]
     },
     "execution_count": 222,
     "metadata": {},
     "output_type": "execute_result"
    }
   ],
   "source": [
    "loc =driver.find_element_by_id('sc.location')\n",
    "loc"
   ]
  },
  {
   "cell_type": "code",
   "execution_count": 223,
   "metadata": {},
   "outputs": [],
   "source": [
    "loc.send_keys(\"Noida\")"
   ]
  },
  {
   "cell_type": "code",
   "execution_count": 224,
   "metadata": {},
   "outputs": [],
   "source": [
    "search_btn = driver.find_element_by_xpath(\"/html/body/header/nav[1]/div/div/div/div[4]/div[2]/form/div/button/span\")\n",
    "search_btn.click()"
   ]
  },
  {
   "cell_type": "code",
   "execution_count": 226,
   "metadata": {
    "collapsed": true
   },
   "outputs": [
    {
     "data": {
      "text/plain": [
       "[<selenium.webdriver.remote.webelement.WebElement (session=\"bd73496c3d668f354566eba232c19b12\", element=\"8d6047bf-9ac4-4e67-bd73-ae2a243e45f2\")>,\n",
       " <selenium.webdriver.remote.webelement.WebElement (session=\"bd73496c3d668f354566eba232c19b12\", element=\"b5223556-04bb-450e-8d02-3d16774ddb78\")>,\n",
       " <selenium.webdriver.remote.webelement.WebElement (session=\"bd73496c3d668f354566eba232c19b12\", element=\"9ea48763-190e-4ac5-b58e-1f8e217aec9e\")>,\n",
       " <selenium.webdriver.remote.webelement.WebElement (session=\"bd73496c3d668f354566eba232c19b12\", element=\"be6b3a15-2219-40ba-99b8-3fa03f6b9427\")>,\n",
       " <selenium.webdriver.remote.webelement.WebElement (session=\"bd73496c3d668f354566eba232c19b12\", element=\"261229a5-4487-4974-b7ac-a9754c803d32\")>,\n",
       " <selenium.webdriver.remote.webelement.WebElement (session=\"bd73496c3d668f354566eba232c19b12\", element=\"50e61593-c3fe-4b5f-8e1e-f60957921b2d\")>,\n",
       " <selenium.webdriver.remote.webelement.WebElement (session=\"bd73496c3d668f354566eba232c19b12\", element=\"d92fbe0d-fb64-4f1a-abd0-95b5b745c7cb\")>,\n",
       " <selenium.webdriver.remote.webelement.WebElement (session=\"bd73496c3d668f354566eba232c19b12\", element=\"10caf9cc-28a1-4d6f-81ed-bc9cae523550\")>,\n",
       " <selenium.webdriver.remote.webelement.WebElement (session=\"bd73496c3d668f354566eba232c19b12\", element=\"5d892cfd-e0a4-4d6c-9ee9-fe5c452c496f\")>,\n",
       " <selenium.webdriver.remote.webelement.WebElement (session=\"bd73496c3d668f354566eba232c19b12\", element=\"bbb9fb7c-b17a-4a6c-8085-f1d008b3eb20\")>,\n",
       " <selenium.webdriver.remote.webelement.WebElement (session=\"bd73496c3d668f354566eba232c19b12\", element=\"b56702e4-9db4-4062-a8c4-14b77f722da5\")>,\n",
       " <selenium.webdriver.remote.webelement.WebElement (session=\"bd73496c3d668f354566eba232c19b12\", element=\"99c0bcdb-d87c-40fe-a17c-c00fb84425ee\")>,\n",
       " <selenium.webdriver.remote.webelement.WebElement (session=\"bd73496c3d668f354566eba232c19b12\", element=\"468fa0b4-02ec-4cce-aecb-c5e3bd2d5566\")>,\n",
       " <selenium.webdriver.remote.webelement.WebElement (session=\"bd73496c3d668f354566eba232c19b12\", element=\"59a6997b-1eae-4bf3-b1fd-df86820b3872\")>,\n",
       " <selenium.webdriver.remote.webelement.WebElement (session=\"bd73496c3d668f354566eba232c19b12\", element=\"33158d75-ab40-4e33-8043-e7b554ac3d2e\")>,\n",
       " <selenium.webdriver.remote.webelement.WebElement (session=\"bd73496c3d668f354566eba232c19b12\", element=\"dff00620-3927-4657-b0ae-a67875ae3654\")>,\n",
       " <selenium.webdriver.remote.webelement.WebElement (session=\"bd73496c3d668f354566eba232c19b12\", element=\"d283c8d3-61ea-43ef-b512-82b51d72ce12\")>,\n",
       " <selenium.webdriver.remote.webelement.WebElement (session=\"bd73496c3d668f354566eba232c19b12\", element=\"1a48854a-c781-419e-8d7f-aada35d870f2\")>,\n",
       " <selenium.webdriver.remote.webelement.WebElement (session=\"bd73496c3d668f354566eba232c19b12\", element=\"9098c9a0-f841-4b4b-8b5f-36bba728f3e2\")>,\n",
       " <selenium.webdriver.remote.webelement.WebElement (session=\"bd73496c3d668f354566eba232c19b12\", element=\"6c659e3e-0930-4a99-b532-bf7b4d523bd3\")>,\n",
       " <selenium.webdriver.remote.webelement.WebElement (session=\"bd73496c3d668f354566eba232c19b12\", element=\"a606bb58-ce68-4175-93af-2bab05d95178\")>,\n",
       " <selenium.webdriver.remote.webelement.WebElement (session=\"bd73496c3d668f354566eba232c19b12\", element=\"a78cb2d6-acbb-48db-a8be-b99139557d1e\")>,\n",
       " <selenium.webdriver.remote.webelement.WebElement (session=\"bd73496c3d668f354566eba232c19b12\", element=\"f3440bc2-c31b-48a5-9aee-b168cf831ff4\")>,\n",
       " <selenium.webdriver.remote.webelement.WebElement (session=\"bd73496c3d668f354566eba232c19b12\", element=\"e0c44d80-f8e4-4368-afed-eaf131074221\")>,\n",
       " <selenium.webdriver.remote.webelement.WebElement (session=\"bd73496c3d668f354566eba232c19b12\", element=\"f64db15a-3865-4484-885e-07301f681d1c\")>,\n",
       " <selenium.webdriver.remote.webelement.WebElement (session=\"bd73496c3d668f354566eba232c19b12\", element=\"aab4e94b-f573-431f-9a6d-669078b2b661\")>,\n",
       " <selenium.webdriver.remote.webelement.WebElement (session=\"bd73496c3d668f354566eba232c19b12\", element=\"e4f20129-85a1-44ab-a8f9-e86a1b9f3d15\")>,\n",
       " <selenium.webdriver.remote.webelement.WebElement (session=\"bd73496c3d668f354566eba232c19b12\", element=\"f23b75a3-2e29-4541-8873-372cfd21b1f1\")>,\n",
       " <selenium.webdriver.remote.webelement.WebElement (session=\"bd73496c3d668f354566eba232c19b12\", element=\"7ca19b9f-e75b-4693-888d-b94d590e342d\")>,\n",
       " <selenium.webdriver.remote.webelement.WebElement (session=\"bd73496c3d668f354566eba232c19b12\", element=\"9d810d6b-2382-438c-b893-c2728d01787a\")>,\n",
       " <selenium.webdriver.remote.webelement.WebElement (session=\"bd73496c3d668f354566eba232c19b12\", element=\"bf3c2de8-a2a7-4bf8-973a-7bdd08e0c1ce\")>,\n",
       " <selenium.webdriver.remote.webelement.WebElement (session=\"bd73496c3d668f354566eba232c19b12\", element=\"54984e13-6743-44c2-98db-eda84f6fcfa8\")>]"
      ]
     },
     "execution_count": 226,
     "metadata": {},
     "output_type": "execute_result"
    }
   ],
   "source": [
    "company = driver.find_elements_by_xpath(\"//a[@class= ' css-l2wjgv e1n63ojh0 jobLink']/span\")\n",
    "company"
   ]
  },
  {
   "cell_type": "code",
   "execution_count": 227,
   "metadata": {},
   "outputs": [
    {
     "data": {
      "text/plain": [
       "['Bechtel',\n",
       " 'Taboola',\n",
       " 'Ericsson',\n",
       " 'Techlive',\n",
       " 'Siemens Technology and Services Private Limited',\n",
       " 'Biz2Credit Inc',\n",
       " 'Innovacer',\n",
       " 'Crowe',\n",
       " 'Priority Vendor',\n",
       " 'Data Patterns']"
      ]
     },
     "execution_count": 227,
     "metadata": {},
     "output_type": "execute_result"
    }
   ],
   "source": [
    "companyname = []\n",
    "for i in company:\n",
    "    companyname.append(i.text)\n",
    "companyname[:10]"
   ]
  },
  {
   "cell_type": "code",
   "execution_count": 228,
   "metadata": {
    "collapsed": true
   },
   "outputs": [
    {
     "data": {
      "text/plain": [
       "[<selenium.webdriver.remote.webelement.WebElement (session=\"bd73496c3d668f354566eba232c19b12\", element=\"a8b5d66a-b06a-4078-bd3d-42ec9cd443a2\")>,\n",
       " <selenium.webdriver.remote.webelement.WebElement (session=\"bd73496c3d668f354566eba232c19b12\", element=\"42a81ff3-6918-4715-988c-9fff8f51099d\")>,\n",
       " <selenium.webdriver.remote.webelement.WebElement (session=\"bd73496c3d668f354566eba232c19b12\", element=\"8f475350-c13f-4bba-a605-36da98715849\")>,\n",
       " <selenium.webdriver.remote.webelement.WebElement (session=\"bd73496c3d668f354566eba232c19b12\", element=\"7a24b31e-9248-4ae2-bd0f-c1cf141e529e\")>,\n",
       " <selenium.webdriver.remote.webelement.WebElement (session=\"bd73496c3d668f354566eba232c19b12\", element=\"d23ce8d7-db0a-46af-8620-2f8a5f54cca1\")>,\n",
       " <selenium.webdriver.remote.webelement.WebElement (session=\"bd73496c3d668f354566eba232c19b12\", element=\"d0ff21e5-a50d-476f-94a0-c961e12e2780\")>,\n",
       " <selenium.webdriver.remote.webelement.WebElement (session=\"bd73496c3d668f354566eba232c19b12\", element=\"10b4483e-e702-419f-abdd-87d4c2fde866\")>,\n",
       " <selenium.webdriver.remote.webelement.WebElement (session=\"bd73496c3d668f354566eba232c19b12\", element=\"301be53a-d641-456f-b280-369da833b3e4\")>,\n",
       " <selenium.webdriver.remote.webelement.WebElement (session=\"bd73496c3d668f354566eba232c19b12\", element=\"ccf61781-46eb-46d1-99d7-4274d6d7cbc6\")>,\n",
       " <selenium.webdriver.remote.webelement.WebElement (session=\"bd73496c3d668f354566eba232c19b12\", element=\"e5c0216e-ac68-4d4b-9faf-4ba5d14bd233\")>,\n",
       " <selenium.webdriver.remote.webelement.WebElement (session=\"bd73496c3d668f354566eba232c19b12\", element=\"c7548921-e17d-4a89-96cd-8c1c55e114cf\")>,\n",
       " <selenium.webdriver.remote.webelement.WebElement (session=\"bd73496c3d668f354566eba232c19b12\", element=\"ea82ec9c-6724-4695-9dbc-a945b61aa58f\")>,\n",
       " <selenium.webdriver.remote.webelement.WebElement (session=\"bd73496c3d668f354566eba232c19b12\", element=\"bb28be0c-12c4-4457-b4f6-5dce8c4d1980\")>,\n",
       " <selenium.webdriver.remote.webelement.WebElement (session=\"bd73496c3d668f354566eba232c19b12\", element=\"db6abf57-4a57-49e8-82b1-ab89bb9a07a5\")>,\n",
       " <selenium.webdriver.remote.webelement.WebElement (session=\"bd73496c3d668f354566eba232c19b12\", element=\"be4678ec-3d9d-4696-b184-51a877f5a56a\")>,\n",
       " <selenium.webdriver.remote.webelement.WebElement (session=\"bd73496c3d668f354566eba232c19b12\", element=\"8aabe0ba-3a77-4559-a86c-b8cb7e611610\")>,\n",
       " <selenium.webdriver.remote.webelement.WebElement (session=\"bd73496c3d668f354566eba232c19b12\", element=\"8b80566b-0c3b-4851-9d40-c97e2a3a21c5\")>,\n",
       " <selenium.webdriver.remote.webelement.WebElement (session=\"bd73496c3d668f354566eba232c19b12\", element=\"c17fdaec-e452-4dc8-a66d-e234d89936b2\")>,\n",
       " <selenium.webdriver.remote.webelement.WebElement (session=\"bd73496c3d668f354566eba232c19b12\", element=\"2fa382f9-a546-4ab2-9771-79f450a5a903\")>,\n",
       " <selenium.webdriver.remote.webelement.WebElement (session=\"bd73496c3d668f354566eba232c19b12\", element=\"0504cf72-5268-4887-b128-b2bcb7a04c92\")>,\n",
       " <selenium.webdriver.remote.webelement.WebElement (session=\"bd73496c3d668f354566eba232c19b12\", element=\"c1a51ec9-88a6-4d6b-92bf-2c17f68f11d2\")>,\n",
       " <selenium.webdriver.remote.webelement.WebElement (session=\"bd73496c3d668f354566eba232c19b12\", element=\"0518a7bc-4667-4c9c-bf03-aaa96660fa87\")>,\n",
       " <selenium.webdriver.remote.webelement.WebElement (session=\"bd73496c3d668f354566eba232c19b12\", element=\"728e7fa9-905f-426b-b370-fabe55a7a7db\")>,\n",
       " <selenium.webdriver.remote.webelement.WebElement (session=\"bd73496c3d668f354566eba232c19b12\", element=\"44f7b442-337c-4c1f-bcd5-8221a28968b0\")>,\n",
       " <selenium.webdriver.remote.webelement.WebElement (session=\"bd73496c3d668f354566eba232c19b12\", element=\"75667aaf-76b1-49f2-b590-d6a43a5fd611\")>,\n",
       " <selenium.webdriver.remote.webelement.WebElement (session=\"bd73496c3d668f354566eba232c19b12\", element=\"c23b3360-f0a9-4764-b6a0-b5ae533eb5ca\")>,\n",
       " <selenium.webdriver.remote.webelement.WebElement (session=\"bd73496c3d668f354566eba232c19b12\", element=\"03c7b27b-f6cf-4d28-9ae1-a4fc2a8a97ff\")>,\n",
       " <selenium.webdriver.remote.webelement.WebElement (session=\"bd73496c3d668f354566eba232c19b12\", element=\"fdb34aca-904a-45a0-918c-0340c13c1883\")>,\n",
       " <selenium.webdriver.remote.webelement.WebElement (session=\"bd73496c3d668f354566eba232c19b12\", element=\"96e8c48e-4929-44d1-bad1-7ce03d87a803\")>,\n",
       " <selenium.webdriver.remote.webelement.WebElement (session=\"bd73496c3d668f354566eba232c19b12\", element=\"7122f6e6-a078-4e20-a1ab-6be1cf3853cc\")>,\n",
       " <selenium.webdriver.remote.webelement.WebElement (session=\"bd73496c3d668f354566eba232c19b12\", element=\"287ce6b1-345e-4fa0-ad89-4986a64cb522\")>,\n",
       " <selenium.webdriver.remote.webelement.WebElement (session=\"bd73496c3d668f354566eba232c19b12\", element=\"45757e51-ceea-4b72-aec4-b7cccfe97db8\")>]"
      ]
     },
     "execution_count": 228,
     "metadata": {},
     "output_type": "execute_result"
    }
   ],
   "source": [
    "day = driver.find_elements_by_xpath(\"//div[@class= 'd-flex align-items-end pl-std css-mi55ob']\")\n",
    "day"
   ]
  },
  {
   "cell_type": "code",
   "execution_count": 229,
   "metadata": {},
   "outputs": [
    {
     "data": {
      "text/plain": [
       "['1d', '19d', '5d', '4d', '', '7d', '4d', '26d', '26d', '14d']"
      ]
     },
     "execution_count": 229,
     "metadata": {},
     "output_type": "execute_result"
    }
   ],
   "source": [
    "days =[]\n",
    "for i in day:\n",
    "    days.append(i.text)\n",
    "days[:10]"
   ]
  },
  {
   "cell_type": "code",
   "execution_count": 231,
   "metadata": {
    "collapsed": true
   },
   "outputs": [
    {
     "data": {
      "text/plain": [
       "[<selenium.webdriver.remote.webelement.WebElement (session=\"bd73496c3d668f354566eba232c19b12\", element=\"b1ca7302-4c8c-4847-a800-9421c63fd13b\")>,\n",
       " <selenium.webdriver.remote.webelement.WebElement (session=\"bd73496c3d668f354566eba232c19b12\", element=\"4d37dc62-92e3-4b7f-9992-3cfbbef3e5fb\")>,\n",
       " <selenium.webdriver.remote.webelement.WebElement (session=\"bd73496c3d668f354566eba232c19b12\", element=\"14bb2080-bfef-4bf9-bcc5-e12d53f0d7aa\")>,\n",
       " <selenium.webdriver.remote.webelement.WebElement (session=\"bd73496c3d668f354566eba232c19b12\", element=\"2154cdf8-bf23-4adf-8d6e-5add0edfe166\")>,\n",
       " <selenium.webdriver.remote.webelement.WebElement (session=\"bd73496c3d668f354566eba232c19b12\", element=\"f6203a39-1e14-4a41-98bf-b12e88117154\")>,\n",
       " <selenium.webdriver.remote.webelement.WebElement (session=\"bd73496c3d668f354566eba232c19b12\", element=\"bca1a426-5137-4e2c-bd1c-1ae778105a19\")>,\n",
       " <selenium.webdriver.remote.webelement.WebElement (session=\"bd73496c3d668f354566eba232c19b12\", element=\"08e9f682-cfdf-4318-8e54-2bfc26298b69\")>,\n",
       " <selenium.webdriver.remote.webelement.WebElement (session=\"bd73496c3d668f354566eba232c19b12\", element=\"5b052a43-046b-4543-8a61-b237df597141\")>,\n",
       " <selenium.webdriver.remote.webelement.WebElement (session=\"bd73496c3d668f354566eba232c19b12\", element=\"a7ee605a-23d4-4129-9a1d-8e8ef220b708\")>,\n",
       " <selenium.webdriver.remote.webelement.WebElement (session=\"bd73496c3d668f354566eba232c19b12\", element=\"072b6136-ca1a-4c28-b8dd-c19645417897\")>,\n",
       " <selenium.webdriver.remote.webelement.WebElement (session=\"bd73496c3d668f354566eba232c19b12\", element=\"012d66b7-b2f2-49a2-b807-8a94ea2d79bd\")>,\n",
       " <selenium.webdriver.remote.webelement.WebElement (session=\"bd73496c3d668f354566eba232c19b12\", element=\"a5a33bd0-cce2-4d98-a5ec-ae30780b7188\")>,\n",
       " <selenium.webdriver.remote.webelement.WebElement (session=\"bd73496c3d668f354566eba232c19b12\", element=\"61ce086d-7975-44a0-8f6d-a548526061fc\")>,\n",
       " <selenium.webdriver.remote.webelement.WebElement (session=\"bd73496c3d668f354566eba232c19b12\", element=\"2eb662b0-5487-4cff-8c03-6048db6f5195\")>,\n",
       " <selenium.webdriver.remote.webelement.WebElement (session=\"bd73496c3d668f354566eba232c19b12\", element=\"cdfda3e4-d3d2-4a54-b7e2-d52108a14105\")>,\n",
       " <selenium.webdriver.remote.webelement.WebElement (session=\"bd73496c3d668f354566eba232c19b12\", element=\"b5d9c022-a1b2-4e45-9421-a955e8f79b2d\")>,\n",
       " <selenium.webdriver.remote.webelement.WebElement (session=\"bd73496c3d668f354566eba232c19b12\", element=\"11fc6813-55e3-4403-9a73-e05413f5a463\")>,\n",
       " <selenium.webdriver.remote.webelement.WebElement (session=\"bd73496c3d668f354566eba232c19b12\", element=\"2e27e29c-8962-4d7b-8203-36ca3e95605c\")>,\n",
       " <selenium.webdriver.remote.webelement.WebElement (session=\"bd73496c3d668f354566eba232c19b12\", element=\"e7f77a34-83da-4410-be9c-504e20fbe0e0\")>,\n",
       " <selenium.webdriver.remote.webelement.WebElement (session=\"bd73496c3d668f354566eba232c19b12\", element=\"b1453ae3-9998-4991-b74c-69b49abc6ce6\")>,\n",
       " <selenium.webdriver.remote.webelement.WebElement (session=\"bd73496c3d668f354566eba232c19b12\", element=\"9dfddde9-fdeb-4f98-b0e1-fdef07b0bf7e\")>,\n",
       " <selenium.webdriver.remote.webelement.WebElement (session=\"bd73496c3d668f354566eba232c19b12\", element=\"003e141a-6f53-4cea-a9bf-3cdd389d5b41\")>,\n",
       " <selenium.webdriver.remote.webelement.WebElement (session=\"bd73496c3d668f354566eba232c19b12\", element=\"d9128922-2bae-4c68-97c7-3e379d2a08b7\")>,\n",
       " <selenium.webdriver.remote.webelement.WebElement (session=\"bd73496c3d668f354566eba232c19b12\", element=\"52631ce9-fdb0-43f4-848f-760f8153877f\")>,\n",
       " <selenium.webdriver.remote.webelement.WebElement (session=\"bd73496c3d668f354566eba232c19b12\", element=\"d0b45bb5-377b-4d67-8225-087f78b6ebce\")>,\n",
       " <selenium.webdriver.remote.webelement.WebElement (session=\"bd73496c3d668f354566eba232c19b12\", element=\"50972a77-127f-4e54-b001-7c6028fe0ad2\")>]"
      ]
     },
     "execution_count": 231,
     "metadata": {},
     "output_type": "execute_result"
    }
   ],
   "source": [
    "rating = driver.find_elements_by_xpath(\"//div[@class= 'd-flex flex-column css-x75kgh e1rrn5ka3']/span\")\n",
    "rating"
   ]
  },
  {
   "cell_type": "code",
   "execution_count": 232,
   "metadata": {},
   "outputs": [
    {
     "data": {
      "text/plain": [
       "['4.0', '4.2', '4.1', '5.0', '4.1', '3.9', '3.8', '3.8', '3.7', '3.0']"
      ]
     },
     "execution_count": 232,
     "metadata": {},
     "output_type": "execute_result"
    }
   ],
   "source": [
    "ratings =[]\n",
    "for i in rating:\n",
    "    ratings.append(i.text)\n",
    "ratings[:10]"
   ]
  },
  {
   "cell_type": "code",
   "execution_count": 233,
   "metadata": {},
   "outputs": [
    {
     "name": "stdout",
     "output_type": "stream",
     "text": [
      "10 10 10\n"
     ]
    }
   ],
   "source": [
    "print(len(companyname[:10]),len(days[:10]),len(rating[:10]))"
   ]
  },
  {
   "cell_type": "code",
   "execution_count": 234,
   "metadata": {},
   "outputs": [
    {
     "data": {
      "text/html": [
       "<div>\n",
       "<style scoped>\n",
       "    .dataframe tbody tr th:only-of-type {\n",
       "        vertical-align: middle;\n",
       "    }\n",
       "\n",
       "    .dataframe tbody tr th {\n",
       "        vertical-align: top;\n",
       "    }\n",
       "\n",
       "    .dataframe thead th {\n",
       "        text-align: right;\n",
       "    }\n",
       "</style>\n",
       "<table border=\"1\" class=\"dataframe\">\n",
       "  <thead>\n",
       "    <tr style=\"text-align: right;\">\n",
       "      <th></th>\n",
       "      <th>company</th>\n",
       "      <th>day</th>\n",
       "      <th>rating</th>\n",
       "    </tr>\n",
       "  </thead>\n",
       "  <tbody>\n",
       "    <tr>\n",
       "      <th>0</th>\n",
       "      <td>Bechtel</td>\n",
       "      <td>1d</td>\n",
       "      <td>4.0</td>\n",
       "    </tr>\n",
       "    <tr>\n",
       "      <th>1</th>\n",
       "      <td>Taboola</td>\n",
       "      <td>19d</td>\n",
       "      <td>4.2</td>\n",
       "    </tr>\n",
       "    <tr>\n",
       "      <th>2</th>\n",
       "      <td>Ericsson</td>\n",
       "      <td>5d</td>\n",
       "      <td>4.1</td>\n",
       "    </tr>\n",
       "    <tr>\n",
       "      <th>3</th>\n",
       "      <td>Techlive</td>\n",
       "      <td>4d</td>\n",
       "      <td>5.0</td>\n",
       "    </tr>\n",
       "    <tr>\n",
       "      <th>4</th>\n",
       "      <td>Siemens Technology and Services Private Limited</td>\n",
       "      <td></td>\n",
       "      <td>4.1</td>\n",
       "    </tr>\n",
       "    <tr>\n",
       "      <th>5</th>\n",
       "      <td>Biz2Credit Inc</td>\n",
       "      <td>7d</td>\n",
       "      <td>3.9</td>\n",
       "    </tr>\n",
       "    <tr>\n",
       "      <th>6</th>\n",
       "      <td>Innovacer</td>\n",
       "      <td>4d</td>\n",
       "      <td>3.8</td>\n",
       "    </tr>\n",
       "    <tr>\n",
       "      <th>7</th>\n",
       "      <td>Crowe</td>\n",
       "      <td>26d</td>\n",
       "      <td>3.8</td>\n",
       "    </tr>\n",
       "    <tr>\n",
       "      <th>8</th>\n",
       "      <td>Priority Vendor</td>\n",
       "      <td>26d</td>\n",
       "      <td>3.7</td>\n",
       "    </tr>\n",
       "    <tr>\n",
       "      <th>9</th>\n",
       "      <td>Data Patterns</td>\n",
       "      <td>14d</td>\n",
       "      <td>3.0</td>\n",
       "    </tr>\n",
       "  </tbody>\n",
       "</table>\n",
       "</div>"
      ],
      "text/plain": [
       "                                           company  day rating\n",
       "0                                          Bechtel   1d    4.0\n",
       "1                                          Taboola  19d    4.2\n",
       "2                                         Ericsson   5d    4.1\n",
       "3                                         Techlive   4d    5.0\n",
       "4  Siemens Technology and Services Private Limited         4.1\n",
       "5                                   Biz2Credit Inc   7d    3.9\n",
       "6                                        Innovacer   4d    3.8\n",
       "7                                            Crowe  26d    3.8\n",
       "8                                  Priority Vendor  26d    3.7\n",
       "9                                    Data Patterns  14d    3.0"
      ]
     },
     "execution_count": 234,
     "metadata": {},
     "output_type": "execute_result"
    }
   ],
   "source": [
    "glass = pd.DataFrame({})\n",
    "glass['company'] = companyname[:10]\n",
    "glass['day'] = days[:10]\n",
    "glass['rating'] = ratings[:10]\n",
    "\n",
    "glass"
   ]
  },
  {
   "cell_type": "markdown",
   "metadata": {},
   "source": [
    "Write a python program to scrape the salary data for Data Scientist designation in Noida location.You have to scrape Company name, Number of salaries, Average salary, Minsalary, Max Salary."
   ]
  },
  {
   "cell_type": "code",
   "execution_count": 258,
   "metadata": {},
   "outputs": [],
   "source": [
    "url = 'https://www.glassdoor.co.in/Salaries/index.htm'\n",
    "driver.get(url)"
   ]
  },
  {
   "cell_type": "code",
   "execution_count": 259,
   "metadata": {},
   "outputs": [
    {
     "data": {
      "text/plain": [
       "<selenium.webdriver.remote.webelement.WebElement (session=\"bd73496c3d668f354566eba232c19b12\", element=\"7c0e9cbc-afce-4989-8549-ab06942428fb\")>"
      ]
     },
     "execution_count": 259,
     "metadata": {},
     "output_type": "execute_result"
    }
   ],
   "source": [
    "search_job = driver.find_element_by_id('KeywordSearch')\n",
    "search_job"
   ]
  },
  {
   "cell_type": "code",
   "execution_count": 260,
   "metadata": {},
   "outputs": [],
   "source": [
    "search_job.send_keys(\"Data Scientist\")"
   ]
  },
  {
   "cell_type": "code",
   "execution_count": 261,
   "metadata": {},
   "outputs": [
    {
     "data": {
      "text/plain": [
       "<selenium.webdriver.remote.webelement.WebElement (session=\"bd73496c3d668f354566eba232c19b12\", element=\"8d3c73ec-0a75-4008-90d2-b9786bc21a9b\")>"
      ]
     },
     "execution_count": 261,
     "metadata": {},
     "output_type": "execute_result"
    }
   ],
   "source": [
    "loc =driver.find_element_by_id('LocationSearch')\n",
    "loc"
   ]
  },
  {
   "cell_type": "code",
   "execution_count": 262,
   "metadata": {},
   "outputs": [],
   "source": [
    "loc.send_keys(\"Noida\")"
   ]
  },
  {
   "cell_type": "code",
   "execution_count": 264,
   "metadata": {},
   "outputs": [],
   "source": [
    "search_btn = driver.find_element_by_xpath(\"/html/body/div[3]/div/div[1]/div[1]/div/div/form/button\")\n",
    "search_btn.click()"
   ]
  },
  {
   "cell_type": "code",
   "execution_count": 265,
   "metadata": {
    "collapsed": true
   },
   "outputs": [
    {
     "data": {
      "text/plain": [
       "[<selenium.webdriver.remote.webelement.WebElement (session=\"bd73496c3d668f354566eba232c19b12\", element=\"45531948-265a-4221-8c4f-8a2235ba1866\")>,\n",
       " <selenium.webdriver.remote.webelement.WebElement (session=\"bd73496c3d668f354566eba232c19b12\", element=\"59e8ee04-40e6-4822-a643-7fe4343fead8\")>,\n",
       " <selenium.webdriver.remote.webelement.WebElement (session=\"bd73496c3d668f354566eba232c19b12\", element=\"831d0332-f9a0-4845-ae32-f543add82024\")>,\n",
       " <selenium.webdriver.remote.webelement.WebElement (session=\"bd73496c3d668f354566eba232c19b12\", element=\"27bbd29d-2ac6-4235-8126-cc3d8d938a3f\")>,\n",
       " <selenium.webdriver.remote.webelement.WebElement (session=\"bd73496c3d668f354566eba232c19b12\", element=\"4826b142-660c-4286-9fcf-30a00664d5fe\")>,\n",
       " <selenium.webdriver.remote.webelement.WebElement (session=\"bd73496c3d668f354566eba232c19b12\", element=\"c21759ce-dbfd-4083-be8d-347048df8c8d\")>,\n",
       " <selenium.webdriver.remote.webelement.WebElement (session=\"bd73496c3d668f354566eba232c19b12\", element=\"6b270914-f816-4a19-a2b0-d89793bffdff\")>,\n",
       " <selenium.webdriver.remote.webelement.WebElement (session=\"bd73496c3d668f354566eba232c19b12\", element=\"744bee9a-9fb9-4494-9569-b65af5c3865a\")>,\n",
       " <selenium.webdriver.remote.webelement.WebElement (session=\"bd73496c3d668f354566eba232c19b12\", element=\"d667afaf-ba0c-4a66-a65c-56d89c9ae85d\")>,\n",
       " <selenium.webdriver.remote.webelement.WebElement (session=\"bd73496c3d668f354566eba232c19b12\", element=\"9e94dde6-8b3e-456e-b062-e29b9bc6a2a8\")>,\n",
       " <selenium.webdriver.remote.webelement.WebElement (session=\"bd73496c3d668f354566eba232c19b12\", element=\"a1d90ac6-1970-431d-a73c-0a89dc30684c\")>,\n",
       " <selenium.webdriver.remote.webelement.WebElement (session=\"bd73496c3d668f354566eba232c19b12\", element=\"a5464418-b15f-4505-be6c-3a3d421deff8\")>,\n",
       " <selenium.webdriver.remote.webelement.WebElement (session=\"bd73496c3d668f354566eba232c19b12\", element=\"9607d5a6-5658-4d1b-82b4-6e45bcb3461a\")>,\n",
       " <selenium.webdriver.remote.webelement.WebElement (session=\"bd73496c3d668f354566eba232c19b12\", element=\"db725646-2007-41a7-a8f8-ff342613fb4b\")>,\n",
       " <selenium.webdriver.remote.webelement.WebElement (session=\"bd73496c3d668f354566eba232c19b12\", element=\"5a5807de-078e-4a94-ac0d-45a7fc6dc8c9\")>,\n",
       " <selenium.webdriver.remote.webelement.WebElement (session=\"bd73496c3d668f354566eba232c19b12\", element=\"f5028161-2d7a-4304-b24d-a7cf35028f78\")>,\n",
       " <selenium.webdriver.remote.webelement.WebElement (session=\"bd73496c3d668f354566eba232c19b12\", element=\"4d85aca8-7854-4c0d-b414-e38c323a3091\")>,\n",
       " <selenium.webdriver.remote.webelement.WebElement (session=\"bd73496c3d668f354566eba232c19b12\", element=\"da4843ab-d1a1-408a-9688-25e3909c78be\")>,\n",
       " <selenium.webdriver.remote.webelement.WebElement (session=\"bd73496c3d668f354566eba232c19b12\", element=\"765c5f43-450a-4155-ba73-dbe0c018331e\")>,\n",
       " <selenium.webdriver.remote.webelement.WebElement (session=\"bd73496c3d668f354566eba232c19b12\", element=\"630d4906-dc73-47ff-b588-6145c17b4e4e\")>]"
      ]
     },
     "execution_count": 265,
     "metadata": {},
     "output_type": "execute_result"
    }
   ],
   "source": [
    "company = driver.find_elements_by_xpath(\"//a[@class= 'css-f3vw95 e1aj7ssy3']\")\n",
    "company"
   ]
  },
  {
   "cell_type": "code",
   "execution_count": 266,
   "metadata": {},
   "outputs": [
    {
     "data": {
      "text/plain": [
       "['IBM',\n",
       " 'Tata Consultancy Services',\n",
       " 'Accenture',\n",
       " 'Delhivery',\n",
       " 'Ericsson-Worldwide',\n",
       " 'UnitedHealth Group',\n",
       " 'Valiance Solutions',\n",
       " 'Optum Global Solutions',\n",
       " 'ZS Associates',\n",
       " 'EXL Service']"
      ]
     },
     "execution_count": 266,
     "metadata": {},
     "output_type": "execute_result"
    }
   ],
   "source": [
    "comp = []\n",
    "for i in company:\n",
    "    comp.append(i.text)\n",
    "comp[:10]"
   ]
  },
  {
   "cell_type": "code",
   "execution_count": 268,
   "metadata": {
    "collapsed": true
   },
   "outputs": [
    {
     "data": {
      "text/plain": [
       "[<selenium.webdriver.remote.webelement.WebElement (session=\"bd73496c3d668f354566eba232c19b12\", element=\"eab22dba-a9e9-4ad9-b793-cd2e1b6d5116\")>,\n",
       " <selenium.webdriver.remote.webelement.WebElement (session=\"bd73496c3d668f354566eba232c19b12\", element=\"b0f642e3-1629-4d34-b2fb-23fb93805aaf\")>,\n",
       " <selenium.webdriver.remote.webelement.WebElement (session=\"bd73496c3d668f354566eba232c19b12\", element=\"51e2c3c5-174a-4b3d-a602-566d721eead1\")>,\n",
       " <selenium.webdriver.remote.webelement.WebElement (session=\"bd73496c3d668f354566eba232c19b12\", element=\"6aeaecca-df9e-45a6-a1cf-d887e6a82959\")>,\n",
       " <selenium.webdriver.remote.webelement.WebElement (session=\"bd73496c3d668f354566eba232c19b12\", element=\"e8283976-3b45-4358-a9d4-10376e0a60dd\")>,\n",
       " <selenium.webdriver.remote.webelement.WebElement (session=\"bd73496c3d668f354566eba232c19b12\", element=\"0c081081-18d6-4fc0-aa2c-74aefbbf481a\")>,\n",
       " <selenium.webdriver.remote.webelement.WebElement (session=\"bd73496c3d668f354566eba232c19b12\", element=\"b0826968-1830-40ac-9a19-328123dcf62f\")>,\n",
       " <selenium.webdriver.remote.webelement.WebElement (session=\"bd73496c3d668f354566eba232c19b12\", element=\"56382ec0-cdc0-493c-97de-14addad08acf\")>,\n",
       " <selenium.webdriver.remote.webelement.WebElement (session=\"bd73496c3d668f354566eba232c19b12\", element=\"04a72663-2086-4588-ab4c-9e76c256c95e\")>,\n",
       " <selenium.webdriver.remote.webelement.WebElement (session=\"bd73496c3d668f354566eba232c19b12\", element=\"2dad4f47-a835-4941-80f4-228b1d849daf\")>,\n",
       " <selenium.webdriver.remote.webelement.WebElement (session=\"bd73496c3d668f354566eba232c19b12\", element=\"7392d608-f23f-45e7-954c-c4ec177a3980\")>,\n",
       " <selenium.webdriver.remote.webelement.WebElement (session=\"bd73496c3d668f354566eba232c19b12\", element=\"f5a4f830-0b05-4405-8ee9-d2cfa27cc70b\")>,\n",
       " <selenium.webdriver.remote.webelement.WebElement (session=\"bd73496c3d668f354566eba232c19b12\", element=\"7c693f81-8016-45b9-b8dd-6bc537fe304b\")>,\n",
       " <selenium.webdriver.remote.webelement.WebElement (session=\"bd73496c3d668f354566eba232c19b12\", element=\"2c4a3278-1437-4ba6-b0fb-917ad2c619f1\")>,\n",
       " <selenium.webdriver.remote.webelement.WebElement (session=\"bd73496c3d668f354566eba232c19b12\", element=\"394069d4-d6dc-4323-b684-738f000ed6de\")>,\n",
       " <selenium.webdriver.remote.webelement.WebElement (session=\"bd73496c3d668f354566eba232c19b12\", element=\"12836d64-b54f-4682-af6e-d7df1b1fd09d\")>,\n",
       " <selenium.webdriver.remote.webelement.WebElement (session=\"bd73496c3d668f354566eba232c19b12\", element=\"31b111dd-7207-4bf4-b748-f71dbd96781c\")>,\n",
       " <selenium.webdriver.remote.webelement.WebElement (session=\"bd73496c3d668f354566eba232c19b12\", element=\"c1bff1cd-501c-410b-84c6-6cf4af55b9aa\")>,\n",
       " <selenium.webdriver.remote.webelement.WebElement (session=\"bd73496c3d668f354566eba232c19b12\", element=\"1ba43167-680b-493a-b886-24eaffb42bd9\")>,\n",
       " <selenium.webdriver.remote.webelement.WebElement (session=\"bd73496c3d668f354566eba232c19b12\", element=\"eb9add02-ecb7-490a-b582-6effafaded6e\")>,\n",
       " <selenium.webdriver.remote.webelement.WebElement (session=\"bd73496c3d668f354566eba232c19b12\", element=\"ece65526-628d-4545-96ea-99e4130485eb\")>,\n",
       " <selenium.webdriver.remote.webelement.WebElement (session=\"bd73496c3d668f354566eba232c19b12\", element=\"62d89363-270c-4c7d-98f3-f6a453b5d55b\")>,\n",
       " <selenium.webdriver.remote.webelement.WebElement (session=\"bd73496c3d668f354566eba232c19b12\", element=\"08a50d72-d5a9-4683-810b-a9956c22e53b\")>,\n",
       " <selenium.webdriver.remote.webelement.WebElement (session=\"bd73496c3d668f354566eba232c19b12\", element=\"4a0dd37d-2e94-4a94-84a3-1691bae3ca46\")>,\n",
       " <selenium.webdriver.remote.webelement.WebElement (session=\"bd73496c3d668f354566eba232c19b12\", element=\"58ecdd94-f23d-4f83-9134-3dbf83aa6b5a\")>,\n",
       " <selenium.webdriver.remote.webelement.WebElement (session=\"bd73496c3d668f354566eba232c19b12\", element=\"b413659d-4947-40e0-af10-0ca084dee9b0\")>,\n",
       " <selenium.webdriver.remote.webelement.WebElement (session=\"bd73496c3d668f354566eba232c19b12\", element=\"20659ade-dc1b-4a8b-9c0f-fe11b0180caa\")>,\n",
       " <selenium.webdriver.remote.webelement.WebElement (session=\"bd73496c3d668f354566eba232c19b12\", element=\"e476bcfa-cb9e-4364-bcd6-98685f43d30e\")>,\n",
       " <selenium.webdriver.remote.webelement.WebElement (session=\"bd73496c3d668f354566eba232c19b12\", element=\"760dea7f-f6ca-4308-9615-dc554282fb32\")>,\n",
       " <selenium.webdriver.remote.webelement.WebElement (session=\"bd73496c3d668f354566eba232c19b12\", element=\"8d4fbfa4-7a70-42bf-9ccd-a80d172e785b\")>,\n",
       " <selenium.webdriver.remote.webelement.WebElement (session=\"bd73496c3d668f354566eba232c19b12\", element=\"7bbffae7-8336-4200-8f90-c1676b1e5022\")>,\n",
       " <selenium.webdriver.remote.webelement.WebElement (session=\"bd73496c3d668f354566eba232c19b12\", element=\"f392efb7-8609-456e-9f3c-05a31a8335d1\")>,\n",
       " <selenium.webdriver.remote.webelement.WebElement (session=\"bd73496c3d668f354566eba232c19b12\", element=\"da0db9ca-41f7-4475-bc54-d9129368bac9\")>,\n",
       " <selenium.webdriver.remote.webelement.WebElement (session=\"bd73496c3d668f354566eba232c19b12\", element=\"754827db-55bd-4b61-af5a-5cb6fe353668\")>,\n",
       " <selenium.webdriver.remote.webelement.WebElement (session=\"bd73496c3d668f354566eba232c19b12\", element=\"500afe66-0ed4-4619-a3f2-5e65337dfbbd\")>,\n",
       " <selenium.webdriver.remote.webelement.WebElement (session=\"bd73496c3d668f354566eba232c19b12\", element=\"50760da6-14f5-493f-ad3d-fda7cc65f082\")>,\n",
       " <selenium.webdriver.remote.webelement.WebElement (session=\"bd73496c3d668f354566eba232c19b12\", element=\"ee5d1dfd-4e5d-4996-bdae-e7ff852c3a66\")>,\n",
       " <selenium.webdriver.remote.webelement.WebElement (session=\"bd73496c3d668f354566eba232c19b12\", element=\"abbcd60a-493e-4ef2-a9ca-7c4ee0cd62a9\")>,\n",
       " <selenium.webdriver.remote.webelement.WebElement (session=\"bd73496c3d668f354566eba232c19b12\", element=\"5cba551c-74ef-425b-b47c-dea2f08aaf31\")>,\n",
       " <selenium.webdriver.remote.webelement.WebElement (session=\"bd73496c3d668f354566eba232c19b12\", element=\"3287d866-87dd-4414-88a1-ea9b54cd3689\")>]"
      ]
     },
     "execution_count": 268,
     "metadata": {},
     "output_type": "execute_result"
    }
   ],
   "source": [
    "sal = driver.find_elements_by_xpath(\"//div[@class= 'd-flex mt-xxsm css-79elbk epuxyqn0']/p\")\n",
    "sal"
   ]
  },
  {
   "cell_type": "code",
   "execution_count": 286,
   "metadata": {},
   "outputs": [
    {
     "data": {
      "text/plain": [
       "['₹6L',\n",
       " '₹27L',\n",
       " '₹3L',\n",
       " '₹13L',\n",
       " '₹6L',\n",
       " '₹22L',\n",
       " '₹5L',\n",
       " '₹1Cr',\n",
       " '₹4L',\n",
       " '₹16L',\n",
       " '₹11L',\n",
       " '₹15L',\n",
       " '₹5L',\n",
       " '₹15L',\n",
       " '₹4L',\n",
       " '₹22L',\n",
       " '₹2L',\n",
       " '₹18L',\n",
       " '₹6L',\n",
       " '₹15L']"
      ]
     },
     "execution_count": 286,
     "metadata": {},
     "output_type": "execute_result"
    }
   ],
   "source": [
    "sala = []\n",
    "for i in sal:\n",
    "    sala.append(i.text)\n",
    "sala= sala[:20]\n",
    "sala"
   ]
  },
  {
   "cell_type": "code",
   "execution_count": 297,
   "metadata": {},
   "outputs": [
    {
     "data": {
      "text/plain": [
       "['₹6L', '₹3L', '₹6L', '₹5L', '₹4L', '₹11L', '₹5L', '₹4L', '₹2L', '₹6L']"
      ]
     },
     "execution_count": 297,
     "metadata": {},
     "output_type": "execute_result"
    }
   ],
   "source": [
    "min_sala = []\n",
    "for i in range(0,len(sala),2):\n",
    "    min_sala.append(sala[i])\n",
    "min_sala\n"
   ]
  },
  {
   "cell_type": "code",
   "execution_count": 296,
   "metadata": {},
   "outputs": [
    {
     "data": {
      "text/plain": [
       "['₹27L',\n",
       " '₹13L',\n",
       " '₹22L',\n",
       " '₹1Cr',\n",
       " '₹16L',\n",
       " '₹15L',\n",
       " '₹15L',\n",
       " '₹22L',\n",
       " '₹18L',\n",
       " '₹15L']"
      ]
     },
     "execution_count": 296,
     "metadata": {},
     "output_type": "execute_result"
    }
   ],
   "source": [
    "max_sala = []\n",
    "for i in range(1,len(sala),2):\n",
    "    max_sala.append(sala[i])\n",
    "max_sala"
   ]
  },
  {
   "cell_type": "code",
   "execution_count": 301,
   "metadata": {
    "collapsed": true
   },
   "outputs": [
    {
     "data": {
      "text/plain": [
       "[<selenium.webdriver.remote.webelement.WebElement (session=\"bd73496c3d668f354566eba232c19b12\", element=\"7e7488eb-d532-4a55-abd5-63a95ad238eb\")>,\n",
       " <selenium.webdriver.remote.webelement.WebElement (session=\"bd73496c3d668f354566eba232c19b12\", element=\"35dd0644-2da2-4114-bead-13351636d1b5\")>,\n",
       " <selenium.webdriver.remote.webelement.WebElement (session=\"bd73496c3d668f354566eba232c19b12\", element=\"d3063c8a-6a8f-49e2-a248-59096fc1a902\")>,\n",
       " <selenium.webdriver.remote.webelement.WebElement (session=\"bd73496c3d668f354566eba232c19b12\", element=\"7ad97bcd-2dcc-40a1-857c-3e5808daf812\")>,\n",
       " <selenium.webdriver.remote.webelement.WebElement (session=\"bd73496c3d668f354566eba232c19b12\", element=\"42888f44-7b9a-4c26-abda-1189a7bab83b\")>,\n",
       " <selenium.webdriver.remote.webelement.WebElement (session=\"bd73496c3d668f354566eba232c19b12\", element=\"65d68f75-1c21-4033-9274-1edb6aa21800\")>,\n",
       " <selenium.webdriver.remote.webelement.WebElement (session=\"bd73496c3d668f354566eba232c19b12\", element=\"c3d5c62a-90bd-48c7-9ce3-2e7f39e3a285\")>,\n",
       " <selenium.webdriver.remote.webelement.WebElement (session=\"bd73496c3d668f354566eba232c19b12\", element=\"708cc075-cd8e-4228-830a-4776e4bb3816\")>,\n",
       " <selenium.webdriver.remote.webelement.WebElement (session=\"bd73496c3d668f354566eba232c19b12\", element=\"7c0950b9-a3e4-4240-9279-cb4b19dd37b4\")>,\n",
       " <selenium.webdriver.remote.webelement.WebElement (session=\"bd73496c3d668f354566eba232c19b12\", element=\"31dd70bd-669a-4ba0-af4e-7ab6fd610fcf\")>,\n",
       " <selenium.webdriver.remote.webelement.WebElement (session=\"bd73496c3d668f354566eba232c19b12\", element=\"110a1bb2-975e-4773-825d-f1e423735a27\")>,\n",
       " <selenium.webdriver.remote.webelement.WebElement (session=\"bd73496c3d668f354566eba232c19b12\", element=\"094c97f0-a57b-410a-ad74-67df8042c393\")>,\n",
       " <selenium.webdriver.remote.webelement.WebElement (session=\"bd73496c3d668f354566eba232c19b12\", element=\"47440b33-c92c-4823-8388-1f1389ea119d\")>,\n",
       " <selenium.webdriver.remote.webelement.WebElement (session=\"bd73496c3d668f354566eba232c19b12\", element=\"857a2b7f-33d8-4158-8132-8be2cc1d7847\")>,\n",
       " <selenium.webdriver.remote.webelement.WebElement (session=\"bd73496c3d668f354566eba232c19b12\", element=\"3e19cdc5-be13-4d76-9207-57dd6539975b\")>,\n",
       " <selenium.webdriver.remote.webelement.WebElement (session=\"bd73496c3d668f354566eba232c19b12\", element=\"6a436678-07f2-4d04-b547-d458da068dfa\")>,\n",
       " <selenium.webdriver.remote.webelement.WebElement (session=\"bd73496c3d668f354566eba232c19b12\", element=\"59976f0b-860b-4db0-8e9b-efd36d6443af\")>,\n",
       " <selenium.webdriver.remote.webelement.WebElement (session=\"bd73496c3d668f354566eba232c19b12\", element=\"4c0641b4-acdd-46d7-b371-9f27ac5ac2a1\")>,\n",
       " <selenium.webdriver.remote.webelement.WebElement (session=\"bd73496c3d668f354566eba232c19b12\", element=\"f4578d4f-690d-4fee-b0d4-596d68a82b3d\")>,\n",
       " <selenium.webdriver.remote.webelement.WebElement (session=\"bd73496c3d668f354566eba232c19b12\", element=\"83119f3d-6d10-4176-9c90-78e46ead83ae\")>]"
      ]
     },
     "execution_count": 301,
     "metadata": {},
     "output_type": "execute_result"
    }
   ],
   "source": [
    "avgsal = driver.find_elements_by_xpath(\"//div[@class= 'col-12 col-lg-4 px-lg-0 d-flex align-items-baseline']/h3\")\n",
    "avgsal"
   ]
  },
  {
   "cell_type": "code",
   "execution_count": 302,
   "metadata": {},
   "outputs": [
    {
     "data": {
      "text/plain": [
       "['₹9,00,000',\n",
       " '₹6,15,289',\n",
       " '₹11,63,336',\n",
       " '₹12,18,244',\n",
       " '₹7,39,238',\n",
       " '₹13,38,279',\n",
       " '₹8,63,750',\n",
       " '₹13,28,697',\n",
       " '₹11,42,356',\n",
       " '₹11,46,073']"
      ]
     },
     "execution_count": 302,
     "metadata": {},
     "output_type": "execute_result"
    }
   ],
   "source": [
    "asal = []\n",
    "for i in avgsal:\n",
    "    asal.append(i.text)\n",
    "asal[:10]"
   ]
  },
  {
   "cell_type": "code",
   "execution_count": 303,
   "metadata": {
    "collapsed": true
   },
   "outputs": [
    {
     "data": {
      "text/plain": [
       "[<selenium.webdriver.remote.webelement.WebElement (session=\"bd73496c3d668f354566eba232c19b12\", element=\"dbb2651b-e90c-4ec4-a453-b0c061e742c4\")>,\n",
       " <selenium.webdriver.remote.webelement.WebElement (session=\"bd73496c3d668f354566eba232c19b12\", element=\"5b10b20a-ddba-4db3-ad6d-6a1581a47c32\")>,\n",
       " <selenium.webdriver.remote.webelement.WebElement (session=\"bd73496c3d668f354566eba232c19b12\", element=\"dd927f5d-ae9d-4347-9d57-035717444427\")>,\n",
       " <selenium.webdriver.remote.webelement.WebElement (session=\"bd73496c3d668f354566eba232c19b12\", element=\"f6722ae4-5ec3-4677-a110-ef1604b8ace3\")>,\n",
       " <selenium.webdriver.remote.webelement.WebElement (session=\"bd73496c3d668f354566eba232c19b12\", element=\"ea67c3c3-947b-4174-a28d-04dd1c2e9c36\")>,\n",
       " <selenium.webdriver.remote.webelement.WebElement (session=\"bd73496c3d668f354566eba232c19b12\", element=\"2dcf7f95-3aed-47da-914e-99d28c0b4e90\")>,\n",
       " <selenium.webdriver.remote.webelement.WebElement (session=\"bd73496c3d668f354566eba232c19b12\", element=\"f3ba09dd-5f95-42bc-89fd-19ab27ce33a1\")>,\n",
       " <selenium.webdriver.remote.webelement.WebElement (session=\"bd73496c3d668f354566eba232c19b12\", element=\"a3bf9a46-2c34-4705-b0dd-23ddebedc8da\")>,\n",
       " <selenium.webdriver.remote.webelement.WebElement (session=\"bd73496c3d668f354566eba232c19b12\", element=\"7ccdbe69-93ed-49df-af4a-fe1e1864ddc0\")>,\n",
       " <selenium.webdriver.remote.webelement.WebElement (session=\"bd73496c3d668f354566eba232c19b12\", element=\"438617fc-6d83-4d71-821b-dd2a4f659b35\")>,\n",
       " <selenium.webdriver.remote.webelement.WebElement (session=\"bd73496c3d668f354566eba232c19b12\", element=\"4c7fda44-d370-46e1-b166-3a8d9b9e75e5\")>,\n",
       " <selenium.webdriver.remote.webelement.WebElement (session=\"bd73496c3d668f354566eba232c19b12\", element=\"fc87b468-6d5e-4b3b-9989-06dfcd2cdec6\")>,\n",
       " <selenium.webdriver.remote.webelement.WebElement (session=\"bd73496c3d668f354566eba232c19b12\", element=\"e12d5a22-cf3f-4c90-a59a-aafaab5d1713\")>,\n",
       " <selenium.webdriver.remote.webelement.WebElement (session=\"bd73496c3d668f354566eba232c19b12\", element=\"16477f8a-f50b-4581-84dd-01ac7de605e3\")>,\n",
       " <selenium.webdriver.remote.webelement.WebElement (session=\"bd73496c3d668f354566eba232c19b12\", element=\"f4978e25-755f-4670-9ece-17b4396922c8\")>,\n",
       " <selenium.webdriver.remote.webelement.WebElement (session=\"bd73496c3d668f354566eba232c19b12\", element=\"f08b1659-b01d-4988-9953-d6eaa583a057\")>,\n",
       " <selenium.webdriver.remote.webelement.WebElement (session=\"bd73496c3d668f354566eba232c19b12\", element=\"8ae6cd7c-8864-4a99-92ba-517269e715c0\")>,\n",
       " <selenium.webdriver.remote.webelement.WebElement (session=\"bd73496c3d668f354566eba232c19b12\", element=\"c1b0dbf8-6aa9-4df8-9d85-277a78086208\")>,\n",
       " <selenium.webdriver.remote.webelement.WebElement (session=\"bd73496c3d668f354566eba232c19b12\", element=\"1c791bde-72b5-451d-b8d9-6b1e2c2b9e19\")>,\n",
       " <selenium.webdriver.remote.webelement.WebElement (session=\"bd73496c3d668f354566eba232c19b12\", element=\"418243c4-1c92-4751-a6ec-2787969e6ff0\")>]"
      ]
     },
     "execution_count": 303,
     "metadata": {},
     "output_type": "execute_result"
    }
   ],
   "source": [
    "numsal = driver.find_elements_by_xpath(\"//div[@class= 'col-12 col-lg-auto']/span\")\n",
    "numsal"
   ]
  },
  {
   "cell_type": "code",
   "execution_count": 304,
   "metadata": {},
   "outputs": [
    {
     "data": {
      "text/plain": [
       "['18 salaries',\n",
       " '17 salaries',\n",
       " '15 salaries',\n",
       " '15 salaries',\n",
       " '14 salaries',\n",
       " '11 salaries',\n",
       " '10 salaries',\n",
       " '9 salaries',\n",
       " '8 salaries',\n",
       " '8 salaries']"
      ]
     },
     "execution_count": 304,
     "metadata": {},
     "output_type": "execute_result"
    }
   ],
   "source": [
    "numsalary = []\n",
    "for i in numsal:\n",
    "    numsalary.append(i.text)\n",
    "numsalary[:10]"
   ]
  },
  {
   "cell_type": "code",
   "execution_count": 307,
   "metadata": {
    "collapsed": true
   },
   "outputs": [
    {
     "data": {
      "text/plain": [
       "[<selenium.webdriver.remote.webelement.WebElement (session=\"bd73496c3d668f354566eba232c19b12\", element=\"3fb9a513-0f74-4c18-9e63-85a5ebacd174\")>,\n",
       " <selenium.webdriver.remote.webelement.WebElement (session=\"bd73496c3d668f354566eba232c19b12\", element=\"090ce86c-2416-4ce4-bbd3-7872f5dd9c90\")>,\n",
       " <selenium.webdriver.remote.webelement.WebElement (session=\"bd73496c3d668f354566eba232c19b12\", element=\"fc457982-1fb2-4ff6-a88a-c35fe1cdac24\")>,\n",
       " <selenium.webdriver.remote.webelement.WebElement (session=\"bd73496c3d668f354566eba232c19b12\", element=\"32e407cb-abb1-499e-a82c-2ae59645639e\")>,\n",
       " <selenium.webdriver.remote.webelement.WebElement (session=\"bd73496c3d668f354566eba232c19b12\", element=\"7ef01386-1c4f-4678-9b84-75cc506918c3\")>,\n",
       " <selenium.webdriver.remote.webelement.WebElement (session=\"bd73496c3d668f354566eba232c19b12\", element=\"ae6c2288-649e-47f8-ab8c-0ac1c2273091\")>,\n",
       " <selenium.webdriver.remote.webelement.WebElement (session=\"bd73496c3d668f354566eba232c19b12\", element=\"cd2adede-5804-4acd-9f03-a3ea72d6a181\")>,\n",
       " <selenium.webdriver.remote.webelement.WebElement (session=\"bd73496c3d668f354566eba232c19b12\", element=\"11dc6fff-6fa4-459d-9c40-1f79b26422b4\")>,\n",
       " <selenium.webdriver.remote.webelement.WebElement (session=\"bd73496c3d668f354566eba232c19b12\", element=\"0d19ff30-c783-4b56-af19-bfa28e6143a1\")>,\n",
       " <selenium.webdriver.remote.webelement.WebElement (session=\"bd73496c3d668f354566eba232c19b12\", element=\"429e73ac-27aa-4613-899e-10b07d2fbf2e\")>,\n",
       " <selenium.webdriver.remote.webelement.WebElement (session=\"bd73496c3d668f354566eba232c19b12\", element=\"94b569d7-94e0-4d46-b009-f070c25e1cd3\")>,\n",
       " <selenium.webdriver.remote.webelement.WebElement (session=\"bd73496c3d668f354566eba232c19b12\", element=\"9617a42c-1e58-4847-b78c-9fcc15338a32\")>,\n",
       " <selenium.webdriver.remote.webelement.WebElement (session=\"bd73496c3d668f354566eba232c19b12\", element=\"0529cf7a-d5fa-4498-bc4c-64546346fdf2\")>,\n",
       " <selenium.webdriver.remote.webelement.WebElement (session=\"bd73496c3d668f354566eba232c19b12\", element=\"ceb76808-dc45-4c64-8350-9fcab94362cf\")>,\n",
       " <selenium.webdriver.remote.webelement.WebElement (session=\"bd73496c3d668f354566eba232c19b12\", element=\"aa0d3bd9-193d-488a-9147-641a43e59aca\")>,\n",
       " <selenium.webdriver.remote.webelement.WebElement (session=\"bd73496c3d668f354566eba232c19b12\", element=\"b804f1cb-bc46-426c-aaf6-d594c95956b9\")>,\n",
       " <selenium.webdriver.remote.webelement.WebElement (session=\"bd73496c3d668f354566eba232c19b12\", element=\"7c5aafa0-3ad9-4b18-8d04-1863a6c630e1\")>,\n",
       " <selenium.webdriver.remote.webelement.WebElement (session=\"bd73496c3d668f354566eba232c19b12\", element=\"5d0d3f46-be99-4ee7-a1b0-c4eea88abb8f\")>,\n",
       " <selenium.webdriver.remote.webelement.WebElement (session=\"bd73496c3d668f354566eba232c19b12\", element=\"938a2648-84c5-44dd-bbb1-c5db0c2b5538\")>,\n",
       " <selenium.webdriver.remote.webelement.WebElement (session=\"bd73496c3d668f354566eba232c19b12\", element=\"66a024ee-56e0-40fd-9f88-30b0f9084c24\")>]"
      ]
     },
     "execution_count": 307,
     "metadata": {},
     "output_type": "execute_result"
    }
   ],
   "source": [
    "rating = driver.find_elements_by_xpath(\"//span[@class= 'm-0 css-kyx745']\")\n",
    "rating"
   ]
  },
  {
   "cell_type": "code",
   "execution_count": 308,
   "metadata": {},
   "outputs": [
    {
     "data": {
      "text/plain": [
       "['3.9', '3.9', '4', '3.9', '4', '3.7', '4.2', '3.9', '4', '3.6']"
      ]
     },
     "execution_count": 308,
     "metadata": {},
     "output_type": "execute_result"
    }
   ],
   "source": [
    "rat = []\n",
    "for i in rating:\n",
    "    rat.append(i.text)\n",
    "rat[:10]"
   ]
  },
  {
   "cell_type": "code",
   "execution_count": 309,
   "metadata": {},
   "outputs": [
    {
     "name": "stdout",
     "output_type": "stream",
     "text": [
      "10 10 10 10 10\n"
     ]
    }
   ],
   "source": [
    "print(len(comp[:10]),len(min_sala),len(max_sala),len(numsalary[:10]),len(rat[:10]))"
   ]
  },
  {
   "cell_type": "code",
   "execution_count": 315,
   "metadata": {},
   "outputs": [
    {
     "data": {
      "text/html": [
       "<div>\n",
       "<style scoped>\n",
       "    .dataframe tbody tr th:only-of-type {\n",
       "        vertical-align: middle;\n",
       "    }\n",
       "\n",
       "    .dataframe tbody tr th {\n",
       "        vertical-align: top;\n",
       "    }\n",
       "\n",
       "    .dataframe thead th {\n",
       "        text-align: right;\n",
       "    }\n",
       "</style>\n",
       "<table border=\"1\" class=\"dataframe\">\n",
       "  <thead>\n",
       "    <tr style=\"text-align: right;\">\n",
       "      <th></th>\n",
       "      <th>company</th>\n",
       "      <th>sal</th>\n",
       "      <th>sala</th>\n",
       "      <th>avgsal</th>\n",
       "      <th>numsal</th>\n",
       "      <th>rating</th>\n",
       "    </tr>\n",
       "  </thead>\n",
       "  <tbody>\n",
       "    <tr>\n",
       "      <th>0</th>\n",
       "      <td>IBM</td>\n",
       "      <td>₹6L</td>\n",
       "      <td>₹27L</td>\n",
       "      <td>₹9,00,000</td>\n",
       "      <td>18 salaries</td>\n",
       "      <td>3.9</td>\n",
       "    </tr>\n",
       "    <tr>\n",
       "      <th>1</th>\n",
       "      <td>Tata Consultancy Services</td>\n",
       "      <td>₹3L</td>\n",
       "      <td>₹13L</td>\n",
       "      <td>₹6,15,289</td>\n",
       "      <td>17 salaries</td>\n",
       "      <td>3.9</td>\n",
       "    </tr>\n",
       "    <tr>\n",
       "      <th>2</th>\n",
       "      <td>Accenture</td>\n",
       "      <td>₹6L</td>\n",
       "      <td>₹22L</td>\n",
       "      <td>₹11,63,336</td>\n",
       "      <td>15 salaries</td>\n",
       "      <td>4</td>\n",
       "    </tr>\n",
       "    <tr>\n",
       "      <th>3</th>\n",
       "      <td>Delhivery</td>\n",
       "      <td>₹5L</td>\n",
       "      <td>₹1Cr</td>\n",
       "      <td>₹12,18,244</td>\n",
       "      <td>15 salaries</td>\n",
       "      <td>3.9</td>\n",
       "    </tr>\n",
       "    <tr>\n",
       "      <th>4</th>\n",
       "      <td>Ericsson-Worldwide</td>\n",
       "      <td>₹4L</td>\n",
       "      <td>₹16L</td>\n",
       "      <td>₹7,39,238</td>\n",
       "      <td>14 salaries</td>\n",
       "      <td>4</td>\n",
       "    </tr>\n",
       "    <tr>\n",
       "      <th>5</th>\n",
       "      <td>UnitedHealth Group</td>\n",
       "      <td>₹11L</td>\n",
       "      <td>₹15L</td>\n",
       "      <td>₹13,38,279</td>\n",
       "      <td>11 salaries</td>\n",
       "      <td>3.7</td>\n",
       "    </tr>\n",
       "    <tr>\n",
       "      <th>6</th>\n",
       "      <td>Valiance Solutions</td>\n",
       "      <td>₹5L</td>\n",
       "      <td>₹15L</td>\n",
       "      <td>₹8,63,750</td>\n",
       "      <td>10 salaries</td>\n",
       "      <td>4.2</td>\n",
       "    </tr>\n",
       "    <tr>\n",
       "      <th>7</th>\n",
       "      <td>Optum Global Solutions</td>\n",
       "      <td>₹4L</td>\n",
       "      <td>₹22L</td>\n",
       "      <td>₹13,28,697</td>\n",
       "      <td>9 salaries</td>\n",
       "      <td>3.9</td>\n",
       "    </tr>\n",
       "    <tr>\n",
       "      <th>8</th>\n",
       "      <td>ZS Associates</td>\n",
       "      <td>₹2L</td>\n",
       "      <td>₹18L</td>\n",
       "      <td>₹11,42,356</td>\n",
       "      <td>8 salaries</td>\n",
       "      <td>4</td>\n",
       "    </tr>\n",
       "    <tr>\n",
       "      <th>9</th>\n",
       "      <td>EXL Service</td>\n",
       "      <td>₹6L</td>\n",
       "      <td>₹15L</td>\n",
       "      <td>₹11,46,073</td>\n",
       "      <td>8 salaries</td>\n",
       "      <td>3.6</td>\n",
       "    </tr>\n",
       "  </tbody>\n",
       "</table>\n",
       "</div>"
      ],
      "text/plain": [
       "                     company   sal  sala      avgsal       numsal rating\n",
       "0                        IBM   ₹6L  ₹27L   ₹9,00,000  18 salaries    3.9\n",
       "1  Tata Consultancy Services   ₹3L  ₹13L   ₹6,15,289  17 salaries    3.9\n",
       "2                  Accenture   ₹6L  ₹22L  ₹11,63,336  15 salaries      4\n",
       "3                  Delhivery   ₹5L  ₹1Cr  ₹12,18,244  15 salaries    3.9\n",
       "4         Ericsson-Worldwide   ₹4L  ₹16L   ₹7,39,238  14 salaries      4\n",
       "5         UnitedHealth Group  ₹11L  ₹15L  ₹13,38,279  11 salaries    3.7\n",
       "6         Valiance Solutions   ₹5L  ₹15L   ₹8,63,750  10 salaries    4.2\n",
       "7     Optum Global Solutions   ₹4L  ₹22L  ₹13,28,697   9 salaries    3.9\n",
       "8              ZS Associates   ₹2L  ₹18L  ₹11,42,356   8 salaries      4\n",
       "9                EXL Service   ₹6L  ₹15L  ₹11,46,073   8 salaries    3.6"
      ]
     },
     "execution_count": 315,
     "metadata": {},
     "output_type": "execute_result"
    }
   ],
   "source": [
    "glas = pd.DataFrame({})\n",
    "glas['company'] =comp[:10]\n",
    "glas['sal'] = min_sala\n",
    "glas['sala'] = max_sala\n",
    "glas['avgsal'] = asal[:10]\n",
    "glas['numsal'] = numsalary[:10]\n",
    "glas['rating'] = rat[:10]\n",
    "\n",
    "glas"
   ]
  },
  {
   "cell_type": "markdown",
   "metadata": {},
   "source": [
    "Scrape data of first 100 sunglasses listings on flipkart.com. You have to scrape four attributes:\n",
    "1. Brand\n",
    "2. Product Description\n",
    "3. Price\n",
    "4. Discount %"
   ]
  },
  {
   "cell_type": "code",
   "execution_count": 316,
   "metadata": {},
   "outputs": [],
   "source": [
    "url = 'https://www.flipkart.com/'\n",
    "driver.get(url)"
   ]
  },
  {
   "cell_type": "code",
   "execution_count": 317,
   "metadata": {},
   "outputs": [
    {
     "data": {
      "text/plain": [
       "<selenium.webdriver.remote.webelement.WebElement (session=\"bd73496c3d668f354566eba232c19b12\", element=\"186865d7-089e-42ea-91dd-3b525bac7809\")>"
      ]
     },
     "execution_count": 317,
     "metadata": {},
     "output_type": "execute_result"
    }
   ],
   "source": [
    "sear = driver.find_element_by_name('q')\n",
    "sear"
   ]
  },
  {
   "cell_type": "code",
   "execution_count": 320,
   "metadata": {},
   "outputs": [],
   "source": [
    "sear.send_keys(\"sunglasses\")"
   ]
  },
  {
   "cell_type": "code",
   "execution_count": 378,
   "metadata": {},
   "outputs": [],
   "source": [
    "search_btn = driver.find_element_by_xpath(\"/html/body/div[1]/div/div[1]/div[1]/div[2]/div[2]/form/div/button\")\n",
    "search_btn.click()"
   ]
  },
  {
   "cell_type": "code",
   "execution_count": 325,
   "metadata": {},
   "outputs": [],
   "source": [
    "import time"
   ]
  },
  {
   "cell_type": "code",
   "execution_count": 367,
   "metadata": {
    "scrolled": true
   },
   "outputs": [
    {
     "data": {
      "text/plain": [
       "['Fastrack',\n",
       " 'Fastrack',\n",
       " 'ROYAL SON',\n",
       " 'CRIBA',\n",
       " 'PHENOMENAL',\n",
       " 'NuVew',\n",
       " 'NuVew',\n",
       " 'ROZZETTA CRAFT',\n",
       " 'Singco India',\n",
       " 'ROZZETTA CRAFT',\n",
       " 'ROYAL SON',\n",
       " 'AISLIN',\n",
       " 'ROZZETTA CRAFT',\n",
       " 'ROYAL SON',\n",
       " 'Crackers',\n",
       " 'CRIBA',\n",
       " 'NuVew',\n",
       " 'NuVew',\n",
       " 'GANSTA',\n",
       " 'VINCENT CHASE',\n",
       " 'ROZZETTA CRAFT',\n",
       " 'GANSTA',\n",
       " 'Poloport',\n",
       " 'Billion',\n",
       " 'Fastrack',\n",
       " 'Fastrack',\n",
       " 'United Colors of Benetton',\n",
       " 'AISLIN',\n",
       " 'NuVew',\n",
       " 'Silver Kartz',\n",
       " 'Cristiano Ronnie',\n",
       " 'ROYAL SON',\n",
       " 'IDEE',\n",
       " 'ROZZETTA CRAFT',\n",
       " 'United Colors of Benetton',\n",
       " 'VAST',\n",
       " 'NuVew',\n",
       " 'ROYAL SON',\n",
       " 'kingsunglasses',\n",
       " 'GANSTA',\n",
       " 'Fastrack',\n",
       " 'Fastrack',\n",
       " 'ROYAL SON',\n",
       " 'CRIBA',\n",
       " 'PHENOMENAL',\n",
       " 'NuVew',\n",
       " 'NuVew',\n",
       " 'ROZZETTA CRAFT',\n",
       " 'Singco India',\n",
       " 'ROZZETTA CRAFT',\n",
       " 'ROYAL SON',\n",
       " 'AISLIN',\n",
       " 'ROZZETTA CRAFT',\n",
       " 'ROYAL SON',\n",
       " 'Crackers',\n",
       " 'CRIBA',\n",
       " 'NuVew',\n",
       " 'NuVew',\n",
       " 'GANSTA',\n",
       " 'VINCENT CHASE',\n",
       " 'ROZZETTA CRAFT',\n",
       " 'GANSTA',\n",
       " 'Poloport',\n",
       " 'Billion',\n",
       " 'Fastrack',\n",
       " 'Fastrack',\n",
       " 'United Colors of Benetton',\n",
       " 'AISLIN',\n",
       " 'NuVew',\n",
       " 'Silver Kartz',\n",
       " 'Cristiano Ronnie',\n",
       " 'ROYAL SON',\n",
       " 'IDEE',\n",
       " 'ROZZETTA CRAFT',\n",
       " 'United Colors of Benetton',\n",
       " 'VAST',\n",
       " 'NuVew',\n",
       " 'ROYAL SON',\n",
       " 'kingsunglasses',\n",
       " 'GANSTA',\n",
       " 'Fastrack',\n",
       " 'Fastrack',\n",
       " 'ROYAL SON',\n",
       " 'CRIBA',\n",
       " 'PHENOMENAL',\n",
       " 'NuVew',\n",
       " 'NuVew',\n",
       " 'ROZZETTA CRAFT',\n",
       " 'Singco India',\n",
       " 'ROZZETTA CRAFT',\n",
       " 'ROYAL SON',\n",
       " 'AISLIN',\n",
       " 'ROZZETTA CRAFT',\n",
       " 'ROYAL SON',\n",
       " 'Crackers',\n",
       " 'CRIBA',\n",
       " 'NuVew',\n",
       " 'NuVew',\n",
       " 'GANSTA',\n",
       " 'VINCENT CHASE']"
      ]
     },
     "execution_count": 367,
     "metadata": {},
     "output_type": "execute_result"
    }
   ],
   "source": [
    "brand = []\n",
    "for i in range(0,10):\n",
    "    brand_tag = driver.find_elements_by_xpath(\"//div[@class= '_2WkVRV']\")\n",
    "    for j in brand_tag:\n",
    "        brand.append(j.text)\n",
    "driver.find_element_by_xpath(\"//div[@class= '_2MImiq']\").click()\n",
    "time.sleep(2)\n",
    "    \n",
    "brand[:100]"
   ]
  },
  {
   "cell_type": "code",
   "execution_count": 368,
   "metadata": {},
   "outputs": [
    {
     "name": "stdout",
     "output_type": "stream",
     "text": [
      "100\n"
     ]
    }
   ],
   "source": [
    "print(len(brand[:100]))"
   ]
  },
  {
   "cell_type": "code",
   "execution_count": 374,
   "metadata": {
    "collapsed": true
   },
   "outputs": [
    {
     "data": {
      "text/plain": [
       "['Mirrored Aviator Sunglasses (60)',\n",
       " 'UV Protection Aviator Sunglasses (Free Size)',\n",
       " 'UV Protection Round Sunglasses (50)',\n",
       " 'UV Protection Cat-eye Sunglasses (60)',\n",
       " 'UV Protection Aviator Sunglasses (58)',\n",
       " 'Gradient Aviator Sunglasses (58)',\n",
       " 'Gradient Retro Square Sunglasses (60)',\n",
       " 'by Lenskart Polarized, UV Protection Cat-eye Sunglasses...',\n",
       " 'Gradient, UV Protection Wayfarer Sunglasses (Free Size)',\n",
       " 'UV Protection Retro Square Sunglasses (53)',\n",
       " 'Polarized, UV Protection Aviator Sunglasses (58)',\n",
       " 'Mirrored Aviator Sunglasses (Free Size)',\n",
       " 'Gradient, UV Protection Round Sunglasses (Free Size)',\n",
       " 'Gradient Aviator Sunglasses (58)',\n",
       " 'UV Protection, Gradient Butterfly, Over-sized Sunglasse...',\n",
       " 'UV Protection Cat-eye Sunglasses (60)',\n",
       " 'UV Protection, Gradient Butterfly Sunglasses (62)',\n",
       " 'UV Protection Retro Square Sunglasses (88)',\n",
       " 'UV Protection Wayfarer Sunglasses (Free Size)',\n",
       " 'UV Protection Cat-eye Sunglasses (60)',\n",
       " 'UV Protection, Mirrored, Gradient Wayfarer Sunglasses (...',\n",
       " 'UV Protection Aviator Sunglasses (57)',\n",
       " 'Mirrored Aviator Sunglasses (Free Size)',\n",
       " 'UV Protection, Night Vision, Riding Glasses, Others Rou...',\n",
       " 'UV Protection Round Sunglasses (54)',\n",
       " 'UV Protection, Gradient Butterfly, Retro Square Sunglas...',\n",
       " 'UV Protection Oval Sunglasses (Free Size)',\n",
       " 'Polarized Round Sunglasses (56)',\n",
       " 'Gradient, UV Protection Cat-eye, Over-sized Sunglasses ...',\n",
       " 'UV Protection Aviator Sunglasses (Free Size)',\n",
       " 'Mirrored, UV Protection Aviator Sunglasses (57)',\n",
       " 'by Lenskart UV Protection Wayfarer Sunglasses (49)',\n",
       " 'UV Protection Wrap-around Sunglasses (Free Size)',\n",
       " 'Gradient Rectangular Sunglasses (56)',\n",
       " 'Polarized, UV Protection Aviator Sunglasses (58)',\n",
       " 'UV Protection Sports Sunglasses (73)',\n",
       " 'UV Protection, Gradient Round Sunglasses (Free Size)',\n",
       " 'UV Protection Retro Square Sunglasses (88)',\n",
       " 'UV Protection, Polarized Rectangular Sunglasses (Free S...',\n",
       " 'Polarized, UV Protection, Riding Glasses, Mirrored Wayf...',\n",
       " 'Mirrored Aviator Sunglasses (60)',\n",
       " 'UV Protection Aviator Sunglasses (Free Size)',\n",
       " 'UV Protection Round Sunglasses (50)',\n",
       " 'UV Protection Cat-eye Sunglasses (60)',\n",
       " 'UV Protection Aviator Sunglasses (58)',\n",
       " 'Gradient Aviator Sunglasses (58)',\n",
       " 'Gradient Retro Square Sunglasses (60)',\n",
       " 'by Lenskart Polarized, UV Protection Cat-eye Sunglasses...',\n",
       " 'Gradient, UV Protection Wayfarer Sunglasses (Free Size)',\n",
       " 'UV Protection Retro Square Sunglasses (53)',\n",
       " 'Polarized, UV Protection Aviator Sunglasses (58)',\n",
       " 'Mirrored Aviator Sunglasses (Free Size)',\n",
       " 'Gradient, UV Protection Round Sunglasses (Free Size)',\n",
       " 'Gradient Aviator Sunglasses (58)',\n",
       " 'UV Protection, Gradient Butterfly, Over-sized Sunglasse...',\n",
       " 'UV Protection Cat-eye Sunglasses (60)',\n",
       " 'UV Protection, Gradient Butterfly Sunglasses (62)',\n",
       " 'UV Protection Retro Square Sunglasses (88)',\n",
       " 'UV Protection Wayfarer Sunglasses (Free Size)',\n",
       " 'UV Protection Cat-eye Sunglasses (60)',\n",
       " 'UV Protection, Mirrored, Gradient Wayfarer Sunglasses (...',\n",
       " 'UV Protection Aviator Sunglasses (57)',\n",
       " 'Mirrored Aviator Sunglasses (Free Size)',\n",
       " 'UV Protection, Night Vision, Riding Glasses, Others Rou...',\n",
       " 'UV Protection Round Sunglasses (54)',\n",
       " 'UV Protection, Gradient Butterfly, Retro Square Sunglas...',\n",
       " 'UV Protection Oval Sunglasses (Free Size)',\n",
       " 'Polarized Round Sunglasses (56)',\n",
       " 'Gradient, UV Protection Cat-eye, Over-sized Sunglasses ...',\n",
       " 'UV Protection Aviator Sunglasses (Free Size)',\n",
       " 'Mirrored, UV Protection Aviator Sunglasses (57)',\n",
       " 'by Lenskart UV Protection Wayfarer Sunglasses (49)',\n",
       " 'UV Protection Wrap-around Sunglasses (Free Size)',\n",
       " 'Gradient Rectangular Sunglasses (56)',\n",
       " 'Polarized, UV Protection Aviator Sunglasses (58)',\n",
       " 'UV Protection Sports Sunglasses (73)',\n",
       " 'UV Protection, Gradient Round Sunglasses (Free Size)',\n",
       " 'UV Protection Retro Square Sunglasses (88)',\n",
       " 'UV Protection, Polarized Rectangular Sunglasses (Free S...',\n",
       " 'Polarized, UV Protection, Riding Glasses, Mirrored Wayf...',\n",
       " 'Mirrored Aviator Sunglasses (60)',\n",
       " 'UV Protection Aviator Sunglasses (Free Size)',\n",
       " 'UV Protection Round Sunglasses (50)',\n",
       " 'UV Protection Cat-eye Sunglasses (60)',\n",
       " 'UV Protection Aviator Sunglasses (58)',\n",
       " 'Gradient Aviator Sunglasses (58)',\n",
       " 'Gradient Retro Square Sunglasses (60)',\n",
       " 'by Lenskart Polarized, UV Protection Cat-eye Sunglasses...',\n",
       " 'Gradient, UV Protection Wayfarer Sunglasses (Free Size)',\n",
       " 'UV Protection Retro Square Sunglasses (53)',\n",
       " 'Polarized, UV Protection Aviator Sunglasses (58)',\n",
       " 'Mirrored Aviator Sunglasses (Free Size)',\n",
       " 'Gradient, UV Protection Round Sunglasses (Free Size)',\n",
       " 'Gradient Aviator Sunglasses (58)',\n",
       " 'UV Protection, Gradient Butterfly, Over-sized Sunglasse...',\n",
       " 'UV Protection Cat-eye Sunglasses (60)',\n",
       " 'UV Protection, Gradient Butterfly Sunglasses (62)',\n",
       " 'UV Protection Retro Square Sunglasses (88)',\n",
       " 'UV Protection Wayfarer Sunglasses (Free Size)',\n",
       " 'UV Protection Cat-eye Sunglasses (60)']"
      ]
     },
     "execution_count": 374,
     "metadata": {},
     "output_type": "execute_result"
    }
   ],
   "source": [
    "desc = []\n",
    "for i in range(0,10):\n",
    "    prod_desc = driver.find_elements_by_xpath(\"//a[@class= 'IRpwTa']\")\n",
    "    for j in prod_desc:\n",
    "        desc.append(j.text)\n",
    "driver.find_element_by_xpath(\"//div[@class= '_2MImiq']\").click()\n",
    "time.sleep(2)\n",
    "    \n",
    "desc[:100]"
   ]
  },
  {
   "cell_type": "code",
   "execution_count": 376,
   "metadata": {},
   "outputs": [
    {
     "name": "stdout",
     "output_type": "stream",
     "text": [
      "100\n"
     ]
    }
   ],
   "source": [
    "print(len(desc[:100]))"
   ]
  },
  {
   "cell_type": "code",
   "execution_count": 379,
   "metadata": {
    "scrolled": true
   },
   "outputs": [
    {
     "data": {
      "text/plain": [
       "['₹214',\n",
       " '₹365',\n",
       " '₹299',\n",
       " '₹509',\n",
       " '₹349',\n",
       " '₹513',\n",
       " '₹592',\n",
       " '₹449',\n",
       " '₹237',\n",
       " '₹404',\n",
       " '₹399',\n",
       " '₹479',\n",
       " '₹733',\n",
       " '₹499',\n",
       " '₹246',\n",
       " '₹449',\n",
       " '₹299',\n",
       " '₹229',\n",
       " '₹399',\n",
       " '₹500',\n",
       " '₹225',\n",
       " '₹499',\n",
       " '₹522',\n",
       " '₹498',\n",
       " '₹647',\n",
       " '₹449',\n",
       " '₹558',\n",
       " '₹499',\n",
       " '₹252',\n",
       " '₹281',\n",
       " '₹349',\n",
       " '₹1,179',\n",
       " '₹1,085',\n",
       " '₹252',\n",
       " '₹331',\n",
       " '₹345',\n",
       " '₹200',\n",
       " '₹237',\n",
       " '₹299',\n",
       " '₹975',\n",
       " '₹214',\n",
       " '₹365',\n",
       " '₹299',\n",
       " '₹509',\n",
       " '₹349',\n",
       " '₹513',\n",
       " '₹592',\n",
       " '₹449',\n",
       " '₹237',\n",
       " '₹404',\n",
       " '₹399',\n",
       " '₹479',\n",
       " '₹733',\n",
       " '₹499',\n",
       " '₹246',\n",
       " '₹449',\n",
       " '₹299',\n",
       " '₹229',\n",
       " '₹399',\n",
       " '₹500',\n",
       " '₹225',\n",
       " '₹499',\n",
       " '₹522',\n",
       " '₹498',\n",
       " '₹647',\n",
       " '₹449',\n",
       " '₹558',\n",
       " '₹499',\n",
       " '₹252',\n",
       " '₹281',\n",
       " '₹349',\n",
       " '₹1,179',\n",
       " '₹1,085',\n",
       " '₹252',\n",
       " '₹331',\n",
       " '₹345',\n",
       " '₹200',\n",
       " '₹237',\n",
       " '₹299',\n",
       " '₹975',\n",
       " '₹214',\n",
       " '₹365',\n",
       " '₹299',\n",
       " '₹509',\n",
       " '₹349',\n",
       " '₹513',\n",
       " '₹592',\n",
       " '₹449',\n",
       " '₹237',\n",
       " '₹404',\n",
       " '₹399',\n",
       " '₹479',\n",
       " '₹733',\n",
       " '₹499',\n",
       " '₹246',\n",
       " '₹449',\n",
       " '₹299',\n",
       " '₹229',\n",
       " '₹399',\n",
       " '₹500']"
      ]
     },
     "execution_count": 379,
     "metadata": {},
     "output_type": "execute_result"
    }
   ],
   "source": [
    "price = []\n",
    "for i in range(0,10):\n",
    "    price_desc = driver.find_elements_by_xpath(\"//div[@class= '_30jeq3']\")\n",
    "    for j in price_desc:\n",
    "        price.append(j.text)\n",
    "driver.find_element_by_xpath(\"//div[@class= '_2MImiq']\").click()\n",
    "time.sleep(2)\n",
    "    \n",
    "price[:100]"
   ]
  },
  {
   "cell_type": "code",
   "execution_count": 381,
   "metadata": {},
   "outputs": [
    {
     "name": "stdout",
     "output_type": "stream",
     "text": [
      "100\n"
     ]
    }
   ],
   "source": [
    "print(len(price[:100]))"
   ]
  },
  {
   "cell_type": "code",
   "execution_count": 382,
   "metadata": {
    "collapsed": true
   },
   "outputs": [
    {
     "data": {
      "text/plain": [
       "['64% off',\n",
       " '7% off',\n",
       " '73% off',\n",
       " '72% off',\n",
       " '11% off',\n",
       " '64% off',\n",
       " '65% off',\n",
       " '29% off',\n",
       " '14% off',\n",
       " '84% off',\n",
       " '62% off',\n",
       " '72% off',\n",
       " '83% off',\n",
       " '67% off',\n",
       " '72% off',\n",
       " '73% off',\n",
       " '70% off',\n",
       " '70% off',\n",
       " '21% off',\n",
       " '72% off',\n",
       " '85% off',\n",
       " '83% off',\n",
       " '73% off',\n",
       " '74% off',\n",
       " '84% off',\n",
       " '67% off',\n",
       " '13% off',\n",
       " '67% off',\n",
       " '53% off',\n",
       " '15% off',\n",
       " '65% off',\n",
       " '29% off',\n",
       " '66% off',\n",
       " '52% off',\n",
       " '62% off',\n",
       " '41% off',\n",
       " '87% off',\n",
       " '70% off',\n",
       " '81% off',\n",
       " '78% off',\n",
       " '64% off',\n",
       " '7% off',\n",
       " '73% off',\n",
       " '72% off',\n",
       " '11% off',\n",
       " '64% off',\n",
       " '65% off',\n",
       " '29% off',\n",
       " '14% off',\n",
       " '84% off',\n",
       " '62% off',\n",
       " '72% off',\n",
       " '83% off',\n",
       " '67% off',\n",
       " '72% off',\n",
       " '73% off',\n",
       " '70% off',\n",
       " '70% off',\n",
       " '21% off',\n",
       " '72% off',\n",
       " '85% off',\n",
       " '83% off',\n",
       " '73% off',\n",
       " '74% off',\n",
       " '84% off',\n",
       " '67% off',\n",
       " '13% off',\n",
       " '67% off',\n",
       " '53% off',\n",
       " '15% off',\n",
       " '65% off',\n",
       " '29% off',\n",
       " '66% off',\n",
       " '52% off',\n",
       " '62% off',\n",
       " '41% off',\n",
       " '87% off',\n",
       " '70% off',\n",
       " '81% off',\n",
       " '78% off',\n",
       " '64% off',\n",
       " '7% off',\n",
       " '73% off',\n",
       " '72% off',\n",
       " '11% off',\n",
       " '64% off',\n",
       " '65% off',\n",
       " '29% off',\n",
       " '14% off',\n",
       " '84% off',\n",
       " '62% off',\n",
       " '72% off',\n",
       " '83% off',\n",
       " '67% off',\n",
       " '72% off',\n",
       " '73% off',\n",
       " '70% off',\n",
       " '70% off',\n",
       " '21% off',\n",
       " '72% off']"
      ]
     },
     "execution_count": 382,
     "metadata": {},
     "output_type": "execute_result"
    }
   ],
   "source": [
    "dis = []\n",
    "for i in range(0,10):\n",
    "    discount = driver.find_elements_by_xpath(\"//div[@class= '_3Ay6Sb']/span\")\n",
    "    for j in discount:\n",
    "        dis.append(j.text)\n",
    "driver.find_element_by_xpath(\"//div[@class= '_2MImiq']\").click()\n",
    "time.sleep(2)\n",
    "    \n",
    "dis[:100]"
   ]
  },
  {
   "cell_type": "code",
   "execution_count": 383,
   "metadata": {
    "collapsed": true
   },
   "outputs": [
    {
     "name": "stdout",
     "output_type": "stream",
     "text": [
      "100\n"
     ]
    }
   ],
   "source": [
    "print(len(dis[:100]))"
   ]
  },
  {
   "cell_type": "code",
   "execution_count": 393,
   "metadata": {},
   "outputs": [
    {
     "data": {
      "text/html": [
       "<div>\n",
       "<style scoped>\n",
       "    .dataframe tbody tr th:only-of-type {\n",
       "        vertical-align: middle;\n",
       "    }\n",
       "\n",
       "    .dataframe tbody tr th {\n",
       "        vertical-align: top;\n",
       "    }\n",
       "\n",
       "    .dataframe thead th {\n",
       "        text-align: right;\n",
       "    }\n",
       "</style>\n",
       "<table border=\"1\" class=\"dataframe\">\n",
       "  <thead>\n",
       "    <tr style=\"text-align: right;\">\n",
       "      <th></th>\n",
       "      <th>brand</th>\n",
       "      <th>description</th>\n",
       "      <th>prices</th>\n",
       "      <th>discount</th>\n",
       "    </tr>\n",
       "  </thead>\n",
       "  <tbody>\n",
       "    <tr>\n",
       "      <th>0</th>\n",
       "      <td>Fastrack</td>\n",
       "      <td>Mirrored Aviator Sunglasses (60)</td>\n",
       "      <td>₹214</td>\n",
       "      <td>64% off</td>\n",
       "    </tr>\n",
       "    <tr>\n",
       "      <th>1</th>\n",
       "      <td>Fastrack</td>\n",
       "      <td>UV Protection Aviator Sunglasses (Free Size)</td>\n",
       "      <td>₹365</td>\n",
       "      <td>7% off</td>\n",
       "    </tr>\n",
       "    <tr>\n",
       "      <th>2</th>\n",
       "      <td>ROYAL SON</td>\n",
       "      <td>UV Protection Round Sunglasses (50)</td>\n",
       "      <td>₹299</td>\n",
       "      <td>73% off</td>\n",
       "    </tr>\n",
       "    <tr>\n",
       "      <th>3</th>\n",
       "      <td>CRIBA</td>\n",
       "      <td>UV Protection Cat-eye Sunglasses (60)</td>\n",
       "      <td>₹509</td>\n",
       "      <td>72% off</td>\n",
       "    </tr>\n",
       "    <tr>\n",
       "      <th>4</th>\n",
       "      <td>PHENOMENAL</td>\n",
       "      <td>UV Protection Aviator Sunglasses (58)</td>\n",
       "      <td>₹349</td>\n",
       "      <td>11% off</td>\n",
       "    </tr>\n",
       "    <tr>\n",
       "      <th>...</th>\n",
       "      <td>...</td>\n",
       "      <td>...</td>\n",
       "      <td>...</td>\n",
       "      <td>...</td>\n",
       "    </tr>\n",
       "    <tr>\n",
       "      <th>95</th>\n",
       "      <td>CRIBA</td>\n",
       "      <td>UV Protection Cat-eye Sunglasses (60)</td>\n",
       "      <td>₹449</td>\n",
       "      <td>73% off</td>\n",
       "    </tr>\n",
       "    <tr>\n",
       "      <th>96</th>\n",
       "      <td>NuVew</td>\n",
       "      <td>UV Protection, Gradient Butterfly Sunglasses (62)</td>\n",
       "      <td>₹299</td>\n",
       "      <td>70% off</td>\n",
       "    </tr>\n",
       "    <tr>\n",
       "      <th>97</th>\n",
       "      <td>NuVew</td>\n",
       "      <td>UV Protection Retro Square Sunglasses (88)</td>\n",
       "      <td>₹229</td>\n",
       "      <td>70% off</td>\n",
       "    </tr>\n",
       "    <tr>\n",
       "      <th>98</th>\n",
       "      <td>GANSTA</td>\n",
       "      <td>UV Protection Wayfarer Sunglasses (Free Size)</td>\n",
       "      <td>₹399</td>\n",
       "      <td>21% off</td>\n",
       "    </tr>\n",
       "    <tr>\n",
       "      <th>99</th>\n",
       "      <td>VINCENT CHASE</td>\n",
       "      <td>UV Protection Cat-eye Sunglasses (60)</td>\n",
       "      <td>₹500</td>\n",
       "      <td>72% off</td>\n",
       "    </tr>\n",
       "  </tbody>\n",
       "</table>\n",
       "<p>100 rows × 4 columns</p>\n",
       "</div>"
      ],
      "text/plain": [
       "            brand                                        description prices  \\\n",
       "0        Fastrack                   Mirrored Aviator Sunglasses (60)   ₹214   \n",
       "1        Fastrack       UV Protection Aviator Sunglasses (Free Size)   ₹365   \n",
       "2       ROYAL SON                UV Protection Round Sunglasses (50)   ₹299   \n",
       "3           CRIBA              UV Protection Cat-eye Sunglasses (60)   ₹509   \n",
       "4      PHENOMENAL              UV Protection Aviator Sunglasses (58)   ₹349   \n",
       "..            ...                                                ...    ...   \n",
       "95          CRIBA              UV Protection Cat-eye Sunglasses (60)   ₹449   \n",
       "96          NuVew  UV Protection, Gradient Butterfly Sunglasses (62)   ₹299   \n",
       "97          NuVew         UV Protection Retro Square Sunglasses (88)   ₹229   \n",
       "98         GANSTA      UV Protection Wayfarer Sunglasses (Free Size)   ₹399   \n",
       "99  VINCENT CHASE              UV Protection Cat-eye Sunglasses (60)   ₹500   \n",
       "\n",
       "   discount  \n",
       "0   64% off  \n",
       "1    7% off  \n",
       "2   73% off  \n",
       "3   72% off  \n",
       "4   11% off  \n",
       "..      ...  \n",
       "95  73% off  \n",
       "96  70% off  \n",
       "97  70% off  \n",
       "98  21% off  \n",
       "99  72% off  \n",
       "\n",
       "[100 rows x 4 columns]"
      ]
     },
     "execution_count": 393,
     "metadata": {},
     "output_type": "execute_result"
    }
   ],
   "source": [
    "flip = pd.DataFrame({'brand':brand[:100],'description':desc[:100],'prices':price[:100],'discount':dis[:100]})\n",
    "flip"
   ]
  },
  {
   "cell_type": "markdown",
   "metadata": {},
   "source": [
    "Scrape 100 reviews data from flipkart.com for iphone11 phone. You have to go the link:https://www.flipkart.com/apple-iphone-11-black-64-gb-includes\u0002earpods-power\u0002adapter/p/itm0f37c2240b217?pid=MOBFKCTSVZAXUHGR&lid=LSTMOBFKCTSVZAXUHGREPBFGI&marketplace."
   ]
  },
  {
   "cell_type": "code",
   "execution_count": 402,
   "metadata": {},
   "outputs": [],
   "source": [
    "url = 'https://www.flipkart.com/apple-iphone-11-black-64-gb-includes-earpods-power-adapter/product-reviews/itm0f37c2240b217?pid=MOBFKCTSVZAXUHGR&lid=LSTMOBFKCTSVZAXUHGREPBFGI&marketplace=FLIPKART'\n",
    "driver.get(url)"
   ]
  },
  {
   "cell_type": "code",
   "execution_count": 397,
   "metadata": {
    "collapsed": true
   },
   "outputs": [
    {
     "data": {
      "text/plain": [
       "['5',\n",
       " '5',\n",
       " '5',\n",
       " '5',\n",
       " '5',\n",
       " '5',\n",
       " '4',\n",
       " '5',\n",
       " '5',\n",
       " '5',\n",
       " '5',\n",
       " '5',\n",
       " '5',\n",
       " '5',\n",
       " '5',\n",
       " '5',\n",
       " '4',\n",
       " '5',\n",
       " '5',\n",
       " '5',\n",
       " '5',\n",
       " '5',\n",
       " '5',\n",
       " '5',\n",
       " '5',\n",
       " '5',\n",
       " '4',\n",
       " '5',\n",
       " '5',\n",
       " '5',\n",
       " '5',\n",
       " '5',\n",
       " '5',\n",
       " '5',\n",
       " '5',\n",
       " '5',\n",
       " '4',\n",
       " '5',\n",
       " '5',\n",
       " '5',\n",
       " '5',\n",
       " '5',\n",
       " '5',\n",
       " '5',\n",
       " '5',\n",
       " '5',\n",
       " '4',\n",
       " '5',\n",
       " '5',\n",
       " '5',\n",
       " '5',\n",
       " '5',\n",
       " '5',\n",
       " '5',\n",
       " '5',\n",
       " '5',\n",
       " '4',\n",
       " '5',\n",
       " '5',\n",
       " '5',\n",
       " '5',\n",
       " '5',\n",
       " '5',\n",
       " '5',\n",
       " '5',\n",
       " '5',\n",
       " '4',\n",
       " '5',\n",
       " '5',\n",
       " '5',\n",
       " '5',\n",
       " '5',\n",
       " '5',\n",
       " '5',\n",
       " '5',\n",
       " '5',\n",
       " '4',\n",
       " '5',\n",
       " '5',\n",
       " '5',\n",
       " '5',\n",
       " '5',\n",
       " '5',\n",
       " '5',\n",
       " '5',\n",
       " '5',\n",
       " '4',\n",
       " '5',\n",
       " '5',\n",
       " '5',\n",
       " '5',\n",
       " '5',\n",
       " '5',\n",
       " '5',\n",
       " '5',\n",
       " '5',\n",
       " '4',\n",
       " '5',\n",
       " '5',\n",
       " '5']"
      ]
     },
     "execution_count": 397,
     "metadata": {},
     "output_type": "execute_result"
    }
   ],
   "source": [
    "rating = []\n",
    "for i in range(0,20):\n",
    "    ratings = driver.find_elements_by_xpath(\"//div[@class= '_3LWZlK _1BLPMq']\")\n",
    "    for j in ratings:\n",
    "        rating.append(j.text)\n",
    "driver.find_element_by_xpath(\"//div[@class= '_2MImiq _1Qnn1K']\").click()\n",
    "time.sleep(2)\n",
    "    \n",
    "rating[:100]"
   ]
  },
  {
   "cell_type": "code",
   "execution_count": 398,
   "metadata": {},
   "outputs": [
    {
     "name": "stdout",
     "output_type": "stream",
     "text": [
      "100\n"
     ]
    }
   ],
   "source": [
    "print(len(rating[:100]))"
   ]
  },
  {
   "cell_type": "code",
   "execution_count": 400,
   "metadata": {
    "collapsed": true
   },
   "outputs": [
    {
     "data": {
      "text/plain": [
       "['Brilliant',\n",
       " 'Perfect product!',\n",
       " 'Fabulous!',\n",
       " 'Worth every penny',\n",
       " 'Great product',\n",
       " 'Worth every penny',\n",
       " 'Good choice',\n",
       " 'Simply awesome',\n",
       " 'Highly recommended',\n",
       " 'Perfect product!',\n",
       " 'Brilliant',\n",
       " 'Perfect product!',\n",
       " 'Fabulous!',\n",
       " 'Worth every penny',\n",
       " 'Great product',\n",
       " 'Worth every penny',\n",
       " 'Good choice',\n",
       " 'Simply awesome',\n",
       " 'Highly recommended',\n",
       " 'Perfect product!',\n",
       " 'Brilliant',\n",
       " 'Perfect product!',\n",
       " 'Fabulous!',\n",
       " 'Worth every penny',\n",
       " 'Great product',\n",
       " 'Worth every penny',\n",
       " 'Good choice',\n",
       " 'Simply awesome',\n",
       " 'Highly recommended',\n",
       " 'Perfect product!',\n",
       " 'Brilliant',\n",
       " 'Perfect product!',\n",
       " 'Fabulous!',\n",
       " 'Worth every penny',\n",
       " 'Great product',\n",
       " 'Worth every penny',\n",
       " 'Good choice',\n",
       " 'Simply awesome',\n",
       " 'Highly recommended',\n",
       " 'Perfect product!',\n",
       " 'Brilliant',\n",
       " 'Perfect product!',\n",
       " 'Fabulous!',\n",
       " 'Worth every penny',\n",
       " 'Great product',\n",
       " 'Worth every penny',\n",
       " 'Good choice',\n",
       " 'Simply awesome',\n",
       " 'Highly recommended',\n",
       " 'Perfect product!',\n",
       " 'Brilliant',\n",
       " 'Perfect product!',\n",
       " 'Fabulous!',\n",
       " 'Worth every penny',\n",
       " 'Great product',\n",
       " 'Worth every penny',\n",
       " 'Good choice',\n",
       " 'Simply awesome',\n",
       " 'Highly recommended',\n",
       " 'Perfect product!',\n",
       " 'Brilliant',\n",
       " 'Perfect product!',\n",
       " 'Fabulous!',\n",
       " 'Worth every penny',\n",
       " 'Great product',\n",
       " 'Worth every penny',\n",
       " 'Good choice',\n",
       " 'Simply awesome',\n",
       " 'Highly recommended',\n",
       " 'Perfect product!',\n",
       " 'Brilliant',\n",
       " 'Perfect product!',\n",
       " 'Fabulous!',\n",
       " 'Worth every penny',\n",
       " 'Great product',\n",
       " 'Worth every penny',\n",
       " 'Good choice',\n",
       " 'Simply awesome',\n",
       " 'Highly recommended',\n",
       " 'Perfect product!',\n",
       " 'Brilliant',\n",
       " 'Perfect product!',\n",
       " 'Fabulous!',\n",
       " 'Worth every penny',\n",
       " 'Great product',\n",
       " 'Worth every penny',\n",
       " 'Good choice',\n",
       " 'Simply awesome',\n",
       " 'Highly recommended',\n",
       " 'Perfect product!',\n",
       " 'Brilliant',\n",
       " 'Perfect product!',\n",
       " 'Fabulous!',\n",
       " 'Worth every penny',\n",
       " 'Great product',\n",
       " 'Worth every penny',\n",
       " 'Good choice',\n",
       " 'Simply awesome',\n",
       " 'Highly recommended',\n",
       " 'Perfect product!']"
      ]
     },
     "execution_count": 400,
     "metadata": {},
     "output_type": "execute_result"
    }
   ],
   "source": [
    "rev_sum = []\n",
    "for i in range(0,20):\n",
    "    summ = driver.find_elements_by_xpath(\"//p[@class= '_2-N8zT']\")\n",
    "    for j in summ:\n",
    "        rev_sum.append(j.text)\n",
    "driver.find_element_by_xpath(\"//div[@class= '_2MImiq _1Qnn1K']\").click()\n",
    "time.sleep(2)\n",
    "    \n",
    "rev_sum[:100]"
   ]
  },
  {
   "cell_type": "code",
   "execution_count": 401,
   "metadata": {},
   "outputs": [
    {
     "name": "stdout",
     "output_type": "stream",
     "text": [
      "100\n"
     ]
    }
   ],
   "source": [
    "print(len(rev_sum[:100]))"
   ]
  },
  {
   "cell_type": "code",
   "execution_count": 403,
   "metadata": {
    "collapsed": true
   },
   "outputs": [
    {
     "data": {
      "text/plain": [
       "['The Best Phone for the Money\\n\\nThe iPhone 11 offers superb cameras, a more durable design and excellent battery life for an affordable price.\\n\\nCompelling ultra-wide camera\\nNew Night mode is excellent\\nLong battery life',\n",
       " 'Amazing phone with great cameras and better battery which gives you the best performance. I just love the camera .',\n",
       " 'This is my first iOS phone. I am very happy with this product. Very much satisfied with this. I love this phone.',\n",
       " 'Previously I was using one plus 3t it was a great phone\\nAnd then I decided to upgrade I am stuck between Samsung s10 plus or iPhone 11\\nI have seen the specs and everything were good except the display it’s somewhere between 720-1080 and it’s not even an amoled it’s an LCD display\\nBut I decided to go with iPhone because I have never used an IOS device I have Been an android user from the past 9 years I ordered IPhone 11 (128gb) product red\\nMy experience after using 3 weeks\\n1. The delivery ...\\nREAD MORE',\n",
       " 'Amazing Powerful and Durable Gadget.\\n\\nI’m am very happy with the camera picture quality, Amazing face id unlocked in dark room, Strong battery with perfect screen size as you can carry easily in pocket. This is my third iPhone.\\n\\nI shifted from android Samsung Note series to iPhone because of the strong build quality and peace of mind for next 3-4 years.\\n\\nDon’t think to much just go for it and I suggest you to go for minimum 128gb variant or more 256gb.\\n\\nI’ve attached my puppy pics and no fi...\\nREAD MORE',\n",
       " 'i11 is worthy to buy, too much happy with the product. Thank u flipkart I received the item on time..loved it..',\n",
       " 'So far it’s been an AMAZING experience coming back to iOS after nearly a decade but it’s not as versatile as android though phone is sturdy dropped it accidentally a couple of times and nothing happened fortunately camera is awesome',\n",
       " 'Really satisfied with the Product I received... It’s totally genuine and the packaging was also really good so if ur planning to buy just go for it.',\n",
       " 'iphone 11 is a very good phone to buy only if you can compromise for the display. The display on this is device is pretty good but you can get other options with better displays in this price segment.\\nIf you can survive with an HD+ LCD panel with thicker bezels and a notch up top then this is a very good phone for you.\\nCameras are awesome, battery backup excellent, great performance and a decent premium look. Good job Apple !',\n",
       " 'It’s a must buy who is looking for an upgrade from previous generation of iPhones. If you are using XR then still you can hold on for sometime and upgrade to 2020 model else this phone is a must buy . Camera quality is amazing and wide angle is something to count upon. Performance wise it’s amazing and feels premium while holding in hand. So a big YES for this device. Go for 128 GB variant as the 4K videos will occupy lots of space and the storage can get over very quickly. Try to buy it with...\\nREAD MORE',\n",
       " 'The Best Phone for the Money\\n\\nThe iPhone 11 offers superb cameras, a more durable design and excellent battery life for an affordable price.\\n\\nCompelling ultra-wide camera\\nNew Night mode is excellent\\nLong battery life',\n",
       " 'Amazing phone with great cameras and better battery which gives you the best performance. I just love the camera .',\n",
       " 'This is my first iOS phone. I am very happy with this product. Very much satisfied with this. I love this phone.',\n",
       " 'Previously I was using one plus 3t it was a great phone\\nAnd then I decided to upgrade I am stuck between Samsung s10 plus or iPhone 11\\nI have seen the specs and everything were good except the display it’s somewhere between 720-1080 and it’s not even an amoled it’s an LCD display\\nBut I decided to go with iPhone because I have never used an IOS device I have Been an android user from the past 9 years I ordered IPhone 11 (128gb) product red\\nMy experience after using 3 weeks\\n1. The delivery ...\\nREAD MORE',\n",
       " 'Amazing Powerful and Durable Gadget.\\n\\nI’m am very happy with the camera picture quality, Amazing face id unlocked in dark room, Strong battery with perfect screen size as you can carry easily in pocket. This is my third iPhone.\\n\\nI shifted from android Samsung Note series to iPhone because of the strong build quality and peace of mind for next 3-4 years.\\n\\nDon’t think to much just go for it and I suggest you to go for minimum 128gb variant or more 256gb.\\n\\nI’ve attached my puppy pics and no fi...\\nREAD MORE',\n",
       " 'i11 is worthy to buy, too much happy with the product. Thank u flipkart I received the item on time..loved it..',\n",
       " 'So far it’s been an AMAZING experience coming back to iOS after nearly a decade but it’s not as versatile as android though phone is sturdy dropped it accidentally a couple of times and nothing happened fortunately camera is awesome',\n",
       " 'Really satisfied with the Product I received... It’s totally genuine and the packaging was also really good so if ur planning to buy just go for it.',\n",
       " 'iphone 11 is a very good phone to buy only if you can compromise for the display. The display on this is device is pretty good but you can get other options with better displays in this price segment.\\nIf you can survive with an HD+ LCD panel with thicker bezels and a notch up top then this is a very good phone for you.\\nCameras are awesome, battery backup excellent, great performance and a decent premium look. Good job Apple !',\n",
       " 'It’s a must buy who is looking for an upgrade from previous generation of iPhones. If you are using XR then still you can hold on for sometime and upgrade to 2020 model else this phone is a must buy . Camera quality is amazing and wide angle is something to count upon. Performance wise it’s amazing and feels premium while holding in hand. So a big YES for this device. Go for 128 GB variant as the 4K videos will occupy lots of space and the storage can get over very quickly. Try to buy it with...\\nREAD MORE',\n",
       " 'The Best Phone for the Money\\n\\nThe iPhone 11 offers superb cameras, a more durable design and excellent battery life for an affordable price.\\n\\nCompelling ultra-wide camera\\nNew Night mode is excellent\\nLong battery life',\n",
       " 'Amazing phone with great cameras and better battery which gives you the best performance. I just love the camera .',\n",
       " 'This is my first iOS phone. I am very happy with this product. Very much satisfied with this. I love this phone.',\n",
       " 'Previously I was using one plus 3t it was a great phone\\nAnd then I decided to upgrade I am stuck between Samsung s10 plus or iPhone 11\\nI have seen the specs and everything were good except the display it’s somewhere between 720-1080 and it’s not even an amoled it’s an LCD display\\nBut I decided to go with iPhone because I have never used an IOS device I have Been an android user from the past 9 years I ordered IPhone 11 (128gb) product red\\nMy experience after using 3 weeks\\n1. The delivery ...\\nREAD MORE',\n",
       " 'Amazing Powerful and Durable Gadget.\\n\\nI’m am very happy with the camera picture quality, Amazing face id unlocked in dark room, Strong battery with perfect screen size as you can carry easily in pocket. This is my third iPhone.\\n\\nI shifted from android Samsung Note series to iPhone because of the strong build quality and peace of mind for next 3-4 years.\\n\\nDon’t think to much just go for it and I suggest you to go for minimum 128gb variant or more 256gb.\\n\\nI’ve attached my puppy pics and no fi...\\nREAD MORE',\n",
       " 'i11 is worthy to buy, too much happy with the product. Thank u flipkart I received the item on time..loved it..',\n",
       " 'So far it’s been an AMAZING experience coming back to iOS after nearly a decade but it’s not as versatile as android though phone is sturdy dropped it accidentally a couple of times and nothing happened fortunately camera is awesome',\n",
       " 'Really satisfied with the Product I received... It’s totally genuine and the packaging was also really good so if ur planning to buy just go for it.',\n",
       " 'iphone 11 is a very good phone to buy only if you can compromise for the display. The display on this is device is pretty good but you can get other options with better displays in this price segment.\\nIf you can survive with an HD+ LCD panel with thicker bezels and a notch up top then this is a very good phone for you.\\nCameras are awesome, battery backup excellent, great performance and a decent premium look. Good job Apple !',\n",
       " 'It’s a must buy who is looking for an upgrade from previous generation of iPhones. If you are using XR then still you can hold on for sometime and upgrade to 2020 model else this phone is a must buy . Camera quality is amazing and wide angle is something to count upon. Performance wise it’s amazing and feels premium while holding in hand. So a big YES for this device. Go for 128 GB variant as the 4K videos will occupy lots of space and the storage can get over very quickly. Try to buy it with...\\nREAD MORE',\n",
       " 'The Best Phone for the Money\\n\\nThe iPhone 11 offers superb cameras, a more durable design and excellent battery life for an affordable price.\\n\\nCompelling ultra-wide camera\\nNew Night mode is excellent\\nLong battery life',\n",
       " 'Amazing phone with great cameras and better battery which gives you the best performance. I just love the camera .',\n",
       " 'This is my first iOS phone. I am very happy with this product. Very much satisfied with this. I love this phone.',\n",
       " 'Previously I was using one plus 3t it was a great phone\\nAnd then I decided to upgrade I am stuck between Samsung s10 plus or iPhone 11\\nI have seen the specs and everything were good except the display it’s somewhere between 720-1080 and it’s not even an amoled it’s an LCD display\\nBut I decided to go with iPhone because I have never used an IOS device I have Been an android user from the past 9 years I ordered IPhone 11 (128gb) product red\\nMy experience after using 3 weeks\\n1. The delivery ...\\nREAD MORE',\n",
       " 'Amazing Powerful and Durable Gadget.\\n\\nI’m am very happy with the camera picture quality, Amazing face id unlocked in dark room, Strong battery with perfect screen size as you can carry easily in pocket. This is my third iPhone.\\n\\nI shifted from android Samsung Note series to iPhone because of the strong build quality and peace of mind for next 3-4 years.\\n\\nDon’t think to much just go for it and I suggest you to go for minimum 128gb variant or more 256gb.\\n\\nI’ve attached my puppy pics and no fi...\\nREAD MORE',\n",
       " 'i11 is worthy to buy, too much happy with the product. Thank u flipkart I received the item on time..loved it..',\n",
       " 'So far it’s been an AMAZING experience coming back to iOS after nearly a decade but it’s not as versatile as android though phone is sturdy dropped it accidentally a couple of times and nothing happened fortunately camera is awesome',\n",
       " 'Really satisfied with the Product I received... It’s totally genuine and the packaging was also really good so if ur planning to buy just go for it.',\n",
       " 'iphone 11 is a very good phone to buy only if you can compromise for the display. The display on this is device is pretty good but you can get other options with better displays in this price segment.\\nIf you can survive with an HD+ LCD panel with thicker bezels and a notch up top then this is a very good phone for you.\\nCameras are awesome, battery backup excellent, great performance and a decent premium look. Good job Apple !',\n",
       " 'It’s a must buy who is looking for an upgrade from previous generation of iPhones. If you are using XR then still you can hold on for sometime and upgrade to 2020 model else this phone is a must buy . Camera quality is amazing and wide angle is something to count upon. Performance wise it’s amazing and feels premium while holding in hand. So a big YES for this device. Go for 128 GB variant as the 4K videos will occupy lots of space and the storage can get over very quickly. Try to buy it with...\\nREAD MORE',\n",
       " 'The Best Phone for the Money\\n\\nThe iPhone 11 offers superb cameras, a more durable design and excellent battery life for an affordable price.\\n\\nCompelling ultra-wide camera\\nNew Night mode is excellent\\nLong battery life',\n",
       " 'Amazing phone with great cameras and better battery which gives you the best performance. I just love the camera .',\n",
       " 'This is my first iOS phone. I am very happy with this product. Very much satisfied with this. I love this phone.',\n",
       " 'Previously I was using one plus 3t it was a great phone\\nAnd then I decided to upgrade I am stuck between Samsung s10 plus or iPhone 11\\nI have seen the specs and everything were good except the display it’s somewhere between 720-1080 and it’s not even an amoled it’s an LCD display\\nBut I decided to go with iPhone because I have never used an IOS device I have Been an android user from the past 9 years I ordered IPhone 11 (128gb) product red\\nMy experience after using 3 weeks\\n1. The delivery ...\\nREAD MORE',\n",
       " 'Amazing Powerful and Durable Gadget.\\n\\nI’m am very happy with the camera picture quality, Amazing face id unlocked in dark room, Strong battery with perfect screen size as you can carry easily in pocket. This is my third iPhone.\\n\\nI shifted from android Samsung Note series to iPhone because of the strong build quality and peace of mind for next 3-4 years.\\n\\nDon’t think to much just go for it and I suggest you to go for minimum 128gb variant or more 256gb.\\n\\nI’ve attached my puppy pics and no fi...\\nREAD MORE',\n",
       " 'i11 is worthy to buy, too much happy with the product. Thank u flipkart I received the item on time..loved it..',\n",
       " 'So far it’s been an AMAZING experience coming back to iOS after nearly a decade but it’s not as versatile as android though phone is sturdy dropped it accidentally a couple of times and nothing happened fortunately camera is awesome',\n",
       " 'Really satisfied with the Product I received... It’s totally genuine and the packaging was also really good so if ur planning to buy just go for it.',\n",
       " 'iphone 11 is a very good phone to buy only if you can compromise for the display. The display on this is device is pretty good but you can get other options with better displays in this price segment.\\nIf you can survive with an HD+ LCD panel with thicker bezels and a notch up top then this is a very good phone for you.\\nCameras are awesome, battery backup excellent, great performance and a decent premium look. Good job Apple !',\n",
       " 'It’s a must buy who is looking for an upgrade from previous generation of iPhones. If you are using XR then still you can hold on for sometime and upgrade to 2020 model else this phone is a must buy . Camera quality is amazing and wide angle is something to count upon. Performance wise it’s amazing and feels premium while holding in hand. So a big YES for this device. Go for 128 GB variant as the 4K videos will occupy lots of space and the storage can get over very quickly. Try to buy it with...\\nREAD MORE',\n",
       " 'The Best Phone for the Money\\n\\nThe iPhone 11 offers superb cameras, a more durable design and excellent battery life for an affordable price.\\n\\nCompelling ultra-wide camera\\nNew Night mode is excellent\\nLong battery life',\n",
       " 'Amazing phone with great cameras and better battery which gives you the best performance. I just love the camera .',\n",
       " 'This is my first iOS phone. I am very happy with this product. Very much satisfied with this. I love this phone.',\n",
       " 'Previously I was using one plus 3t it was a great phone\\nAnd then I decided to upgrade I am stuck between Samsung s10 plus or iPhone 11\\nI have seen the specs and everything were good except the display it’s somewhere between 720-1080 and it’s not even an amoled it’s an LCD display\\nBut I decided to go with iPhone because I have never used an IOS device I have Been an android user from the past 9 years I ordered IPhone 11 (128gb) product red\\nMy experience after using 3 weeks\\n1. The delivery ...\\nREAD MORE',\n",
       " 'Amazing Powerful and Durable Gadget.\\n\\nI’m am very happy with the camera picture quality, Amazing face id unlocked in dark room, Strong battery with perfect screen size as you can carry easily in pocket. This is my third iPhone.\\n\\nI shifted from android Samsung Note series to iPhone because of the strong build quality and peace of mind for next 3-4 years.\\n\\nDon’t think to much just go for it and I suggest you to go for minimum 128gb variant or more 256gb.\\n\\nI’ve attached my puppy pics and no fi...\\nREAD MORE',\n",
       " 'i11 is worthy to buy, too much happy with the product. Thank u flipkart I received the item on time..loved it..',\n",
       " 'So far it’s been an AMAZING experience coming back to iOS after nearly a decade but it’s not as versatile as android though phone is sturdy dropped it accidentally a couple of times and nothing happened fortunately camera is awesome',\n",
       " 'Really satisfied with the Product I received... It’s totally genuine and the packaging was also really good so if ur planning to buy just go for it.',\n",
       " 'iphone 11 is a very good phone to buy only if you can compromise for the display. The display on this is device is pretty good but you can get other options with better displays in this price segment.\\nIf you can survive with an HD+ LCD panel with thicker bezels and a notch up top then this is a very good phone for you.\\nCameras are awesome, battery backup excellent, great performance and a decent premium look. Good job Apple !',\n",
       " 'It’s a must buy who is looking for an upgrade from previous generation of iPhones. If you are using XR then still you can hold on for sometime and upgrade to 2020 model else this phone is a must buy . Camera quality is amazing and wide angle is something to count upon. Performance wise it’s amazing and feels premium while holding in hand. So a big YES for this device. Go for 128 GB variant as the 4K videos will occupy lots of space and the storage can get over very quickly. Try to buy it with...\\nREAD MORE',\n",
       " 'The Best Phone for the Money\\n\\nThe iPhone 11 offers superb cameras, a more durable design and excellent battery life for an affordable price.\\n\\nCompelling ultra-wide camera\\nNew Night mode is excellent\\nLong battery life',\n",
       " 'Amazing phone with great cameras and better battery which gives you the best performance. I just love the camera .',\n",
       " 'This is my first iOS phone. I am very happy with this product. Very much satisfied with this. I love this phone.',\n",
       " 'Previously I was using one plus 3t it was a great phone\\nAnd then I decided to upgrade I am stuck between Samsung s10 plus or iPhone 11\\nI have seen the specs and everything were good except the display it’s somewhere between 720-1080 and it’s not even an amoled it’s an LCD display\\nBut I decided to go with iPhone because I have never used an IOS device I have Been an android user from the past 9 years I ordered IPhone 11 (128gb) product red\\nMy experience after using 3 weeks\\n1. The delivery ...\\nREAD MORE',\n",
       " 'Amazing Powerful and Durable Gadget.\\n\\nI’m am very happy with the camera picture quality, Amazing face id unlocked in dark room, Strong battery with perfect screen size as you can carry easily in pocket. This is my third iPhone.\\n\\nI shifted from android Samsung Note series to iPhone because of the strong build quality and peace of mind for next 3-4 years.\\n\\nDon’t think to much just go for it and I suggest you to go for minimum 128gb variant or more 256gb.\\n\\nI’ve attached my puppy pics and no fi...\\nREAD MORE',\n",
       " 'i11 is worthy to buy, too much happy with the product. Thank u flipkart I received the item on time..loved it..',\n",
       " 'So far it’s been an AMAZING experience coming back to iOS after nearly a decade but it’s not as versatile as android though phone is sturdy dropped it accidentally a couple of times and nothing happened fortunately camera is awesome',\n",
       " 'Really satisfied with the Product I received... It’s totally genuine and the packaging was also really good so if ur planning to buy just go for it.',\n",
       " 'iphone 11 is a very good phone to buy only if you can compromise for the display. The display on this is device is pretty good but you can get other options with better displays in this price segment.\\nIf you can survive with an HD+ LCD panel with thicker bezels and a notch up top then this is a very good phone for you.\\nCameras are awesome, battery backup excellent, great performance and a decent premium look. Good job Apple !',\n",
       " 'It’s a must buy who is looking for an upgrade from previous generation of iPhones. If you are using XR then still you can hold on for sometime and upgrade to 2020 model else this phone is a must buy . Camera quality is amazing and wide angle is something to count upon. Performance wise it’s amazing and feels premium while holding in hand. So a big YES for this device. Go for 128 GB variant as the 4K videos will occupy lots of space and the storage can get over very quickly. Try to buy it with...\\nREAD MORE',\n",
       " 'The Best Phone for the Money\\n\\nThe iPhone 11 offers superb cameras, a more durable design and excellent battery life for an affordable price.\\n\\nCompelling ultra-wide camera\\nNew Night mode is excellent\\nLong battery life',\n",
       " 'Amazing phone with great cameras and better battery which gives you the best performance. I just love the camera .',\n",
       " 'This is my first iOS phone. I am very happy with this product. Very much satisfied with this. I love this phone.',\n",
       " 'Previously I was using one plus 3t it was a great phone\\nAnd then I decided to upgrade I am stuck between Samsung s10 plus or iPhone 11\\nI have seen the specs and everything were good except the display it’s somewhere between 720-1080 and it’s not even an amoled it’s an LCD display\\nBut I decided to go with iPhone because I have never used an IOS device I have Been an android user from the past 9 years I ordered IPhone 11 (128gb) product red\\nMy experience after using 3 weeks\\n1. The delivery ...\\nREAD MORE',\n",
       " 'Amazing Powerful and Durable Gadget.\\n\\nI’m am very happy with the camera picture quality, Amazing face id unlocked in dark room, Strong battery with perfect screen size as you can carry easily in pocket. This is my third iPhone.\\n\\nI shifted from android Samsung Note series to iPhone because of the strong build quality and peace of mind for next 3-4 years.\\n\\nDon’t think to much just go for it and I suggest you to go for minimum 128gb variant or more 256gb.\\n\\nI’ve attached my puppy pics and no fi...\\nREAD MORE',\n",
       " 'i11 is worthy to buy, too much happy with the product. Thank u flipkart I received the item on time..loved it..',\n",
       " 'So far it’s been an AMAZING experience coming back to iOS after nearly a decade but it’s not as versatile as android though phone is sturdy dropped it accidentally a couple of times and nothing happened fortunately camera is awesome',\n",
       " 'Really satisfied with the Product I received... It’s totally genuine and the packaging was also really good so if ur planning to buy just go for it.',\n",
       " 'iphone 11 is a very good phone to buy only if you can compromise for the display. The display on this is device is pretty good but you can get other options with better displays in this price segment.\\nIf you can survive with an HD+ LCD panel with thicker bezels and a notch up top then this is a very good phone for you.\\nCameras are awesome, battery backup excellent, great performance and a decent premium look. Good job Apple !',\n",
       " 'It’s a must buy who is looking for an upgrade from previous generation of iPhones. If you are using XR then still you can hold on for sometime and upgrade to 2020 model else this phone is a must buy . Camera quality is amazing and wide angle is something to count upon. Performance wise it’s amazing and feels premium while holding in hand. So a big YES for this device. Go for 128 GB variant as the 4K videos will occupy lots of space and the storage can get over very quickly. Try to buy it with...\\nREAD MORE',\n",
       " 'The Best Phone for the Money\\n\\nThe iPhone 11 offers superb cameras, a more durable design and excellent battery life for an affordable price.\\n\\nCompelling ultra-wide camera\\nNew Night mode is excellent\\nLong battery life',\n",
       " 'Amazing phone with great cameras and better battery which gives you the best performance. I just love the camera .',\n",
       " 'This is my first iOS phone. I am very happy with this product. Very much satisfied with this. I love this phone.',\n",
       " 'Previously I was using one plus 3t it was a great phone\\nAnd then I decided to upgrade I am stuck between Samsung s10 plus or iPhone 11\\nI have seen the specs and everything were good except the display it’s somewhere between 720-1080 and it’s not even an amoled it’s an LCD display\\nBut I decided to go with iPhone because I have never used an IOS device I have Been an android user from the past 9 years I ordered IPhone 11 (128gb) product red\\nMy experience after using 3 weeks\\n1. The delivery ...\\nREAD MORE',\n",
       " 'Amazing Powerful and Durable Gadget.\\n\\nI’m am very happy with the camera picture quality, Amazing face id unlocked in dark room, Strong battery with perfect screen size as you can carry easily in pocket. This is my third iPhone.\\n\\nI shifted from android Samsung Note series to iPhone because of the strong build quality and peace of mind for next 3-4 years.\\n\\nDon’t think to much just go for it and I suggest you to go for minimum 128gb variant or more 256gb.\\n\\nI’ve attached my puppy pics and no fi...\\nREAD MORE',\n",
       " 'i11 is worthy to buy, too much happy with the product. Thank u flipkart I received the item on time..loved it..',\n",
       " 'So far it’s been an AMAZING experience coming back to iOS after nearly a decade but it’s not as versatile as android though phone is sturdy dropped it accidentally a couple of times and nothing happened fortunately camera is awesome',\n",
       " 'Really satisfied with the Product I received... It’s totally genuine and the packaging was also really good so if ur planning to buy just go for it.',\n",
       " 'iphone 11 is a very good phone to buy only if you can compromise for the display. The display on this is device is pretty good but you can get other options with better displays in this price segment.\\nIf you can survive with an HD+ LCD panel with thicker bezels and a notch up top then this is a very good phone for you.\\nCameras are awesome, battery backup excellent, great performance and a decent premium look. Good job Apple !',\n",
       " 'It’s a must buy who is looking for an upgrade from previous generation of iPhones. If you are using XR then still you can hold on for sometime and upgrade to 2020 model else this phone is a must buy . Camera quality is amazing and wide angle is something to count upon. Performance wise it’s amazing and feels premium while holding in hand. So a big YES for this device. Go for 128 GB variant as the 4K videos will occupy lots of space and the storage can get over very quickly. Try to buy it with...\\nREAD MORE',\n",
       " 'The Best Phone for the Money\\n\\nThe iPhone 11 offers superb cameras, a more durable design and excellent battery life for an affordable price.\\n\\nCompelling ultra-wide camera\\nNew Night mode is excellent\\nLong battery life',\n",
       " 'Amazing phone with great cameras and better battery which gives you the best performance. I just love the camera .',\n",
       " 'This is my first iOS phone. I am very happy with this product. Very much satisfied with this. I love this phone.',\n",
       " 'Previously I was using one plus 3t it was a great phone\\nAnd then I decided to upgrade I am stuck between Samsung s10 plus or iPhone 11\\nI have seen the specs and everything were good except the display it’s somewhere between 720-1080 and it’s not even an amoled it’s an LCD display\\nBut I decided to go with iPhone because I have never used an IOS device I have Been an android user from the past 9 years I ordered IPhone 11 (128gb) product red\\nMy experience after using 3 weeks\\n1. The delivery ...\\nREAD MORE',\n",
       " 'Amazing Powerful and Durable Gadget.\\n\\nI’m am very happy with the camera picture quality, Amazing face id unlocked in dark room, Strong battery with perfect screen size as you can carry easily in pocket. This is my third iPhone.\\n\\nI shifted from android Samsung Note series to iPhone because of the strong build quality and peace of mind for next 3-4 years.\\n\\nDon’t think to much just go for it and I suggest you to go for minimum 128gb variant or more 256gb.\\n\\nI’ve attached my puppy pics and no fi...\\nREAD MORE',\n",
       " 'i11 is worthy to buy, too much happy with the product. Thank u flipkart I received the item on time..loved it..',\n",
       " 'So far it’s been an AMAZING experience coming back to iOS after nearly a decade but it’s not as versatile as android though phone is sturdy dropped it accidentally a couple of times and nothing happened fortunately camera is awesome',\n",
       " 'Really satisfied with the Product I received... It’s totally genuine and the packaging was also really good so if ur planning to buy just go for it.',\n",
       " 'iphone 11 is a very good phone to buy only if you can compromise for the display. The display on this is device is pretty good but you can get other options with better displays in this price segment.\\nIf you can survive with an HD+ LCD panel with thicker bezels and a notch up top then this is a very good phone for you.\\nCameras are awesome, battery backup excellent, great performance and a decent premium look. Good job Apple !',\n",
       " 'It’s a must buy who is looking for an upgrade from previous generation of iPhones. If you are using XR then still you can hold on for sometime and upgrade to 2020 model else this phone is a must buy . Camera quality is amazing and wide angle is something to count upon. Performance wise it’s amazing and feels premium while holding in hand. So a big YES for this device. Go for 128 GB variant as the 4K videos will occupy lots of space and the storage can get over very quickly. Try to buy it with...\\nREAD MORE']"
      ]
     },
     "execution_count": 403,
     "metadata": {},
     "output_type": "execute_result"
    }
   ],
   "source": [
    "review = []\n",
    "for i in range(0,20):\n",
    "    reviews = driver.find_elements_by_xpath(\"//div[@class= 't-ZTKy']\")\n",
    "    for j in reviews:\n",
    "        review.append(j.text)\n",
    "driver.find_element_by_xpath(\"//div[@class= '_2MImiq _1Qnn1K']\").click()\n",
    "time.sleep(2)\n",
    "    \n",
    "review[:100]"
   ]
  },
  {
   "cell_type": "code",
   "execution_count": 404,
   "metadata": {},
   "outputs": [
    {
     "name": "stdout",
     "output_type": "stream",
     "text": [
      "100\n"
     ]
    }
   ],
   "source": [
    "print(len(review[:100]))"
   ]
  },
  {
   "cell_type": "code",
   "execution_count": 405,
   "metadata": {},
   "outputs": [
    {
     "data": {
      "text/html": [
       "<div>\n",
       "<style scoped>\n",
       "    .dataframe tbody tr th:only-of-type {\n",
       "        vertical-align: middle;\n",
       "    }\n",
       "\n",
       "    .dataframe tbody tr th {\n",
       "        vertical-align: top;\n",
       "    }\n",
       "\n",
       "    .dataframe thead th {\n",
       "        text-align: right;\n",
       "    }\n",
       "</style>\n",
       "<table border=\"1\" class=\"dataframe\">\n",
       "  <thead>\n",
       "    <tr style=\"text-align: right;\">\n",
       "      <th></th>\n",
       "      <th>rating</th>\n",
       "      <th>review</th>\n",
       "      <th>summary</th>\n",
       "    </tr>\n",
       "  </thead>\n",
       "  <tbody>\n",
       "    <tr>\n",
       "      <th>0</th>\n",
       "      <td>5</td>\n",
       "      <td>The Best Phone for the Money\\n\\nThe iPhone 11 ...</td>\n",
       "      <td>The Best Phone for the Money\\n\\nThe iPhone 11 ...</td>\n",
       "    </tr>\n",
       "    <tr>\n",
       "      <th>1</th>\n",
       "      <td>5</td>\n",
       "      <td>Amazing phone with great cameras and better ba...</td>\n",
       "      <td>Amazing phone with great cameras and better ba...</td>\n",
       "    </tr>\n",
       "    <tr>\n",
       "      <th>2</th>\n",
       "      <td>5</td>\n",
       "      <td>This is my first iOS phone. I am very happy wi...</td>\n",
       "      <td>This is my first iOS phone. I am very happy wi...</td>\n",
       "    </tr>\n",
       "    <tr>\n",
       "      <th>3</th>\n",
       "      <td>5</td>\n",
       "      <td>Previously I was using one plus 3t it was a gr...</td>\n",
       "      <td>Previously I was using one plus 3t it was a gr...</td>\n",
       "    </tr>\n",
       "    <tr>\n",
       "      <th>4</th>\n",
       "      <td>5</td>\n",
       "      <td>Amazing Powerful and Durable Gadget.\\n\\nI’m am...</td>\n",
       "      <td>Amazing Powerful and Durable Gadget.\\n\\nI’m am...</td>\n",
       "    </tr>\n",
       "    <tr>\n",
       "      <th>...</th>\n",
       "      <td>...</td>\n",
       "      <td>...</td>\n",
       "      <td>...</td>\n",
       "    </tr>\n",
       "    <tr>\n",
       "      <th>95</th>\n",
       "      <td>5</td>\n",
       "      <td>i11 is worthy to buy, too much happy with the ...</td>\n",
       "      <td>i11 is worthy to buy, too much happy with the ...</td>\n",
       "    </tr>\n",
       "    <tr>\n",
       "      <th>96</th>\n",
       "      <td>4</td>\n",
       "      <td>So far it’s been an AMAZING experience coming ...</td>\n",
       "      <td>So far it’s been an AMAZING experience coming ...</td>\n",
       "    </tr>\n",
       "    <tr>\n",
       "      <th>97</th>\n",
       "      <td>5</td>\n",
       "      <td>Really satisfied with the Product I received.....</td>\n",
       "      <td>Really satisfied with the Product I received.....</td>\n",
       "    </tr>\n",
       "    <tr>\n",
       "      <th>98</th>\n",
       "      <td>5</td>\n",
       "      <td>iphone 11 is a very good phone to buy only if ...</td>\n",
       "      <td>iphone 11 is a very good phone to buy only if ...</td>\n",
       "    </tr>\n",
       "    <tr>\n",
       "      <th>99</th>\n",
       "      <td>5</td>\n",
       "      <td>It’s a must buy who is looking for an upgrade ...</td>\n",
       "      <td>It’s a must buy who is looking for an upgrade ...</td>\n",
       "    </tr>\n",
       "  </tbody>\n",
       "</table>\n",
       "<p>100 rows × 3 columns</p>\n",
       "</div>"
      ],
      "text/plain": [
       "   rating                                             review  \\\n",
       "0       5  The Best Phone for the Money\\n\\nThe iPhone 11 ...   \n",
       "1       5  Amazing phone with great cameras and better ba...   \n",
       "2       5  This is my first iOS phone. I am very happy wi...   \n",
       "3       5  Previously I was using one plus 3t it was a gr...   \n",
       "4       5  Amazing Powerful and Durable Gadget.\\n\\nI’m am...   \n",
       "..    ...                                                ...   \n",
       "95      5  i11 is worthy to buy, too much happy with the ...   \n",
       "96      4  So far it’s been an AMAZING experience coming ...   \n",
       "97      5  Really satisfied with the Product I received.....   \n",
       "98      5  iphone 11 is a very good phone to buy only if ...   \n",
       "99      5  It’s a must buy who is looking for an upgrade ...   \n",
       "\n",
       "                                              summary  \n",
       "0   The Best Phone for the Money\\n\\nThe iPhone 11 ...  \n",
       "1   Amazing phone with great cameras and better ba...  \n",
       "2   This is my first iOS phone. I am very happy wi...  \n",
       "3   Previously I was using one plus 3t it was a gr...  \n",
       "4   Amazing Powerful and Durable Gadget.\\n\\nI’m am...  \n",
       "..                                                ...  \n",
       "95  i11 is worthy to buy, too much happy with the ...  \n",
       "96  So far it’s been an AMAZING experience coming ...  \n",
       "97  Really satisfied with the Product I received.....  \n",
       "98  iphone 11 is a very good phone to buy only if ...  \n",
       "99  It’s a must buy who is looking for an upgrade ...  \n",
       "\n",
       "[100 rows x 3 columns]"
      ]
     },
     "execution_count": 405,
     "metadata": {},
     "output_type": "execute_result"
    }
   ],
   "source": [
    "iphone = pd.DataFrame({'rating':rating[:100],'review':review[:100],'summary':review[:100]})\n",
    "iphone"
   ]
  },
  {
   "cell_type": "markdown",
   "metadata": {},
   "source": [
    "Scrape data for first 100 sneakers you find when you visit flipkart.com and search for “sneakers” in the search field.\n",
    "You have to scrape 4 attributes of each sneaker :\n",
    "1. Brand\n",
    "2. Product Description\n",
    "3. Price\n",
    "4. discount %"
   ]
  },
  {
   "cell_type": "code",
   "execution_count": 406,
   "metadata": {},
   "outputs": [],
   "source": [
    "url = 'https://www.flipkart.com/'\n",
    "driver.get(url)"
   ]
  },
  {
   "cell_type": "code",
   "execution_count": 407,
   "metadata": {},
   "outputs": [
    {
     "data": {
      "text/plain": [
       "<selenium.webdriver.remote.webelement.WebElement (session=\"bd73496c3d668f354566eba232c19b12\", element=\"00e2c0c9-8166-4b26-affe-ab1bc74b889e\")>"
      ]
     },
     "execution_count": 407,
     "metadata": {},
     "output_type": "execute_result"
    }
   ],
   "source": [
    "sear = driver.find_element_by_name('q')\n",
    "sear"
   ]
  },
  {
   "cell_type": "code",
   "execution_count": 408,
   "metadata": {},
   "outputs": [],
   "source": [
    "sear.send_keys(\"sneakers\")"
   ]
  },
  {
   "cell_type": "code",
   "execution_count": 419,
   "metadata": {},
   "outputs": [],
   "source": [
    "search_btn = driver.find_element_by_xpath(\"/html/body/div[1]/div/div[1]/div[1]/div[2]/div[2]/form/div/button\")\n",
    "search_btn.click()"
   ]
  },
  {
   "cell_type": "code",
   "execution_count": 410,
   "metadata": {
    "collapsed": true
   },
   "outputs": [
    {
     "data": {
      "text/plain": [
       "['tigonis',\n",
       " 'Chevit',\n",
       " 'CALCADOS',\n",
       " 'Alfiya',\n",
       " 'Robbie jones',\n",
       " 'Shoes Bank',\n",
       " 'Robbie jones',\n",
       " 'SHURAB',\n",
       " 'Kraasa',\n",
       " 'PEHANOSA',\n",
       " 'World Wear Footwear',\n",
       " 'Extoes',\n",
       " 'Chevit',\n",
       " 'Nilatin',\n",
       " 'Stefano Rads',\n",
       " 'Chevit',\n",
       " 'KULP',\n",
       " 'SCATCHITE',\n",
       " 'KULP',\n",
       " 'French Connection',\n",
       " 'Numenzo',\n",
       " 'World Wear Footwear',\n",
       " 'India hub',\n",
       " 'India hub',\n",
       " 'D-SNEAKERZ',\n",
       " 'Zsyto',\n",
       " 'HOTSTYLE',\n",
       " 'DUCATI',\n",
       " 'Chevit',\n",
       " 'HOTSTYLE',\n",
       " 'BRUTON',\n",
       " 'Echor',\n",
       " 'BRUTON',\n",
       " 'kardam&sons',\n",
       " 'Robbie jones',\n",
       " 'U.S. POLO ASSN.',\n",
       " 'HOTSTYLE',\n",
       " 'bluemaker',\n",
       " 'Arohi',\n",
       " 'JUBENTA',\n",
       " 'tigonis',\n",
       " 'Chevit',\n",
       " 'CALCADOS',\n",
       " 'Alfiya',\n",
       " 'Robbie jones',\n",
       " 'Shoes Bank',\n",
       " 'Robbie jones',\n",
       " 'SHURAB',\n",
       " 'Kraasa',\n",
       " 'PEHANOSA',\n",
       " 'World Wear Footwear',\n",
       " 'Extoes',\n",
       " 'Chevit',\n",
       " 'Nilatin',\n",
       " 'Stefano Rads',\n",
       " 'Chevit',\n",
       " 'KULP',\n",
       " 'SCATCHITE',\n",
       " 'KULP',\n",
       " 'French Connection',\n",
       " 'Numenzo',\n",
       " 'World Wear Footwear',\n",
       " 'India hub',\n",
       " 'India hub',\n",
       " 'D-SNEAKERZ',\n",
       " 'Zsyto',\n",
       " 'HOTSTYLE',\n",
       " 'DUCATI',\n",
       " 'Chevit',\n",
       " 'HOTSTYLE',\n",
       " 'BRUTON',\n",
       " 'Echor',\n",
       " 'BRUTON',\n",
       " 'kardam&sons',\n",
       " 'Robbie jones',\n",
       " 'U.S. POLO ASSN.',\n",
       " 'HOTSTYLE',\n",
       " 'bluemaker',\n",
       " 'Arohi',\n",
       " 'JUBENTA',\n",
       " 'tigonis',\n",
       " 'Chevit',\n",
       " 'CALCADOS',\n",
       " 'Alfiya',\n",
       " 'Robbie jones',\n",
       " 'Shoes Bank',\n",
       " 'Robbie jones',\n",
       " 'SHURAB',\n",
       " 'Kraasa',\n",
       " 'PEHANOSA',\n",
       " 'World Wear Footwear',\n",
       " 'Extoes',\n",
       " 'Chevit',\n",
       " 'Nilatin',\n",
       " 'Stefano Rads',\n",
       " 'Chevit',\n",
       " 'KULP',\n",
       " 'SCATCHITE',\n",
       " 'KULP',\n",
       " 'French Connection']"
      ]
     },
     "execution_count": 410,
     "metadata": {},
     "output_type": "execute_result"
    }
   ],
   "source": [
    "brand = []\n",
    "for i in range(0,20):\n",
    "    brands = driver.find_elements_by_xpath(\"//div[@class= '_2WkVRV']\")\n",
    "    for j in brands:\n",
    "        brand.append(j.text)\n",
    "driver.find_element_by_xpath(\"//div[@class= '_2MImiq']\").click()\n",
    "time.sleep(2)\n",
    "    \n",
    "brand[:100]"
   ]
  },
  {
   "cell_type": "code",
   "execution_count": 411,
   "metadata": {},
   "outputs": [
    {
     "name": "stdout",
     "output_type": "stream",
     "text": [
      "100\n"
     ]
    }
   ],
   "source": [
    "print(len(brand[:100]))"
   ]
  },
  {
   "cell_type": "code",
   "execution_count": 414,
   "metadata": {
    "collapsed": true
   },
   "outputs": [
    {
     "data": {
      "text/plain": [
       "[\"Karda Casual Sneakers and Gym Shoes for Men's and Boys ...\",\n",
       " 'Sneakers For Men',\n",
       " 'Modern Trendy Shoes Combo pack of 4 Sneakers For Men',\n",
       " 'Trendy Sneakers For Men',\n",
       " 'Sneakers For Men',\n",
       " 'Casual Sneakers Green Shoes For Men And Boys Sneakers F...',\n",
       " 'Raptor Sneakers For Men',\n",
       " 'Sneakers For Men  (White) Sneakers For Men',\n",
       " \"Casual , Partywear Sneakers Shoes For Men's And Boys Re...\",\n",
       " 'Trenzo II IDP Sneakers For Men',\n",
       " 'shoe Sneakers For Men',\n",
       " 'Slyde Knit IDP Sneakers For Men',\n",
       " 'Stylish & Unique Design Combo Pack of 02 Shoes for Men ...',\n",
       " 'Sneakers For Men',\n",
       " 'Smart Sneakers For Men',\n",
       " 'casual for men (black 08) Sneakers For Men',\n",
       " 'Easy Vulc 2.0 Sneakers For Men',\n",
       " 'SM-162 Sneakers For Men',\n",
       " \"Bxxy's Mens Faux Leather stylish Casual with strap lace...\",\n",
       " 'Sneakers For Men',\n",
       " 'X-Ray 2 Square PACK Sneakers For Men',\n",
       " 'Smash V2 Loop Idp Sneakers For Men',\n",
       " 'Sneakers For Men',\n",
       " 'Subtle Grace Canvas Shoes For Men',\n",
       " 'Sneakers For Men',\n",
       " 'Combo Pack Of 3 Latest Casual Shoes Sneakers For Men',\n",
       " 'Puma Wired Cage Sneakers For Men',\n",
       " 'Sneakers For Men',\n",
       " 'Simha IDP Sneakers For Men',\n",
       " 'STORM STITCHING Sneakers For Men',\n",
       " \"Karda Casual Sneakers and Gym Shoes for Men's and Boys ...\",\n",
       " 'Sneakers For Men',\n",
       " 'Modern Trendy Shoes Combo pack of 4 Sneakers For Men',\n",
       " 'Trendy Sneakers For Men',\n",
       " 'Sneakers For Men',\n",
       " 'Casual Sneakers Green Shoes For Men And Boys Sneakers F...',\n",
       " 'Raptor Sneakers For Men',\n",
       " 'Sneakers For Men  (White) Sneakers For Men',\n",
       " \"Casual , Partywear Sneakers Shoes For Men's And Boys Re...\",\n",
       " 'Trenzo II IDP Sneakers For Men',\n",
       " 'shoe Sneakers For Men',\n",
       " 'Slyde Knit IDP Sneakers For Men',\n",
       " 'Stylish & Unique Design Combo Pack of 02 Shoes for Men ...',\n",
       " 'Sneakers For Men',\n",
       " 'Smart Sneakers For Men',\n",
       " 'casual for men (black 08) Sneakers For Men',\n",
       " 'Easy Vulc 2.0 Sneakers For Men',\n",
       " 'SM-162 Sneakers For Men',\n",
       " \"Bxxy's Mens Faux Leather stylish Casual with strap lace...\",\n",
       " 'Sneakers For Men',\n",
       " 'X-Ray 2 Square PACK Sneakers For Men',\n",
       " 'Smash V2 Loop Idp Sneakers For Men',\n",
       " 'Sneakers For Men',\n",
       " 'Subtle Grace Canvas Shoes For Men',\n",
       " 'Sneakers For Men',\n",
       " 'Combo Pack Of 3 Latest Casual Shoes Sneakers For Men',\n",
       " 'Puma Wired Cage Sneakers For Men',\n",
       " 'Sneakers For Men',\n",
       " 'Simha IDP Sneakers For Men',\n",
       " 'STORM STITCHING Sneakers For Men',\n",
       " \"Karda Casual Sneakers and Gym Shoes for Men's and Boys ...\",\n",
       " 'Sneakers For Men',\n",
       " 'Modern Trendy Shoes Combo pack of 4 Sneakers For Men',\n",
       " 'Trendy Sneakers For Men',\n",
       " 'Sneakers For Men',\n",
       " 'Casual Sneakers Green Shoes For Men And Boys Sneakers F...',\n",
       " 'Raptor Sneakers For Men',\n",
       " 'Sneakers For Men  (White) Sneakers For Men',\n",
       " \"Casual , Partywear Sneakers Shoes For Men's And Boys Re...\",\n",
       " 'Trenzo II IDP Sneakers For Men',\n",
       " 'shoe Sneakers For Men',\n",
       " 'Slyde Knit IDP Sneakers For Men',\n",
       " 'Stylish & Unique Design Combo Pack of 02 Shoes for Men ...',\n",
       " 'Sneakers For Men',\n",
       " 'Smart Sneakers For Men',\n",
       " 'casual for men (black 08) Sneakers For Men',\n",
       " 'Easy Vulc 2.0 Sneakers For Men',\n",
       " 'SM-162 Sneakers For Men',\n",
       " \"Bxxy's Mens Faux Leather stylish Casual with strap lace...\",\n",
       " 'Sneakers For Men',\n",
       " 'X-Ray 2 Square PACK Sneakers For Men',\n",
       " 'Smash V2 Loop Idp Sneakers For Men',\n",
       " 'Sneakers For Men',\n",
       " 'Subtle Grace Canvas Shoes For Men',\n",
       " 'Sneakers For Men',\n",
       " 'Combo Pack Of 3 Latest Casual Shoes Sneakers For Men',\n",
       " 'Puma Wired Cage Sneakers For Men',\n",
       " 'Sneakers For Men',\n",
       " 'Simha IDP Sneakers For Men',\n",
       " 'STORM STITCHING Sneakers For Men',\n",
       " \"Karda Casual Sneakers and Gym Shoes for Men's and Boys ...\",\n",
       " 'Sneakers For Men',\n",
       " 'Modern Trendy Shoes Combo pack of 4 Sneakers For Men',\n",
       " 'Trendy Sneakers For Men',\n",
       " 'Sneakers For Men',\n",
       " 'Casual Sneakers Green Shoes For Men And Boys Sneakers F...',\n",
       " 'Raptor Sneakers For Men',\n",
       " 'Sneakers For Men  (White) Sneakers For Men',\n",
       " \"Casual , Partywear Sneakers Shoes For Men's And Boys Re...\",\n",
       " 'Trenzo II IDP Sneakers For Men']"
      ]
     },
     "execution_count": 414,
     "metadata": {},
     "output_type": "execute_result"
    }
   ],
   "source": [
    "descr = []\n",
    "for i in range(0,10):\n",
    "    prod_descr = driver.find_elements_by_xpath(\"//a[@class= 'IRpwTa']\")\n",
    "    for j in prod_descr:\n",
    "        descr.append(j.text)\n",
    "driver.find_element_by_xpath(\"//div[@class= '_2MImiq']\").click()\n",
    "time.sleep(2)\n",
    "    \n",
    "descr[:100]"
   ]
  },
  {
   "cell_type": "code",
   "execution_count": 415,
   "metadata": {},
   "outputs": [
    {
     "name": "stdout",
     "output_type": "stream",
     "text": [
      "100\n"
     ]
    }
   ],
   "source": [
    "print(len(descr[:100]))"
   ]
  },
  {
   "cell_type": "code",
   "execution_count": 417,
   "metadata": {
    "collapsed": true
   },
   "outputs": [
    {
     "data": {
      "text/plain": [
       "['₹399',\n",
       " '₹759',\n",
       " '₹748',\n",
       " '₹377',\n",
       " '₹379',\n",
       " '₹349',\n",
       " '₹449',\n",
       " '₹674',\n",
       " '₹416',\n",
       " '₹499',\n",
       " '₹240',\n",
       " '₹488',\n",
       " '₹798',\n",
       " '₹429',\n",
       " '₹242',\n",
       " '₹699',\n",
       " '₹399',\n",
       " '₹398',\n",
       " '₹449',\n",
       " '₹2,078',\n",
       " '₹398',\n",
       " '₹499',\n",
       " '₹449',\n",
       " '₹499',\n",
       " '₹365',\n",
       " '₹358',\n",
       " '₹283',\n",
       " '₹2,399',\n",
       " '₹470',\n",
       " '₹283',\n",
       " '₹474',\n",
       " '₹565',\n",
       " '₹719',\n",
       " '₹379',\n",
       " '₹474',\n",
       " '₹410',\n",
       " '₹199',\n",
       " '₹499',\n",
       " '₹439',\n",
       " '₹349',\n",
       " '₹399',\n",
       " '₹759',\n",
       " '₹748',\n",
       " '₹377',\n",
       " '₹379',\n",
       " '₹349',\n",
       " '₹449',\n",
       " '₹674',\n",
       " '₹416',\n",
       " '₹499',\n",
       " '₹240',\n",
       " '₹488',\n",
       " '₹798',\n",
       " '₹429',\n",
       " '₹242',\n",
       " '₹699',\n",
       " '₹399',\n",
       " '₹398',\n",
       " '₹449',\n",
       " '₹2,078',\n",
       " '₹398',\n",
       " '₹499',\n",
       " '₹449',\n",
       " '₹499',\n",
       " '₹365',\n",
       " '₹358',\n",
       " '₹283',\n",
       " '₹2,399',\n",
       " '₹470',\n",
       " '₹283',\n",
       " '₹474',\n",
       " '₹565',\n",
       " '₹719',\n",
       " '₹379',\n",
       " '₹474',\n",
       " '₹410',\n",
       " '₹199',\n",
       " '₹499',\n",
       " '₹439',\n",
       " '₹349',\n",
       " '₹399',\n",
       " '₹759',\n",
       " '₹748',\n",
       " '₹377',\n",
       " '₹379',\n",
       " '₹349',\n",
       " '₹449',\n",
       " '₹674',\n",
       " '₹416',\n",
       " '₹499',\n",
       " '₹240',\n",
       " '₹488',\n",
       " '₹798',\n",
       " '₹429',\n",
       " '₹242',\n",
       " '₹699',\n",
       " '₹399',\n",
       " '₹398',\n",
       " '₹449',\n",
       " '₹2,078']"
      ]
     },
     "execution_count": 417,
     "metadata": {},
     "output_type": "execute_result"
    }
   ],
   "source": [
    "price = []\n",
    "for i in range(0,10):\n",
    "    price_desc = driver.find_elements_by_xpath(\"//div[@class= '_30jeq3']\")\n",
    "    for j in price_desc:\n",
    "        price.append(j.text)\n",
    "driver.find_element_by_xpath(\"//div[@class= '_2MImiq']\").click()\n",
    "time.sleep(2)\n",
    "    \n",
    "price[:100]"
   ]
  },
  {
   "cell_type": "code",
   "execution_count": 418,
   "metadata": {},
   "outputs": [
    {
     "name": "stdout",
     "output_type": "stream",
     "text": [
      "100\n"
     ]
    }
   ],
   "source": [
    "print(len(price[:100]))"
   ]
  },
  {
   "cell_type": "code",
   "execution_count": 420,
   "metadata": {
    "collapsed": true
   },
   "outputs": [
    {
     "data": {
      "text/plain": [
       "['77% off',\n",
       " '69% off',\n",
       " '62% off',\n",
       " '62% off',\n",
       " '62% off',\n",
       " '65% off',\n",
       " '55% off',\n",
       " '5% off',\n",
       " '58% off',\n",
       " '50% off',\n",
       " '51% off',\n",
       " '51% off',\n",
       " '68% off',\n",
       " '66% off',\n",
       " '65% off',\n",
       " '65% off',\n",
       " '60% off',\n",
       " '60% off',\n",
       " '55% off',\n",
       " '42% off',\n",
       " '60% off',\n",
       " '81% off',\n",
       " '85% off',\n",
       " '40% off',\n",
       " '44% off',\n",
       " '64% off',\n",
       " '43% off',\n",
       " '43% off',\n",
       " '68% off',\n",
       " '43% off',\n",
       " '88% off',\n",
       " '86% off',\n",
       " '82% off',\n",
       " '81% off',\n",
       " '52% off',\n",
       " '73% off',\n",
       " '60% off',\n",
       " '50% off',\n",
       " '56% off',\n",
       " '82% off',\n",
       " '77% off',\n",
       " '69% off',\n",
       " '62% off',\n",
       " '62% off',\n",
       " '62% off',\n",
       " '65% off',\n",
       " '55% off',\n",
       " '5% off',\n",
       " '58% off',\n",
       " '50% off',\n",
       " '51% off',\n",
       " '51% off',\n",
       " '68% off',\n",
       " '66% off',\n",
       " '65% off',\n",
       " '65% off',\n",
       " '60% off',\n",
       " '60% off',\n",
       " '55% off',\n",
       " '42% off',\n",
       " '60% off',\n",
       " '81% off',\n",
       " '85% off',\n",
       " '40% off',\n",
       " '44% off',\n",
       " '64% off',\n",
       " '43% off',\n",
       " '43% off',\n",
       " '68% off',\n",
       " '43% off',\n",
       " '88% off',\n",
       " '86% off',\n",
       " '82% off',\n",
       " '81% off',\n",
       " '52% off',\n",
       " '73% off',\n",
       " '60% off',\n",
       " '50% off',\n",
       " '56% off',\n",
       " '82% off',\n",
       " '77% off',\n",
       " '69% off',\n",
       " '62% off',\n",
       " '62% off',\n",
       " '62% off',\n",
       " '65% off',\n",
       " '55% off',\n",
       " '5% off',\n",
       " '58% off',\n",
       " '50% off',\n",
       " '51% off',\n",
       " '51% off',\n",
       " '68% off',\n",
       " '66% off',\n",
       " '65% off',\n",
       " '65% off',\n",
       " '60% off',\n",
       " '60% off',\n",
       " '55% off',\n",
       " '42% off']"
      ]
     },
     "execution_count": 420,
     "metadata": {},
     "output_type": "execute_result"
    }
   ],
   "source": [
    "dis = []\n",
    "for i in range(0,10):\n",
    "    discount = driver.find_elements_by_xpath(\"//div[@class= '_3Ay6Sb']/span\")\n",
    "    for j in discount:\n",
    "        dis.append(j.text)\n",
    "driver.find_element_by_xpath(\"//div[@class= '_2MImiq']\").click()\n",
    "time.sleep(2)\n",
    "    \n",
    "dis[:100]"
   ]
  },
  {
   "cell_type": "code",
   "execution_count": 421,
   "metadata": {},
   "outputs": [
    {
     "name": "stdout",
     "output_type": "stream",
     "text": [
      "100\n"
     ]
    }
   ],
   "source": [
    "print(len(dis[:100]))"
   ]
  },
  {
   "cell_type": "code",
   "execution_count": 422,
   "metadata": {},
   "outputs": [
    {
     "data": {
      "text/html": [
       "<div>\n",
       "<style scoped>\n",
       "    .dataframe tbody tr th:only-of-type {\n",
       "        vertical-align: middle;\n",
       "    }\n",
       "\n",
       "    .dataframe tbody tr th {\n",
       "        vertical-align: top;\n",
       "    }\n",
       "\n",
       "    .dataframe thead th {\n",
       "        text-align: right;\n",
       "    }\n",
       "</style>\n",
       "<table border=\"1\" class=\"dataframe\">\n",
       "  <thead>\n",
       "    <tr style=\"text-align: right;\">\n",
       "      <th></th>\n",
       "      <th>brand</th>\n",
       "      <th>description</th>\n",
       "      <th>prices</th>\n",
       "      <th>discount</th>\n",
       "    </tr>\n",
       "  </thead>\n",
       "  <tbody>\n",
       "    <tr>\n",
       "      <th>0</th>\n",
       "      <td>tigonis</td>\n",
       "      <td>Karda Casual Sneakers and Gym Shoes for Men's ...</td>\n",
       "      <td>₹399</td>\n",
       "      <td>77% off</td>\n",
       "    </tr>\n",
       "    <tr>\n",
       "      <th>1</th>\n",
       "      <td>Chevit</td>\n",
       "      <td>Sneakers For Men</td>\n",
       "      <td>₹759</td>\n",
       "      <td>69% off</td>\n",
       "    </tr>\n",
       "    <tr>\n",
       "      <th>2</th>\n",
       "      <td>CALCADOS</td>\n",
       "      <td>Modern Trendy Shoes Combo pack of 4 Sneakers F...</td>\n",
       "      <td>₹748</td>\n",
       "      <td>62% off</td>\n",
       "    </tr>\n",
       "    <tr>\n",
       "      <th>3</th>\n",
       "      <td>Alfiya</td>\n",
       "      <td>Trendy Sneakers For Men</td>\n",
       "      <td>₹377</td>\n",
       "      <td>62% off</td>\n",
       "    </tr>\n",
       "    <tr>\n",
       "      <th>4</th>\n",
       "      <td>Robbie jones</td>\n",
       "      <td>Sneakers For Men</td>\n",
       "      <td>₹379</td>\n",
       "      <td>62% off</td>\n",
       "    </tr>\n",
       "    <tr>\n",
       "      <th>...</th>\n",
       "      <td>...</td>\n",
       "      <td>...</td>\n",
       "      <td>...</td>\n",
       "      <td>...</td>\n",
       "    </tr>\n",
       "    <tr>\n",
       "      <th>95</th>\n",
       "      <td>Chevit</td>\n",
       "      <td>Casual Sneakers Green Shoes For Men And Boys S...</td>\n",
       "      <td>₹699</td>\n",
       "      <td>65% off</td>\n",
       "    </tr>\n",
       "    <tr>\n",
       "      <th>96</th>\n",
       "      <td>KULP</td>\n",
       "      <td>Raptor Sneakers For Men</td>\n",
       "      <td>₹399</td>\n",
       "      <td>60% off</td>\n",
       "    </tr>\n",
       "    <tr>\n",
       "      <th>97</th>\n",
       "      <td>SCATCHITE</td>\n",
       "      <td>Sneakers For Men  (White) Sneakers For Men</td>\n",
       "      <td>₹398</td>\n",
       "      <td>60% off</td>\n",
       "    </tr>\n",
       "    <tr>\n",
       "      <th>98</th>\n",
       "      <td>KULP</td>\n",
       "      <td>Casual , Partywear Sneakers Shoes For Men's An...</td>\n",
       "      <td>₹449</td>\n",
       "      <td>55% off</td>\n",
       "    </tr>\n",
       "    <tr>\n",
       "      <th>99</th>\n",
       "      <td>French Connection</td>\n",
       "      <td>Trenzo II IDP Sneakers For Men</td>\n",
       "      <td>₹2,078</td>\n",
       "      <td>42% off</td>\n",
       "    </tr>\n",
       "  </tbody>\n",
       "</table>\n",
       "<p>100 rows × 4 columns</p>\n",
       "</div>"
      ],
      "text/plain": [
       "                brand                                        description  \\\n",
       "0             tigonis  Karda Casual Sneakers and Gym Shoes for Men's ...   \n",
       "1              Chevit                                   Sneakers For Men   \n",
       "2            CALCADOS  Modern Trendy Shoes Combo pack of 4 Sneakers F...   \n",
       "3              Alfiya                            Trendy Sneakers For Men   \n",
       "4        Robbie jones                                   Sneakers For Men   \n",
       "..                ...                                                ...   \n",
       "95             Chevit  Casual Sneakers Green Shoes For Men And Boys S...   \n",
       "96               KULP                            Raptor Sneakers For Men   \n",
       "97          SCATCHITE         Sneakers For Men  (White) Sneakers For Men   \n",
       "98               KULP  Casual , Partywear Sneakers Shoes For Men's An...   \n",
       "99  French Connection                     Trenzo II IDP Sneakers For Men   \n",
       "\n",
       "    prices discount  \n",
       "0     ₹399  77% off  \n",
       "1     ₹759  69% off  \n",
       "2     ₹748  62% off  \n",
       "3     ₹377  62% off  \n",
       "4     ₹379  62% off  \n",
       "..     ...      ...  \n",
       "95    ₹699  65% off  \n",
       "96    ₹399  60% off  \n",
       "97    ₹398  60% off  \n",
       "98    ₹449  55% off  \n",
       "99  ₹2,078  42% off  \n",
       "\n",
       "[100 rows x 4 columns]"
      ]
     },
     "execution_count": 422,
     "metadata": {},
     "output_type": "execute_result"
    }
   ],
   "source": [
    "sneaker = pd.DataFrame({'brand':brand[:100],'description':descr[:100],'prices':price[:100],'discount':dis[:100]})\n",
    "sneaker"
   ]
  },
  {
   "cell_type": "markdown",
   "metadata": {},
   "source": [
    "scrape First 100 shoes data you get. The data should include “Brand” of the shoes , Short Shoe description, price of the shoe."
   ]
  },
  {
   "cell_type": "code",
   "execution_count": 429,
   "metadata": {},
   "outputs": [],
   "source": [
    "url = 'https://www.myntra.com/shoes'\n",
    "driver.get(url)"
   ]
  },
  {
   "cell_type": "code",
   "execution_count": 431,
   "metadata": {},
   "outputs": [],
   "source": [
    "pric = driver.find_element_by_xpath(\"/html/body/div[2]/div/div[1]/main/div[3]/div[1]/section/div/div[5]/ul/li[2]\").click()"
   ]
  },
  {
   "cell_type": "code",
   "execution_count": 432,
   "metadata": {},
   "outputs": [],
   "source": [
    "color = driver.find_element_by_xpath(\"/html/body/div[2]/div/div[1]/main/div[3]/div[1]/section/div/div[6]/ul/li[1]\").click()"
   ]
  },
  {
   "cell_type": "code",
   "execution_count": 439,
   "metadata": {
    "collapsed": true
   },
   "outputs": [
    {
     "data": {
      "text/plain": [
       "['Nike',\n",
       " 'Nike',\n",
       " 'Nike',\n",
       " 'Nike',\n",
       " 'Skechers',\n",
       " 'Nike',\n",
       " 'Nike',\n",
       " 'Nike',\n",
       " 'Nike',\n",
       " 'Nike',\n",
       " 'Puma',\n",
       " 'Nike',\n",
       " 'Nike',\n",
       " 'Nike',\n",
       " 'Nike',\n",
       " 'Nike',\n",
       " 'Nike',\n",
       " 'Nike',\n",
       " 'Nike',\n",
       " 'PUMA Motorsport',\n",
       " 'Nike',\n",
       " 'ASICS',\n",
       " 'ADIDAS',\n",
       " 'FILA',\n",
       " 'Puma',\n",
       " 'ADIDAS',\n",
       " 'ASICS',\n",
       " 'Hush Puppies',\n",
       " 'Tommy Hilfiger',\n",
       " 'UNDER ARMOUR',\n",
       " 'Puma',\n",
       " 'Puma',\n",
       " 'Nike',\n",
       " 'Nike',\n",
       " 'Puma',\n",
       " 'Puma',\n",
       " 'ADIDAS Originals',\n",
       " 'FORCLAZ By Decathlon',\n",
       " 'Hush Puppies',\n",
       " 'Puma',\n",
       " 'Hush Puppies',\n",
       " 'Cole Haan',\n",
       " 'Nike',\n",
       " 'Puma',\n",
       " 'ADIDAS',\n",
       " 'FILA',\n",
       " 'UNDER ARMOUR',\n",
       " 'UNDER ARMOUR',\n",
       " 'UNDER ARMOUR',\n",
       " 'Nike',\n",
       " 'Nike',\n",
       " 'Nike',\n",
       " 'Nike',\n",
       " 'Nike',\n",
       " 'Skechers',\n",
       " 'Nike',\n",
       " 'Nike',\n",
       " 'Nike',\n",
       " 'Nike',\n",
       " 'Nike',\n",
       " 'Puma',\n",
       " 'Nike',\n",
       " 'Nike',\n",
       " 'Nike',\n",
       " 'Nike',\n",
       " 'Nike',\n",
       " 'Nike',\n",
       " 'Nike',\n",
       " 'Nike',\n",
       " 'PUMA Motorsport',\n",
       " 'Nike',\n",
       " 'ASICS',\n",
       " 'ADIDAS',\n",
       " 'FILA',\n",
       " 'Puma',\n",
       " 'ADIDAS',\n",
       " 'ASICS',\n",
       " 'Hush Puppies',\n",
       " 'Tommy Hilfiger',\n",
       " 'UNDER ARMOUR',\n",
       " 'Puma',\n",
       " 'Puma',\n",
       " 'Nike',\n",
       " 'Nike',\n",
       " 'Puma',\n",
       " 'Puma',\n",
       " 'ADIDAS Originals',\n",
       " 'FORCLAZ By Decathlon',\n",
       " 'Hush Puppies',\n",
       " 'Puma',\n",
       " 'Hush Puppies',\n",
       " 'Cole Haan',\n",
       " 'Nike',\n",
       " 'Puma',\n",
       " 'ADIDAS',\n",
       " 'FILA',\n",
       " 'UNDER ARMOUR',\n",
       " 'UNDER ARMOUR',\n",
       " 'UNDER ARMOUR',\n",
       " 'Nike']"
      ]
     },
     "execution_count": 439,
     "metadata": {},
     "output_type": "execute_result"
    }
   ],
   "source": [
    "brand = []\n",
    "for i in range(0,15):\n",
    "    brands = driver.find_elements_by_xpath(\"//div[@class= 'product-productMetaInfo']/h3\")\n",
    "    for j in brands:\n",
    "        brand.append(j.text)\n",
    "driver.find_element_by_xpath(\"//div[@class= 'results-showMoreContainer']\").click()\n",
    "time.sleep(2)\n",
    "    \n",
    "brand[:100]"
   ]
  },
  {
   "cell_type": "code",
   "execution_count": 440,
   "metadata": {},
   "outputs": [
    {
     "name": "stdout",
     "output_type": "stream",
     "text": [
      "100\n"
     ]
    }
   ],
   "source": [
    "print(len(brand[:100]))"
   ]
  },
  {
   "cell_type": "code",
   "execution_count": 445,
   "metadata": {
    "collapsed": true
   },
   "outputs": [
    {
     "data": {
      "text/plain": [
       "['Men AIR ZOOM PEGASUS 38 Run',\n",
       " '',\n",
       " 'AIR ZOOM PEGASUS Running Shoes',\n",
       " '',\n",
       " 'Women REACT Running Shoes',\n",
       " '',\n",
       " 'Men AIR ZOOM Running Shoes',\n",
       " '',\n",
       " 'Men GO RUN 7+ Running Shoes',\n",
       " '',\n",
       " 'Men RENEW RUN 2 Running Shoes',\n",
       " '',\n",
       " 'Men Zoom Winflo 8 Running',\n",
       " '',\n",
       " 'Women FREE RN 5.0 Shoes',\n",
       " '',\n",
       " 'Men SPEEDREP Training Shoes',\n",
       " '',\n",
       " 'Men JORDAN DELTA Basketball',\n",
       " '',\n",
       " 'Men Running Shoes',\n",
       " '',\n",
       " 'Men JORDAN WHY NOT Basketball',\n",
       " '',\n",
       " 'Women PEGASUS 37 Running Shoes',\n",
       " '',\n",
       " 'Men ZOOM SPAN 3 Running Shoes',\n",
       " '',\n",
       " 'Men KD13 EP Basketball Shoes',\n",
       " '',\n",
       " 'Unisex PHANTOM Football Shoes',\n",
       " '',\n",
       " 'Women ZOOM SPAN 3 Running',\n",
       " '',\n",
       " 'Women ZOOM FLY 3 Running Shoes',\n",
       " '',\n",
       " 'Men ZOOM FREAK 2 Basketball',\n",
       " '',\n",
       " 'Unisex Mercedes Running Shoes',\n",
       " '',\n",
       " 'Men REACT MILER Running Shoes',\n",
       " '',\n",
       " 'Women Running Shoes',\n",
       " '',\n",
       " 'Men Response SR Running Shoes',\n",
       " '',\n",
       " 'Men Leather Sneakers',\n",
       " '',\n",
       " 'Men Velocity Nitro Running',\n",
       " '',\n",
       " 'Men SOLAR DRIVE 19 M Running',\n",
       " '',\n",
       " 'Women Running Shoes',\n",
       " '',\n",
       " 'Men Colourblocked Driving Shoes',\n",
       " '',\n",
       " 'Men Solid Leather Sneakers',\n",
       " '',\n",
       " 'Women HOVR Rise 2 Training',\n",
       " '',\n",
       " 'Unisex RS-Fast Nano Sneakers',\n",
       " '',\n",
       " 'Women Velocity Nitro Running',\n",
       " '',\n",
       " 'Men AIR MAX EXCEE Sneakers',\n",
       " '',\n",
       " 'Men JORDAN DELTA Sneakers',\n",
       " '',\n",
       " 'Women Provoke XT Training',\n",
       " '',\n",
       " 'Unisex Mirage Tech Sneakers',\n",
       " '',\n",
       " 'Men ZX 2K Boost Solid Sneakers',\n",
       " '',\n",
       " 'TREKKING 100 Boots',\n",
       " '',\n",
       " 'Men Solid Leather Formal Slip-Ons',\n",
       " '',\n",
       " 'Men UltraRide Running Shoes',\n",
       " '',\n",
       " 'Men Leather Slip-On Sneakers',\n",
       " '',\n",
       " 'Leather Sneakers',\n",
       " '',\n",
       " 'Men CHALLENGER OG Sneakers',\n",
       " '',\n",
       " 'Unisex RS-X Pop Sneakers',\n",
       " '',\n",
       " 'Women SUPERNOVA Running Shoes',\n",
       " '',\n",
       " 'Women Sneakers Casual Shoes',\n",
       " '',\n",
       " 'Unisex SC 3ZER0 IV Basketball',\n",
       " '',\n",
       " 'Women TriBase Reign 2 Training',\n",
       " '',\n",
       " 'Charged Impulse Running Shoes',\n",
       " '',\n",
       " 'Women Air Max Siren Sneakers',\n",
       " '']"
      ]
     },
     "execution_count": 445,
     "metadata": {},
     "output_type": "execute_result"
    }
   ],
   "source": [
    "descr = []\n",
    "for i in range(0,15):\n",
    "    shoe_descr = driver.find_elements_by_xpath(\"//div[@class= 'product-productMetaInfo']/h4\")\n",
    "    for j in shoe_descr:\n",
    "        descr.append(j.text)\n",
    "driver.find_element_by_xpath(\"//div[@class= 'results-showMoreContainer']\").click()\n",
    "time.sleep(2)\n",
    "    \n",
    "descr[:100]"
   ]
  },
  {
   "cell_type": "code",
   "execution_count": 446,
   "metadata": {},
   "outputs": [
    {
     "name": "stdout",
     "output_type": "stream",
     "text": [
      "100\n"
     ]
    }
   ],
   "source": [
    "print(len(descr[:100]))"
   ]
  },
  {
   "cell_type": "code",
   "execution_count": 447,
   "metadata": {
    "collapsed": true
   },
   "outputs": [
    {
     "data": {
      "text/plain": [
       "['Rs. 9995',\n",
       " 'Rs. 11495',\n",
       " 'Rs. 10795Rs. 11995',\n",
       " '(10% OFF)',\n",
       " 'Rs. 10295',\n",
       " 'Rs. 9999',\n",
       " 'Rs. 7195',\n",
       " 'Rs. 8295',\n",
       " 'Rs. 7195Rs. 7995',\n",
       " '(10% OFF)',\n",
       " 'Rs. 7195',\n",
       " 'Rs. 12495',\n",
       " 'Rs. 7799Rs. 12999',\n",
       " '(40% OFF)',\n",
       " 'Rs. 11495',\n",
       " 'Rs. 8995Rs. 9995',\n",
       " '(10% OFF)',\n",
       " 'Rs. 7195',\n",
       " 'Rs. 12995',\n",
       " 'Rs. 7195Rs. 7995',\n",
       " '(10% OFF)',\n",
       " 'Rs. 7195',\n",
       " 'Rs. 12595Rs. 13995',\n",
       " '(10% OFF)',\n",
       " 'Rs. 10295',\n",
       " 'Rs. 7999',\n",
       " 'Rs. 10995',\n",
       " 'Rs. 6999Rs. 9999',\n",
       " '(30% OFF)',\n",
       " 'Rs. 7219Rs. 7599',\n",
       " '(5% OFF)',\n",
       " 'Rs. 9859Rs. 11599',\n",
       " '(15% OFF)',\n",
       " 'Rs. 10999',\n",
       " 'Rs. 7799Rs. 11999',\n",
       " '(35% OFF)',\n",
       " 'Rs. 9799Rs. 13999',\n",
       " '(30% OFF)',\n",
       " 'Rs. 8999',\n",
       " 'Rs. 6799Rs. 7999',\n",
       " '(15% OFF)',\n",
       " 'Rs. 6999Rs. 9999',\n",
       " '(30% OFF)',\n",
       " 'Rs. 8999Rs. 9999',\n",
       " '(10% OFF)',\n",
       " 'Rs. 8249Rs. 10999',\n",
       " '(25% OFF)',\n",
       " 'Rs. 7195Rs. 7995',\n",
       " '(10% OFF)',\n",
       " 'Rs. 10995',\n",
       " 'Rs. 6649Rs. 6999',\n",
       " '(5% OFF)',\n",
       " 'Rs. 7199Rs. 7999',\n",
       " '(10% OFF)',\n",
       " 'Rs. 7699Rs. 13999',\n",
       " '(45% OFF)',\n",
       " 'Rs. 6999',\n",
       " 'Rs. 9999',\n",
       " 'Rs. 8549Rs. 8999',\n",
       " '(5% OFF)',\n",
       " 'Rs. 9999',\n",
       " 'Rs. 10999',\n",
       " 'Rs. 7375Rs. 8195',\n",
       " '(10% OFF)',\n",
       " 'Rs. 9499Rs. 9999',\n",
       " '(5% OFF)',\n",
       " 'Rs. 9499Rs. 9999',\n",
       " '(5% OFF)',\n",
       " 'Rs. 6799Rs. 7999',\n",
       " '(15% OFF)',\n",
       " 'Rs. 8999',\n",
       " 'Rs. 8399Rs. 11999',\n",
       " '(30% OFF)',\n",
       " 'Rs. 7999',\n",
       " 'Rs. 7375Rs. 8195',\n",
       " '(10% OFF)',\n",
       " 'Rs. 9995',\n",
       " 'Rs. 11495',\n",
       " 'Rs. 10795Rs. 11995',\n",
       " '(10% OFF)',\n",
       " 'Rs. 10295',\n",
       " 'Rs. 9999',\n",
       " 'Rs. 7195',\n",
       " 'Rs. 8295',\n",
       " 'Rs. 7195Rs. 7995',\n",
       " '(10% OFF)',\n",
       " 'Rs. 7195',\n",
       " 'Rs. 12495',\n",
       " 'Rs. 7799Rs. 12999',\n",
       " '(40% OFF)',\n",
       " 'Rs. 11495',\n",
       " 'Rs. 8995Rs. 9995',\n",
       " '(10% OFF)',\n",
       " 'Rs. 7195',\n",
       " 'Rs. 12995',\n",
       " 'Rs. 7195Rs. 7995',\n",
       " '(10% OFF)',\n",
       " 'Rs. 7195',\n",
       " 'Rs. 12595Rs. 13995',\n",
       " '(10% OFF)']"
      ]
     },
     "execution_count": 447,
     "metadata": {},
     "output_type": "execute_result"
    }
   ],
   "source": [
    "price = []\n",
    "for i in range(0,15):\n",
    "    price_desc = driver.find_elements_by_xpath(\"//div[@class= 'product-price']/span\")\n",
    "    for j in price_desc:\n",
    "        price.append(j.text)\n",
    "driver.find_element_by_xpath(\"//div[@class= 'results-showMoreContainer']\").click()\n",
    "time.sleep(2)\n",
    "    \n",
    "price[:100]"
   ]
  },
  {
   "cell_type": "code",
   "execution_count": 448,
   "metadata": {},
   "outputs": [
    {
     "name": "stdout",
     "output_type": "stream",
     "text": [
      "100\n"
     ]
    }
   ],
   "source": [
    "print(len(price[:100]))"
   ]
  },
  {
   "cell_type": "code",
   "execution_count": 449,
   "metadata": {},
   "outputs": [
    {
     "data": {
      "text/html": [
       "<div>\n",
       "<style scoped>\n",
       "    .dataframe tbody tr th:only-of-type {\n",
       "        vertical-align: middle;\n",
       "    }\n",
       "\n",
       "    .dataframe tbody tr th {\n",
       "        vertical-align: top;\n",
       "    }\n",
       "\n",
       "    .dataframe thead th {\n",
       "        text-align: right;\n",
       "    }\n",
       "</style>\n",
       "<table border=\"1\" class=\"dataframe\">\n",
       "  <thead>\n",
       "    <tr style=\"text-align: right;\">\n",
       "      <th></th>\n",
       "      <th>brand</th>\n",
       "      <th>description</th>\n",
       "      <th>prices</th>\n",
       "    </tr>\n",
       "  </thead>\n",
       "  <tbody>\n",
       "    <tr>\n",
       "      <th>0</th>\n",
       "      <td>Nike</td>\n",
       "      <td>Men AIR ZOOM PEGASUS 38 Run</td>\n",
       "      <td>Rs. 9995</td>\n",
       "    </tr>\n",
       "    <tr>\n",
       "      <th>1</th>\n",
       "      <td>Nike</td>\n",
       "      <td></td>\n",
       "      <td>Rs. 11495</td>\n",
       "    </tr>\n",
       "    <tr>\n",
       "      <th>2</th>\n",
       "      <td>Nike</td>\n",
       "      <td>AIR ZOOM PEGASUS Running Shoes</td>\n",
       "      <td>Rs. 10795Rs. 11995</td>\n",
       "    </tr>\n",
       "    <tr>\n",
       "      <th>3</th>\n",
       "      <td>Nike</td>\n",
       "      <td></td>\n",
       "      <td>(10% OFF)</td>\n",
       "    </tr>\n",
       "    <tr>\n",
       "      <th>4</th>\n",
       "      <td>Skechers</td>\n",
       "      <td>Women REACT Running Shoes</td>\n",
       "      <td>Rs. 10295</td>\n",
       "    </tr>\n",
       "    <tr>\n",
       "      <th>...</th>\n",
       "      <td>...</td>\n",
       "      <td>...</td>\n",
       "      <td>...</td>\n",
       "    </tr>\n",
       "    <tr>\n",
       "      <th>95</th>\n",
       "      <td>FILA</td>\n",
       "      <td></td>\n",
       "      <td>Rs. 7195Rs. 7995</td>\n",
       "    </tr>\n",
       "    <tr>\n",
       "      <th>96</th>\n",
       "      <td>UNDER ARMOUR</td>\n",
       "      <td>Charged Impulse Running Shoes</td>\n",
       "      <td>(10% OFF)</td>\n",
       "    </tr>\n",
       "    <tr>\n",
       "      <th>97</th>\n",
       "      <td>UNDER ARMOUR</td>\n",
       "      <td></td>\n",
       "      <td>Rs. 7195</td>\n",
       "    </tr>\n",
       "    <tr>\n",
       "      <th>98</th>\n",
       "      <td>UNDER ARMOUR</td>\n",
       "      <td>Women Air Max Siren Sneakers</td>\n",
       "      <td>Rs. 12595Rs. 13995</td>\n",
       "    </tr>\n",
       "    <tr>\n",
       "      <th>99</th>\n",
       "      <td>Nike</td>\n",
       "      <td></td>\n",
       "      <td>(10% OFF)</td>\n",
       "    </tr>\n",
       "  </tbody>\n",
       "</table>\n",
       "<p>100 rows × 3 columns</p>\n",
       "</div>"
      ],
      "text/plain": [
       "           brand                     description              prices\n",
       "0           Nike     Men AIR ZOOM PEGASUS 38 Run            Rs. 9995\n",
       "1           Nike                                           Rs. 11495\n",
       "2           Nike  AIR ZOOM PEGASUS Running Shoes  Rs. 10795Rs. 11995\n",
       "3           Nike                                           (10% OFF)\n",
       "4       Skechers       Women REACT Running Shoes           Rs. 10295\n",
       "..           ...                             ...                 ...\n",
       "95          FILA                                    Rs. 7195Rs. 7995\n",
       "96  UNDER ARMOUR   Charged Impulse Running Shoes           (10% OFF)\n",
       "97  UNDER ARMOUR                                            Rs. 7195\n",
       "98  UNDER ARMOUR    Women Air Max Siren Sneakers  Rs. 12595Rs. 13995\n",
       "99          Nike                                           (10% OFF)\n",
       "\n",
       "[100 rows x 3 columns]"
      ]
     },
     "execution_count": 449,
     "metadata": {},
     "output_type": "execute_result"
    }
   ],
   "source": [
    "myntra = pd.DataFrame({'brand':brand[:100],'description':descr[:100],'prices':price[:100]})\n",
    "myntra"
   ]
  },
  {
   "cell_type": "markdown",
   "metadata": {},
   "source": [
    "You have to scrape 3 attributes for each laptop:\n",
    "1. title\n",
    "2. Ratings\n",
    "3. Price"
   ]
  },
  {
   "cell_type": "code",
   "execution_count": 606,
   "metadata": {},
   "outputs": [],
   "source": [
    "url = 'https://www.amazon.in/'\n",
    "driver.get(url)"
   ]
  },
  {
   "cell_type": "code",
   "execution_count": 607,
   "metadata": {},
   "outputs": [
    {
     "data": {
      "text/plain": [
       "<selenium.webdriver.remote.webelement.WebElement (session=\"c7327889933ab3908d16afb648c9c994\", element=\"4ccc7f91-a41c-499c-8e82-ca1c3cc8be69\")>"
      ]
     },
     "execution_count": 607,
     "metadata": {},
     "output_type": "execute_result"
    }
   ],
   "source": [
    "sear = driver.find_element_by_id('twotabsearchtextbox')\n",
    "sear"
   ]
  },
  {
   "cell_type": "code",
   "execution_count": 608,
   "metadata": {},
   "outputs": [],
   "source": [
    "sear.send_keys(\"laptop\")"
   ]
  },
  {
   "cell_type": "code",
   "execution_count": 609,
   "metadata": {},
   "outputs": [],
   "source": [
    "search_btn = driver.find_element_by_xpath(\"/html/body/div[1]/header/div/div[1]/div[2]/div/form/div[3]/div\")\n",
    "search_btn.click()"
   ]
  },
  {
   "cell_type": "code",
   "execution_count": 610,
   "metadata": {},
   "outputs": [],
   "source": [
    "cpu1 = driver.find_element_by_xpath(\"/html/body/div[1]/div[2]/div[1]/div/div[2]/div/div[3]/span/div[1]/span/div/div/div[6]/ul[1]/li[26]/span/a/span\").click()"
   ]
  },
  {
   "cell_type": "code",
   "execution_count": 611,
   "metadata": {},
   "outputs": [],
   "source": [
    "cpu2 = driver.find_element_by_xpath(\"/html/body/div[1]/div[2]/div[1]/div/div[2]/div/div[3]/span/div[1]/span/div/div/div[6]/ul[1]/li[28]/span/a/span\").click()"
   ]
  },
  {
   "cell_type": "code",
   "execution_count": 623,
   "metadata": {
    "scrolled": true
   },
   "outputs": [
    {
     "data": {
      "text/plain": [
       "[<selenium.webdriver.remote.webelement.WebElement (session=\"c7327889933ab3908d16afb648c9c994\", element=\"3d482483-6793-42e4-bc57-2c6ab76ac89d\")>,\n",
       " <selenium.webdriver.remote.webelement.WebElement (session=\"c7327889933ab3908d16afb648c9c994\", element=\"8e96699e-13c4-4cac-83cd-5643210c2809\")>,\n",
       " <selenium.webdriver.remote.webelement.WebElement (session=\"c7327889933ab3908d16afb648c9c994\", element=\"12d1a8f0-b709-4f68-8d4b-96d36931a52c\")>,\n",
       " <selenium.webdriver.remote.webelement.WebElement (session=\"c7327889933ab3908d16afb648c9c994\", element=\"49d456f6-7374-4d15-9a25-1031377227b4\")>,\n",
       " <selenium.webdriver.remote.webelement.WebElement (session=\"c7327889933ab3908d16afb648c9c994\", element=\"9e23e3f9-7e62-4fe1-80ba-8d2fd9177e26\")>,\n",
       " <selenium.webdriver.remote.webelement.WebElement (session=\"c7327889933ab3908d16afb648c9c994\", element=\"b646c0e0-8cb1-4c08-8f56-dcc2d689112b\")>,\n",
       " <selenium.webdriver.remote.webelement.WebElement (session=\"c7327889933ab3908d16afb648c9c994\", element=\"cb696f41-6a91-4433-bd58-d538b4593d35\")>,\n",
       " <selenium.webdriver.remote.webelement.WebElement (session=\"c7327889933ab3908d16afb648c9c994\", element=\"675d6cbc-df7b-4879-815d-b997d2d0550d\")>,\n",
       " <selenium.webdriver.remote.webelement.WebElement (session=\"c7327889933ab3908d16afb648c9c994\", element=\"5523f7bc-8db7-4ebc-96ca-53487a3eb160\")>,\n",
       " <selenium.webdriver.remote.webelement.WebElement (session=\"c7327889933ab3908d16afb648c9c994\", element=\"174734fe-fe78-4808-a667-2175fe0f4a3b\")>,\n",
       " <selenium.webdriver.remote.webelement.WebElement (session=\"c7327889933ab3908d16afb648c9c994\", element=\"d395c121-750c-4cd2-84cd-c05e6f04eee7\")>,\n",
       " <selenium.webdriver.remote.webelement.WebElement (session=\"c7327889933ab3908d16afb648c9c994\", element=\"e0c11439-da7c-4616-85cb-3583e4673736\")>,\n",
       " <selenium.webdriver.remote.webelement.WebElement (session=\"c7327889933ab3908d16afb648c9c994\", element=\"5cef820b-d96a-47f8-8298-f32eb67a1fd5\")>,\n",
       " <selenium.webdriver.remote.webelement.WebElement (session=\"c7327889933ab3908d16afb648c9c994\", element=\"5d5f5072-3c94-4a29-be50-b7ac43a85699\")>,\n",
       " <selenium.webdriver.remote.webelement.WebElement (session=\"c7327889933ab3908d16afb648c9c994\", element=\"a6eef590-b545-48c5-bf14-a750b3a9a1a2\")>,\n",
       " <selenium.webdriver.remote.webelement.WebElement (session=\"c7327889933ab3908d16afb648c9c994\", element=\"99cc153a-31e9-48f0-a1bc-f0563f689107\")>,\n",
       " <selenium.webdriver.remote.webelement.WebElement (session=\"c7327889933ab3908d16afb648c9c994\", element=\"8daccb99-17c0-4c20-9e7e-aba140eb37ac\")>,\n",
       " <selenium.webdriver.remote.webelement.WebElement (session=\"c7327889933ab3908d16afb648c9c994\", element=\"e785b04e-5b70-449b-b9f7-940919dc2720\")>,\n",
       " <selenium.webdriver.remote.webelement.WebElement (session=\"c7327889933ab3908d16afb648c9c994\", element=\"aa0f9857-8fcc-47dd-968c-8b07395d8112\")>,\n",
       " <selenium.webdriver.remote.webelement.WebElement (session=\"c7327889933ab3908d16afb648c9c994\", element=\"f079bce9-957e-4005-a929-fbd76072080b\")>,\n",
       " <selenium.webdriver.remote.webelement.WebElement (session=\"c7327889933ab3908d16afb648c9c994\", element=\"bfab02de-3fb6-4fb5-a7af-997c06f7eea9\")>,\n",
       " <selenium.webdriver.remote.webelement.WebElement (session=\"c7327889933ab3908d16afb648c9c994\", element=\"99fa7838-334f-4a49-acae-2c67cb6bd0f2\")>,\n",
       " <selenium.webdriver.remote.webelement.WebElement (session=\"c7327889933ab3908d16afb648c9c994\", element=\"9c5b015d-3a5c-4fb6-aa73-29d10e74bd7d\")>,\n",
       " <selenium.webdriver.remote.webelement.WebElement (session=\"c7327889933ab3908d16afb648c9c994\", element=\"98720425-c886-4218-8317-815f6abecd5b\")>]"
      ]
     },
     "execution_count": 623,
     "metadata": {},
     "output_type": "execute_result"
    }
   ],
   "source": [
    "title = driver.find_elements_by_xpath(\"//span[@class='a-size-medium a-color-base a-text-normal']\")\n",
    "title"
   ]
  },
  {
   "cell_type": "code",
   "execution_count": 624,
   "metadata": {},
   "outputs": [
    {
     "data": {
      "text/plain": [
       "['HP Pavilion (2021) Thin & Light 11th Gen Core i7 Laptop, 16 GB RAM, 1TB SSD, Iris Xe Graphics, 14\" (35.56cms) FHD Screen, Windows 10, MS Office, Backlit Keyboard (14-dv0058TU)',\n",
       " '(Renewed) Dell Intel Core i7 4th Gen 14 Inch(35.56 cms) 1366x768 HD Laptop (8GB RAM/500GB HDD/Windows 10 Pro/MS Office 2019/Intel Integrated HD Graphics 4600/2.1Kg,Silver) Latitude E6440',\n",
       " 'HP Pavilion x360 (2021) 14\" (35.56cms) FHD Touchscreen Laptop, 11th Gen Core i7, 8 GB RAM, 512GB SSD, 2-in-1 Convertible, Windows 10, MS Office, Finger Print Reader (14-dw1040TU)',\n",
       " 'Mi Notebook Horizon Edition 14 Intel Core i7-10510U 10th Gen 14-inch (35.56 cms) Thin and Light Laptop(8GB/512GB SSD/Windows 10/Nvidia MX350 2GB Graphics/Grey/1.35Kg), XMA1904-AF+Webcam',\n",
       " 'HP Pavilion Gaming 10th Gen Intel Core i7 Processor 15.6-inch FHD Gaming Laptop (16GB/512GB SSD + 32GB Intel Optane/Windows 10/NVIDIA 1650Ti 4GB/Shadow Black), 15-dk1509TX',\n",
       " '(Renewed) Dell Intel Core i7 4th Gen 14 Inch(35.56cms)1366x768 HD Laptop (16GB RAM/128GB SSD & 1TB HDD/Windows 10 Pro/MS Office/Intel Integrated HD Graphics 4600/2.1Kg,Silver) Latitude E6440',\n",
       " 'Lenovo Yoga 7 11th Gen Intel Core i7 14\" (35.56cms) Full HD IPS 2-in-1 Touchscreen Laptop (16GB/512GB SSD/Windows 10/MS Office 2019/Fingerprint Reader/Slate Grey/Aluminium Surface/1.43Kg), 82BH004HIN',\n",
       " '(Renewed) Dell Intel Core i7 4th Gen 14 Inch(35.56cms)1366x768 HD Laptop (16GB RAM/128GB SSD & 2TB HDD/Windows 10 Pro/MS Office/Intel Integrated HD Graphics 4600/2.1Kg,Silver) Latitude E6440',\n",
       " 'Dell Inspiron 5410 14\" FHD Touch Display 2in1 Laptop (i7-1165G7 / 16GB / 512GB SSD / Integrated Graphics / Win 10 + MSO / Backlit KB + FPR + Active Pen / Silver Metal Color) D560469WIN9S',\n",
       " '(Renewed) Dell Intel Core i7 4th Gen 14 Inch(35.56 cms) 1366x768 HD Laptop (4GB RAM/320GB HDD/Windows 10 Pro/MS Office 2019/Intel Integrated HD Graphics 4600/2.1Kg,Silver) Latitude E6440']"
      ]
     },
     "execution_count": 624,
     "metadata": {},
     "output_type": "execute_result"
    }
   ],
   "source": [
    "titles=[]\n",
    "for i in title:\n",
    "    titles.append(i.text)\n",
    "titles[0:10]"
   ]
  },
  {
   "cell_type": "code",
   "execution_count": 625,
   "metadata": {
    "scrolled": true
   },
   "outputs": [
    {
     "data": {
      "text/plain": [
       "[<selenium.webdriver.remote.webelement.WebElement (session=\"c7327889933ab3908d16afb648c9c994\", element=\"2bbe7c12-9709-47df-87d7-0272fb76e434\")>,\n",
       " <selenium.webdriver.remote.webelement.WebElement (session=\"c7327889933ab3908d16afb648c9c994\", element=\"83d5f5fd-9805-42f8-b1e0-f4cfbe7620bd\")>,\n",
       " <selenium.webdriver.remote.webelement.WebElement (session=\"c7327889933ab3908d16afb648c9c994\", element=\"df8f3c1d-761c-4dab-82ad-098d7de28f6d\")>,\n",
       " <selenium.webdriver.remote.webelement.WebElement (session=\"c7327889933ab3908d16afb648c9c994\", element=\"0a9801a5-4ec2-422b-bae2-0b11f4bad105\")>,\n",
       " <selenium.webdriver.remote.webelement.WebElement (session=\"c7327889933ab3908d16afb648c9c994\", element=\"6243b8b0-8e29-44a8-ad3e-00cee963a081\")>,\n",
       " <selenium.webdriver.remote.webelement.WebElement (session=\"c7327889933ab3908d16afb648c9c994\", element=\"d7906e34-012e-41fa-bce8-bc37a5d143da\")>,\n",
       " <selenium.webdriver.remote.webelement.WebElement (session=\"c7327889933ab3908d16afb648c9c994\", element=\"e3d5edf8-440d-491f-970d-8fdefc3fef27\")>,\n",
       " <selenium.webdriver.remote.webelement.WebElement (session=\"c7327889933ab3908d16afb648c9c994\", element=\"6908f177-b67f-4b22-9899-506b32e0feba\")>,\n",
       " <selenium.webdriver.remote.webelement.WebElement (session=\"c7327889933ab3908d16afb648c9c994\", element=\"a1969676-5d02-4434-a57d-fbaad18e9a96\")>,\n",
       " <selenium.webdriver.remote.webelement.WebElement (session=\"c7327889933ab3908d16afb648c9c994\", element=\"60c89d61-8de9-4701-84ee-5632ffec26a8\")>,\n",
       " <selenium.webdriver.remote.webelement.WebElement (session=\"c7327889933ab3908d16afb648c9c994\", element=\"491d3730-6019-48e8-bb39-d38411f5d08d\")>,\n",
       " <selenium.webdriver.remote.webelement.WebElement (session=\"c7327889933ab3908d16afb648c9c994\", element=\"64895930-3bf4-4da3-821f-869875b0f58b\")>,\n",
       " <selenium.webdriver.remote.webelement.WebElement (session=\"c7327889933ab3908d16afb648c9c994\", element=\"cffdc72d-2ed6-4871-9388-fda4a2ef5311\")>,\n",
       " <selenium.webdriver.remote.webelement.WebElement (session=\"c7327889933ab3908d16afb648c9c994\", element=\"8c4581a0-f775-48fe-bea0-221d586a92c5\")>,\n",
       " <selenium.webdriver.remote.webelement.WebElement (session=\"c7327889933ab3908d16afb648c9c994\", element=\"dd1277a1-255f-404e-9fc7-ed44f5f249df\")>,\n",
       " <selenium.webdriver.remote.webelement.WebElement (session=\"c7327889933ab3908d16afb648c9c994\", element=\"6f7fa30c-e0c3-47dc-a460-7a5f321924f8\")>,\n",
       " <selenium.webdriver.remote.webelement.WebElement (session=\"c7327889933ab3908d16afb648c9c994\", element=\"16f074e8-f5ce-4d1f-8dde-525040a32eec\")>,\n",
       " <selenium.webdriver.remote.webelement.WebElement (session=\"c7327889933ab3908d16afb648c9c994\", element=\"5763b1d1-8b94-49de-b7bc-45640b8b90b0\")>,\n",
       " <selenium.webdriver.remote.webelement.WebElement (session=\"c7327889933ab3908d16afb648c9c994\", element=\"13760e4e-65e5-439b-9c51-f0716188eef6\")>,\n",
       " <selenium.webdriver.remote.webelement.WebElement (session=\"c7327889933ab3908d16afb648c9c994\", element=\"d40b5bd5-940b-45b5-8244-0b977a54a98f\")>,\n",
       " <selenium.webdriver.remote.webelement.WebElement (session=\"c7327889933ab3908d16afb648c9c994\", element=\"8b736f3d-e69d-4f28-9ad6-b6ea9d0e0043\")>,\n",
       " <selenium.webdriver.remote.webelement.WebElement (session=\"c7327889933ab3908d16afb648c9c994\", element=\"f0c76bf1-88de-4495-969c-5a0c4e3e541f\")>,\n",
       " <selenium.webdriver.remote.webelement.WebElement (session=\"c7327889933ab3908d16afb648c9c994\", element=\"cfbd99d0-d8a8-4364-8dfe-df9a76d9b9e9\")>,\n",
       " <selenium.webdriver.remote.webelement.WebElement (session=\"c7327889933ab3908d16afb648c9c994\", element=\"4bea4803-1fb6-40a0-acb6-16bfbfd3ce81\")>]"
      ]
     },
     "execution_count": 625,
     "metadata": {},
     "output_type": "execute_result"
    }
   ],
   "source": [
    "price = driver.find_elements_by_xpath(\"//span[@class='a-price-whole']\")\n",
    "price\n"
   ]
  },
  {
   "cell_type": "code",
   "execution_count": 626,
   "metadata": {},
   "outputs": [
    {
     "data": {
      "text/plain": [
       "['84,990',\n",
       " '41,999',\n",
       " '78,903',\n",
       " '59,999',\n",
       " '86,990',\n",
       " '46,999',\n",
       " '96,935',\n",
       " '54,999',\n",
       " '91,100',\n",
       " '39,999']"
      ]
     },
     "execution_count": 626,
     "metadata": {},
     "output_type": "execute_result"
    }
   ],
   "source": [
    "prices = []\n",
    "for i in price:\n",
    "    prices.append(i.text)\n",
    "prices[:10]"
   ]
  },
  {
   "cell_type": "code",
   "execution_count": 627,
   "metadata": {},
   "outputs": [],
   "source": [
    "urls = []\n",
    "for i in driver.find_elements_by_xpath(\"//a[@class='a-link-normal a-text-normal']\"):\n",
    "    urls.append(i.get_attribute(\"href\"))"
   ]
  },
  {
   "cell_type": "code",
   "execution_count": 628,
   "metadata": {},
   "outputs": [],
   "source": [
    "ratings = []"
   ]
  },
  {
   "cell_type": "code",
   "execution_count": 629,
   "metadata": {
    "scrolled": true
   },
   "outputs": [],
   "source": [
    "for i in urls[:10]:\n",
    "    driver.get(i)\n",
    "    time.sleep(3)\n",
    "            \n",
    "    try:\n",
    "        ra = driver.find_element_by_xpath(\"//span[@class = 'a-size-medium a-color-base']\")\n",
    "        ratings.append(ra.text)\n",
    "    except:\n",
    "        ratings.append('-')"
   ]
  },
  {
   "cell_type": "code",
   "execution_count": 630,
   "metadata": {},
   "outputs": [
    {
     "data": {
      "text/plain": [
       "['4.5 out of 5',\n",
       " '-',\n",
       " '3.9 out of 5',\n",
       " '4.4 out of 5',\n",
       " '4.2 out of 5',\n",
       " '-',\n",
       " '4.1 out of 5',\n",
       " '-',\n",
       " '4.5 out of 5',\n",
       " '-']"
      ]
     },
     "execution_count": 630,
     "metadata": {},
     "output_type": "execute_result"
    }
   ],
   "source": [
    "ratings"
   ]
  },
  {
   "cell_type": "code",
   "execution_count": 631,
   "metadata": {},
   "outputs": [
    {
     "name": "stdout",
     "output_type": "stream",
     "text": [
      "24 10\n"
     ]
    }
   ],
   "source": [
    "print(len(prices),len(ratings))"
   ]
  },
  {
   "cell_type": "code",
   "execution_count": 633,
   "metadata": {},
   "outputs": [
    {
     "data": {
      "text/html": [
       "<div>\n",
       "<style scoped>\n",
       "    .dataframe tbody tr th:only-of-type {\n",
       "        vertical-align: middle;\n",
       "    }\n",
       "\n",
       "    .dataframe tbody tr th {\n",
       "        vertical-align: top;\n",
       "    }\n",
       "\n",
       "    .dataframe thead th {\n",
       "        text-align: right;\n",
       "    }\n",
       "</style>\n",
       "<table border=\"1\" class=\"dataframe\">\n",
       "  <thead>\n",
       "    <tr style=\"text-align: right;\">\n",
       "      <th></th>\n",
       "      <th>title</th>\n",
       "      <th>price</th>\n",
       "      <th>rating</th>\n",
       "    </tr>\n",
       "  </thead>\n",
       "  <tbody>\n",
       "    <tr>\n",
       "      <th>0</th>\n",
       "      <td>HP Pavilion (2021) Thin &amp; Light 11th Gen Core ...</td>\n",
       "      <td>84,990</td>\n",
       "      <td>4.5 out of 5</td>\n",
       "    </tr>\n",
       "    <tr>\n",
       "      <th>1</th>\n",
       "      <td>(Renewed) Dell Intel Core i7 4th Gen 14 Inch(3...</td>\n",
       "      <td>41,999</td>\n",
       "      <td>-</td>\n",
       "    </tr>\n",
       "    <tr>\n",
       "      <th>2</th>\n",
       "      <td>HP Pavilion x360 (2021) 14\" (35.56cms) FHD Tou...</td>\n",
       "      <td>78,903</td>\n",
       "      <td>3.9 out of 5</td>\n",
       "    </tr>\n",
       "    <tr>\n",
       "      <th>3</th>\n",
       "      <td>Mi Notebook Horizon Edition 14 Intel Core i7-1...</td>\n",
       "      <td>59,999</td>\n",
       "      <td>4.4 out of 5</td>\n",
       "    </tr>\n",
       "    <tr>\n",
       "      <th>4</th>\n",
       "      <td>HP Pavilion Gaming 10th Gen Intel Core i7 Proc...</td>\n",
       "      <td>86,990</td>\n",
       "      <td>4.2 out of 5</td>\n",
       "    </tr>\n",
       "    <tr>\n",
       "      <th>5</th>\n",
       "      <td>(Renewed) Dell Intel Core i7 4th Gen 14 Inch(3...</td>\n",
       "      <td>46,999</td>\n",
       "      <td>-</td>\n",
       "    </tr>\n",
       "    <tr>\n",
       "      <th>6</th>\n",
       "      <td>Lenovo Yoga 7 11th Gen Intel Core i7 14\" (35.5...</td>\n",
       "      <td>96,935</td>\n",
       "      <td>4.1 out of 5</td>\n",
       "    </tr>\n",
       "    <tr>\n",
       "      <th>7</th>\n",
       "      <td>(Renewed) Dell Intel Core i7 4th Gen 14 Inch(3...</td>\n",
       "      <td>54,999</td>\n",
       "      <td>-</td>\n",
       "    </tr>\n",
       "    <tr>\n",
       "      <th>8</th>\n",
       "      <td>Dell Inspiron 5410 14\" FHD Touch Display 2in1 ...</td>\n",
       "      <td>91,100</td>\n",
       "      <td>4.5 out of 5</td>\n",
       "    </tr>\n",
       "    <tr>\n",
       "      <th>9</th>\n",
       "      <td>(Renewed) Dell Intel Core i7 4th Gen 14 Inch(3...</td>\n",
       "      <td>39,999</td>\n",
       "      <td>-</td>\n",
       "    </tr>\n",
       "  </tbody>\n",
       "</table>\n",
       "</div>"
      ],
      "text/plain": [
       "                                               title   price        rating\n",
       "0  HP Pavilion (2021) Thin & Light 11th Gen Core ...  84,990  4.5 out of 5\n",
       "1  (Renewed) Dell Intel Core i7 4th Gen 14 Inch(3...  41,999             -\n",
       "2  HP Pavilion x360 (2021) 14\" (35.56cms) FHD Tou...  78,903  3.9 out of 5\n",
       "3  Mi Notebook Horizon Edition 14 Intel Core i7-1...  59,999  4.4 out of 5\n",
       "4  HP Pavilion Gaming 10th Gen Intel Core i7 Proc...  86,990  4.2 out of 5\n",
       "5  (Renewed) Dell Intel Core i7 4th Gen 14 Inch(3...  46,999             -\n",
       "6  Lenovo Yoga 7 11th Gen Intel Core i7 14\" (35.5...  96,935  4.1 out of 5\n",
       "7  (Renewed) Dell Intel Core i7 4th Gen 14 Inch(3...  54,999             -\n",
       "8  Dell Inspiron 5410 14\" FHD Touch Display 2in1 ...  91,100  4.5 out of 5\n",
       "9  (Renewed) Dell Intel Core i7 4th Gen 14 Inch(3...  39,999             -"
      ]
     },
     "execution_count": 633,
     "metadata": {},
     "output_type": "execute_result"
    }
   ],
   "source": [
    "amaz = pd.DataFrame({})\n",
    "amaz['title']=titles[:10]\n",
    "amaz['price']= prices[:10]\n",
    "amaz['rating'] = ratings\n",
    "\n",
    "amaz"
   ]
  },
  {
   "cell_type": "code",
   "execution_count": null,
   "metadata": {},
   "outputs": [],
   "source": []
  }
 ],
 "metadata": {
  "kernelspec": {
   "display_name": "Python 3",
   "language": "python",
   "name": "python3"
  },
  "language_info": {
   "codemirror_mode": {
    "name": "ipython",
    "version": 3
   },
   "file_extension": ".py",
   "mimetype": "text/x-python",
   "name": "python",
   "nbconvert_exporter": "python",
   "pygments_lexer": "ipython3",
   "version": "3.8.5"
  }
 },
 "nbformat": 4,
 "nbformat_minor": 4
}
